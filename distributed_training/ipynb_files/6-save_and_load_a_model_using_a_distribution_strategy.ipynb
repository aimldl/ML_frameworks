{
 "cells": [
  {
   "cell_type": "markdown",
   "metadata": {
    "id": "1l8bWGmIJuQa"
   },
   "source": [
    "##### Copyright 2019 The TensorFlow Authors.\n"
   ]
  },
  {
   "cell_type": "code",
   "execution_count": 1,
   "metadata": {
    "cellView": "form",
    "execution": {
     "iopub.execute_input": "2021-05-19T11:24:07.348876Z",
     "iopub.status.busy": "2021-05-19T11:24:07.348231Z",
     "iopub.status.idle": "2021-05-19T11:24:07.350940Z",
     "shell.execute_reply": "2021-05-19T11:24:07.350367Z"
    },
    "id": "CPSnXS88KFEo"
   },
   "outputs": [],
   "source": [
    "#@title Licensed under the Apache License, Version 2.0 (the \"License\");\n",
    "# you may not use this file except in compliance with the License.\n",
    "# You may obtain a copy of the License at\n",
    "#\n",
    "# https://www.apache.org/licenses/LICENSE-2.0\n",
    "#\n",
    "# Unless required by applicable law or agreed to in writing, software\n",
    "# distributed under the License is distributed on an \"AS IS\" BASIS,\n",
    "# WITHOUT WARRANTIES OR CONDITIONS OF ANY KIND, either express or implied.\n",
    "# See the License for the specific language governing permissions and\n",
    "# limitations under the License."
   ]
  },
  {
   "cell_type": "markdown",
   "metadata": {
    "id": "89xNCIO5hiCj"
   },
   "source": [
    "# [Save and load a model using a distribution strategy](https://www.tensorflow.org/tutorials/distribute/save_and_load)"
   ]
  },
  {
   "cell_type": "markdown",
   "metadata": {
    "id": "9Ejs4QVxIdAm"
   },
   "source": [
    "<table class=\"tfo-notebook-buttons\" align=\"left\">\n",
    "  <td>\n",
    "    <a target=\"_blank\" href=\"https://www.tensorflow.org/tutorials/distribute/save_and_load\"><img src=\"https://www.tensorflow.org/images/tf_logo_32px.png\" />View on TensorFlow.org</a>\n",
    "  </td>\n",
    "  <td>\n",
    "    <a target=\"_blank\" href=\"https://colab.research.google.com/github/tensorflow/docs/blob/master/site/en/tutorials/distribute/save_and_load.ipynb\"><img src=\"https://www.tensorflow.org/images/colab_logo_32px.png\" />Run in Google Colab</a>\n",
    "  </td>\n",
    "  <td>\n",
    "    <a target=\"_blank\" href=\"https://github.com/tensorflow/docs/blob/master/site/en/tutorials/distribute/save_and_load.ipynb\"><img src=\"https://www.tensorflow.org/images/GitHub-Mark-32px.png\" />View source on GitHub</a>\n",
    "  </td>\n",
    "  <td>\n",
    "    <a href=\"https://storage.googleapis.com/tensorflow_docs/docs/site/en/tutorials/distribute/save_and_load.ipynb\"><img src=\"https://www.tensorflow.org/images/download_logo_32px.png\" />Download notebook</a>\n",
    "  </td>\n",
    "\n",
    "</table>"
   ]
  },
  {
   "cell_type": "markdown",
   "metadata": {
    "id": "A0lG6qgThxAS"
   },
   "source": [
    "## Overview\n",
    "\n",
    "It's common to save and load a model during training. There are two sets of APIs for saving and loading a keras model: a high-level API, and a low-level API. This tutorial demonstrates how you can use the SavedModel APIs when using `tf.distribute.Strategy`. To learn about SavedModel and serialization in general, please read the [saved model guide](../../guide/saved_model.ipynb), and the [Keras model serialization guide](../../guide/keras/save_and_serialize.ipynb). Let's start with a simple example: "
   ]
  },
  {
   "cell_type": "markdown",
   "metadata": {
    "id": "FITHltVKQ4eZ"
   },
   "source": [
    "Import dependencies:"
   ]
  },
  {
   "cell_type": "code",
   "execution_count": 2,
   "metadata": {
    "execution": {
     "iopub.execute_input": "2021-05-19T11:24:07.358547Z",
     "iopub.status.busy": "2021-05-19T11:24:07.357923Z",
     "iopub.status.idle": "2021-05-19T11:24:14.686013Z",
     "shell.execute_reply": "2021-05-19T11:24:14.685387Z"
    },
    "id": "RWG5HchAiOrZ"
   },
   "outputs": [],
   "source": [
    "import tensorflow_datasets as tfds\n",
    "\n",
    "import tensorflow as tf\n"
   ]
  },
  {
   "cell_type": "markdown",
   "metadata": {
    "id": "qqapWj98ptNV"
   },
   "source": [
    "Prepare the data and model using `tf.distribute.Strategy`:"
   ]
  },
  {
   "cell_type": "code",
   "execution_count": 3,
   "metadata": {
    "execution": {
     "iopub.execute_input": "2021-05-19T11:24:15.387620Z",
     "iopub.status.busy": "2021-05-19T11:24:15.386813Z",
     "iopub.status.idle": "2021-05-19T11:24:15.686931Z",
     "shell.execute_reply": "2021-05-19T11:24:15.687289Z"
    },
    "id": "yrYiAf_ziRyw"
   },
   "outputs": [
    {
     "name": "stdout",
     "output_type": "stream",
     "text": [
      "WARNING:tensorflow:Collective ops is not configured at program startup. Some performance features may not be enabled.\n",
      "INFO:tensorflow:Using MirroredStrategy with devices ('/job:localhost/replica:0/task:0/device:GPU:0',)\n"
     ]
    }
   ],
   "source": [
    "mirrored_strategy = tf.distribute.MirroredStrategy()\n",
    "\n",
    "def get_data():\n",
    "  datasets, ds_info = tfds.load(name='mnist', with_info=True, as_supervised=True)\n",
    "  mnist_train, mnist_test = datasets['train'], datasets['test']\n",
    "\n",
    "  BUFFER_SIZE = 10000\n",
    "\n",
    "  BATCH_SIZE_PER_REPLICA = 64\n",
    "  BATCH_SIZE = BATCH_SIZE_PER_REPLICA * mirrored_strategy.num_replicas_in_sync\n",
    "\n",
    "  def scale(image, label):\n",
    "    image = tf.cast(image, tf.float32)\n",
    "    image /= 255\n",
    "\n",
    "    return image, label\n",
    "\n",
    "  train_dataset = mnist_train.map(scale).cache().shuffle(BUFFER_SIZE).batch(BATCH_SIZE)\n",
    "  eval_dataset = mnist_test.map(scale).batch(BATCH_SIZE)\n",
    "\n",
    "  return train_dataset, eval_dataset\n",
    "\n",
    "def get_model():\n",
    "  with mirrored_strategy.scope():\n",
    "    model = tf.keras.Sequential([\n",
    "        tf.keras.layers.Conv2D(32, 3, activation='relu', input_shape=(28, 28, 1)),\n",
    "        tf.keras.layers.MaxPooling2D(),\n",
    "        tf.keras.layers.Flatten(),\n",
    "        tf.keras.layers.Dense(64, activation='relu'),\n",
    "        tf.keras.layers.Dense(10)\n",
    "    ])\n",
    "\n",
    "    model.compile(loss=tf.keras.losses.SparseCategoricalCrossentropy(from_logits=True),\n",
    "                  optimizer=tf.keras.optimizers.Adam(),\n",
    "                  metrics=[tf.metrics.SparseCategoricalAccuracy()])\n",
    "    return model"
   ]
  },
  {
   "cell_type": "markdown",
   "metadata": {
    "id": "qmU4Y3feS9Na"
   },
   "source": [
    "Train the model: "
   ]
  },
  {
   "cell_type": "code",
   "execution_count": 4,
   "metadata": {
    "execution": {
     "iopub.execute_input": "2021-05-19T11:24:15.692252Z",
     "iopub.status.busy": "2021-05-19T11:24:15.691645Z",
     "iopub.status.idle": "2021-05-19T11:24:29.933237Z",
     "shell.execute_reply": "2021-05-19T11:24:29.932630Z"
    },
    "id": "zmGurbJmS_vN"
   },
   "outputs": [
    {
     "name": "stdout",
     "output_type": "stream",
     "text": [
      "INFO:tensorflow:Reduce to /job:localhost/replica:0/task:0/device:CPU:0 then broadcast to ('/job:localhost/replica:0/task:0/device:CPU:0',).\n",
      "INFO:tensorflow:Reduce to /job:localhost/replica:0/task:0/device:CPU:0 then broadcast to ('/job:localhost/replica:0/task:0/device:CPU:0',).\n",
      "INFO:tensorflow:Reduce to /job:localhost/replica:0/task:0/device:CPU:0 then broadcast to ('/job:localhost/replica:0/task:0/device:CPU:0',).\n",
      "INFO:tensorflow:Reduce to /job:localhost/replica:0/task:0/device:CPU:0 then broadcast to ('/job:localhost/replica:0/task:0/device:CPU:0',).\n",
      "INFO:tensorflow:Reduce to /job:localhost/replica:0/task:0/device:CPU:0 then broadcast to ('/job:localhost/replica:0/task:0/device:CPU:0',).\n",
      "INFO:tensorflow:Reduce to /job:localhost/replica:0/task:0/device:CPU:0 then broadcast to ('/job:localhost/replica:0/task:0/device:CPU:0',).\n",
      "INFO:tensorflow:Reduce to /job:localhost/replica:0/task:0/device:CPU:0 then broadcast to ('/job:localhost/replica:0/task:0/device:CPU:0',).\n",
      "INFO:tensorflow:Reduce to /job:localhost/replica:0/task:0/device:CPU:0 then broadcast to ('/job:localhost/replica:0/task:0/device:CPU:0',).\n",
      "Epoch 1/2\n",
      "INFO:tensorflow:Reduce to /job:localhost/replica:0/task:0/device:CPU:0 then broadcast to ('/job:localhost/replica:0/task:0/device:CPU:0',).\n"
     ]
    },
    {
     "name": "stderr",
     "output_type": "stream",
     "text": [
      "INFO:tensorflow:Reduce to /job:localhost/replica:0/task:0/device:CPU:0 then broadcast to ('/job:localhost/replica:0/task:0/device:CPU:0',).\n"
     ]
    },
    {
     "name": "stdout",
     "output_type": "stream",
     "text": [
      "INFO:tensorflow:Reduce to /job:localhost/replica:0/task:0/device:CPU:0 then broadcast to ('/job:localhost/replica:0/task:0/device:CPU:0',).\n"
     ]
    },
    {
     "name": "stderr",
     "output_type": "stream",
     "text": [
      "INFO:tensorflow:Reduce to /job:localhost/replica:0/task:0/device:CPU:0 then broadcast to ('/job:localhost/replica:0/task:0/device:CPU:0',).\n"
     ]
    },
    {
     "name": "stdout",
     "output_type": "stream",
     "text": [
      "938/938 [==============================] - 8s 4ms/step - loss: 0.2084 - sparse_categorical_accuracy: 0.9405\n",
      "Epoch 2/2\n",
      "938/938 [==============================] - 3s 3ms/step - loss: 0.0688 - sparse_categorical_accuracy: 0.9797\n"
     ]
    },
    {
     "data": {
      "text/plain": [
       "<tensorflow.python.keras.callbacks.History at 0x7fc50013cf90>"
      ]
     },
     "execution_count": 1,
     "metadata": {},
     "output_type": "execute_result"
    }
   ],
   "source": [
    "model = get_model()\n",
    "train_dataset, eval_dataset = get_data()\n",
    "model.fit(train_dataset, epochs=2)"
   ]
  },
  {
   "cell_type": "markdown",
   "metadata": {
    "id": "L01wjgvRizHS"
   },
   "source": [
    "## Save and load the model\n",
    "\n",
    "Now that you have a simple model to work with, let's take a look at the saving/loading APIs. \n",
    "There are two sets of APIs available:\n",
    "\n",
    "*   High level keras `model.save` and `tf.keras.models.load_model`\n",
    "*   Low level `tf.saved_model.save` and `tf.saved_model.load`\n"
   ]
  },
  {
   "cell_type": "markdown",
   "metadata": {
    "id": "FX_IF2F1tvFs"
   },
   "source": [
    "### The Keras APIs"
   ]
  },
  {
   "cell_type": "markdown",
   "metadata": {
    "id": "O8xfceg4Z3H_"
   },
   "source": [
    "Here is an example of saving and loading a model with the Keras APIs:"
   ]
  },
  {
   "cell_type": "code",
   "execution_count": 5,
   "metadata": {
    "execution": {
     "iopub.execute_input": "2021-05-19T11:24:29.939783Z",
     "iopub.status.busy": "2021-05-19T11:24:29.938942Z",
     "iopub.status.idle": "2021-05-19T11:24:30.537273Z",
     "shell.execute_reply": "2021-05-19T11:24:30.537736Z"
    },
    "id": "LYOStjV5knTQ"
   },
   "outputs": [
    {
     "name": "stdout",
     "output_type": "stream",
     "text": [
      "INFO:tensorflow:Assets written to: /tmp/keras_save/assets\n"
     ]
    },
    {
     "name": "stderr",
     "output_type": "stream",
     "text": [
      "INFO:tensorflow:Assets written to: /tmp/keras_save/assets\n"
     ]
    }
   ],
   "source": [
    "keras_model_path = \"/tmp/keras_save\"\n",
    "model.save(keras_model_path)"
   ]
  },
  {
   "cell_type": "markdown",
   "metadata": {
    "id": "yvQIdQp3zNMp"
   },
   "source": [
    "Restore the model without `tf.distribute.Strategy`:"
   ]
  },
  {
   "cell_type": "code",
   "execution_count": 6,
   "metadata": {
    "execution": {
     "iopub.execute_input": "2021-05-19T11:24:30.543104Z",
     "iopub.status.busy": "2021-05-19T11:24:30.542098Z",
     "iopub.status.idle": "2021-05-19T11:24:35.765407Z",
     "shell.execute_reply": "2021-05-19T11:24:35.764889Z"
    },
    "id": "WrXAAVtrzRgv"
   },
   "outputs": [
    {
     "name": "stdout",
     "output_type": "stream",
     "text": [
      "Epoch 1/2\n",
      "938/938 [==============================] - 3s 2ms/step - loss: 0.0497 - sparse_categorical_accuracy: 0.9850\n",
      "Epoch 2/2\n",
      "938/938 [==============================] - 2s 2ms/step - loss: 0.0340 - sparse_categorical_accuracy: 0.9894\n"
     ]
    },
    {
     "data": {
      "text/plain": [
       "<tensorflow.python.keras.callbacks.History at 0x7fc48c795c10>"
      ]
     },
     "execution_count": 1,
     "metadata": {},
     "output_type": "execute_result"
    }
   ],
   "source": [
    "restored_keras_model = tf.keras.models.load_model(keras_model_path)\n",
    "restored_keras_model.fit(train_dataset, epochs=2)"
   ]
  },
  {
   "cell_type": "markdown",
   "metadata": {
    "id": "gYAnskzorda-"
   },
   "source": [
    "After restoring the model, you can continue training on it, even without needing to call `compile()` again, since it is already compiled before saving. The model is saved in the TensorFlow's standard `SavedModel` proto format. For more information, please refer to [the guide to `saved_model` format](../../guide/saved_model.ipynb).\n",
    "\n",
    "Now to load the model and train it using a `tf.distribute.Strategy`:"
   ]
  },
  {
   "cell_type": "code",
   "execution_count": 7,
   "metadata": {
    "execution": {
     "iopub.execute_input": "2021-05-19T11:24:35.770544Z",
     "iopub.status.busy": "2021-05-19T11:24:35.769915Z",
     "iopub.status.idle": "2021-05-19T11:24:53.962037Z",
     "shell.execute_reply": "2021-05-19T11:24:53.962434Z"
    },
    "id": "wROPrJaAqBQz"
   },
   "outputs": [
    {
     "name": "stdout",
     "output_type": "stream",
     "text": [
      "Epoch 1/2\n",
      "938/938 [==============================] - 9s 9ms/step - loss: 0.0490 - sparse_categorical_accuracy: 0.9847\n",
      "Epoch 2/2\n",
      "938/938 [==============================] - 9s 9ms/step - loss: 0.0337 - sparse_categorical_accuracy: 0.9895\n"
     ]
    }
   ],
   "source": [
    "another_strategy = tf.distribute.OneDeviceStrategy(\"/cpu:0\")\n",
    "with another_strategy.scope():\n",
    "  restored_keras_model_ds = tf.keras.models.load_model(keras_model_path)\n",
    "  restored_keras_model_ds.fit(train_dataset, epochs=2)"
   ]
  },
  {
   "cell_type": "markdown",
   "metadata": {
    "id": "PdiiPmL5tQk5"
   },
   "source": [
    "As you can see, loading works as expected with `tf.distribute.Strategy`. The strategy used here does not have to be the same strategy used before saving. "
   ]
  },
  {
   "cell_type": "markdown",
   "metadata": {
    "id": "3CrXIbmFt0f6"
   },
   "source": [
    "### The `tf.saved_model` APIs"
   ]
  },
  {
   "cell_type": "markdown",
   "metadata": {
    "id": "HtGzPp6et4Em"
   },
   "source": [
    "Now let's take a look at the lower level APIs. Saving the model is similar to the keras API:"
   ]
  },
  {
   "cell_type": "code",
   "execution_count": 8,
   "metadata": {
    "execution": {
     "iopub.execute_input": "2021-05-19T11:24:53.971002Z",
     "iopub.status.busy": "2021-05-19T11:24:53.970371Z",
     "iopub.status.idle": "2021-05-19T11:24:54.542115Z",
     "shell.execute_reply": "2021-05-19T11:24:54.541620Z"
    },
    "id": "4y6T31APuCqK"
   },
   "outputs": [
    {
     "name": "stdout",
     "output_type": "stream",
     "text": [
      "WARNING:tensorflow:FOR KERAS USERS: The object that you are saving contains one or more Keras models or layers. If you are loading the SavedModel with `tf.keras.models.load_model`, continue reading (otherwise, you may ignore the following instructions). Please change your code to save with `tf.keras.models.save_model` or `model.save`, and confirm that the file \"keras.metadata\" exists in the export directory. In the future, Keras will only load the SavedModels that have this file. In other words, `tf.saved_model.save` will no longer write SavedModels that can be recovered as Keras models (this will apply in TF 2.5).\n",
      "\n",
      "FOR DEVS: If you are overwriting _tracking_metadata in your class, this property has been used to save metadata in the SavedModel. The metadta field will be deprecated soon, so please move the metadata to a different file.\n"
     ]
    },
    {
     "name": "stderr",
     "output_type": "stream",
     "text": [
      "WARNING:tensorflow:FOR KERAS USERS: The object that you are saving contains one or more Keras models or layers. If you are loading the SavedModel with `tf.keras.models.load_model`, continue reading (otherwise, you may ignore the following instructions). Please change your code to save with `tf.keras.models.save_model` or `model.save`, and confirm that the file \"keras.metadata\" exists in the export directory. In the future, Keras will only load the SavedModels that have this file. In other words, `tf.saved_model.save` will no longer write SavedModels that can be recovered as Keras models (this will apply in TF 2.5).\n",
      "\n",
      "FOR DEVS: If you are overwriting _tracking_metadata in your class, this property has been used to save metadata in the SavedModel. The metadta field will be deprecated soon, so please move the metadata to a different file.\n"
     ]
    },
    {
     "name": "stdout",
     "output_type": "stream",
     "text": [
      "INFO:tensorflow:Assets written to: /tmp/tf_save/assets\n"
     ]
    },
    {
     "name": "stderr",
     "output_type": "stream",
     "text": [
      "INFO:tensorflow:Assets written to: /tmp/tf_save/assets\n"
     ]
    }
   ],
   "source": [
    "model = get_model()  # get a fresh model\n",
    "saved_model_path = \"/tmp/tf_save\"\n",
    "tf.saved_model.save(model, saved_model_path)"
   ]
  },
  {
   "cell_type": "markdown",
   "metadata": {
    "id": "q1QNRYcwuRll"
   },
   "source": [
    "Loading can be done with `tf.saved_model.load()`. However, since it is an API that is on the lower level (and hence has a wider range of use cases), it does not return a Keras model. Instead, it returns an object that contain functions that can be used to do inference. For example:"
   ]
  },
  {
   "cell_type": "code",
   "execution_count": 9,
   "metadata": {
    "execution": {
     "iopub.execute_input": "2021-05-19T11:24:54.547746Z",
     "iopub.status.busy": "2021-05-19T11:24:54.547110Z",
     "iopub.status.idle": "2021-05-19T11:24:54.677703Z",
     "shell.execute_reply": "2021-05-19T11:24:54.677127Z"
    },
    "id": "aaEKqBSPwAuM"
   },
   "outputs": [],
   "source": [
    "DEFAULT_FUNCTION_KEY = \"serving_default\"\n",
    "loaded = tf.saved_model.load(saved_model_path)\n",
    "inference_func = loaded.signatures[DEFAULT_FUNCTION_KEY]"
   ]
  },
  {
   "cell_type": "markdown",
   "metadata": {
    "id": "x65l7AaHUZCA"
   },
   "source": [
    "The loaded object may contain multiple functions, each associated with a key. The `\"serving_default\"` is the default key for the inference function with a saved Keras model. To do an inference with this function: "
   ]
  },
  {
   "cell_type": "code",
   "execution_count": 10,
   "metadata": {
    "execution": {
     "iopub.execute_input": "2021-05-19T11:24:54.682840Z",
     "iopub.status.busy": "2021-05-19T11:24:54.682208Z",
     "iopub.status.idle": "2021-05-19T11:24:55.074986Z",
     "shell.execute_reply": "2021-05-19T11:24:55.074464Z"
    },
    "id": "5Ore5q8-UjW1"
   },
   "outputs": [
    {
     "name": "stdout",
     "output_type": "stream",
     "text": [
      "{'dense_3': <tf.Tensor: shape=(64, 10), dtype=float32, numpy=\n",
      "array([[ 9.86900330e-02,  2.56505627e-02,  6.05040677e-02,\n",
      "         1.92859955e-02, -8.69618915e-03, -8.14962760e-02,\n",
      "         1.19964391e-01,  1.96488276e-01,  7.19150007e-02,\n",
      "        -1.25337735e-01],\n",
      "       [ 4.44024131e-02, -6.56488240e-02, -3.37046497e-02,\n",
      "        -7.73222297e-02, -5.00319935e-02, -6.20764270e-02,\n",
      "         6.27980977e-02, -1.43302992e-01,  1.46234110e-02,\n",
      "        -1.66247606e-01],\n",
      "       [ 4.87752035e-02,  5.80770224e-02,  5.81264719e-02,\n",
      "        -1.77675337e-02,  8.04929882e-02,  8.13065469e-02,\n",
      "         4.15212996e-02,  1.20495580e-01,  4.82227206e-02,\n",
      "        -1.28097847e-01],\n",
      "       [-2.73536146e-02, -1.46531053e-02, -4.50240262e-02,\n",
      "        -4.36538011e-02, -5.47290295e-02, -7.52463844e-03,\n",
      "         1.14722818e-01, -6.76161200e-02, -3.02019790e-02,\n",
      "        -4.46273237e-02],\n",
      "       [ 5.45107871e-02,  5.13230748e-02, -1.15642205e-01,\n",
      "        -3.87903377e-02,  5.10854125e-02, -7.75071457e-02,\n",
      "         5.53564653e-02, -4.52219509e-02, -1.01954401e-01,\n",
      "        -6.33108020e-02],\n",
      "       [ 1.71833411e-02,  2.02582777e-02,  5.45978136e-02,\n",
      "         2.09878609e-02,  8.60166773e-02,  3.03206239e-02,\n",
      "         1.79198623e-01,  1.31959468e-01,  4.36807796e-02,\n",
      "        -2.13572204e-01],\n",
      "       [ 8.65210146e-02, -2.44959183e-02,  2.79759839e-02,\n",
      "        -2.56752074e-02, -8.07413086e-02, -5.33753820e-02,\n",
      "         8.22423473e-02, -3.67274657e-02,  1.03326142e-03,\n",
      "        -1.30491942e-01],\n",
      "       [ 5.79347573e-02,  8.87320936e-02, -2.65923478e-02,\n",
      "        -2.17119791e-02,  5.50008565e-02,  6.65880367e-03,\n",
      "         8.09974149e-02,  1.47576526e-01,  2.56603584e-04,\n",
      "        -6.93287179e-02],\n",
      "       [ 8.03150237e-02,  1.92430466e-02,  2.66615301e-04,\n",
      "        -7.98451304e-02,  9.59386230e-02, -5.32203503e-02,\n",
      "         2.06415057e-01,  8.85437280e-02,  9.76202264e-02,\n",
      "        -2.44452819e-01],\n",
      "       [ 3.77209596e-02,  8.21734518e-02,  5.20801023e-02,\n",
      "         7.73873180e-02,  2.18848959e-02, -3.95723712e-03,\n",
      "         1.06577501e-01,  1.02250881e-01, -1.49600476e-01,\n",
      "        -3.25136296e-02],\n",
      "       [-3.27543095e-02, -3.40263136e-02,  5.84561750e-02,\n",
      "        -1.37575671e-01,  5.61756045e-02, -1.53434962e-01,\n",
      "         8.12418163e-02, -3.01443040e-04,  1.25703380e-01,\n",
      "        -1.07110448e-01],\n",
      "       [ 2.31444463e-02,  5.23446724e-02,  6.49714619e-02,\n",
      "         5.21225780e-02,  2.77842730e-02,  9.90164205e-02,\n",
      "         2.47461364e-01,  8.43195468e-02,  9.58411247e-02,\n",
      "        -2.28298917e-01],\n",
      "       [-8.18996411e-03,  1.20418683e-01, -2.82026455e-02,\n",
      "        -1.05187267e-01,  4.85616699e-02, -6.18019626e-02,\n",
      "         1.83723494e-02,  6.59697354e-02, -3.85235995e-04,\n",
      "        -2.22212933e-02],\n",
      "       [ 3.64743285e-02,  1.11983620e-01,  5.08708209e-02,\n",
      "         4.65411693e-03,  1.21094719e-01,  3.64275090e-03,\n",
      "         1.00126803e-01,  1.08754799e-01, -1.47426128e-03,\n",
      "        -1.04908183e-01],\n",
      "       [-6.70307353e-02,  3.17195989e-02,  1.13817491e-02,\n",
      "        -1.04533117e-02,  5.37439547e-02,  7.90051185e-03,\n",
      "         4.71366756e-02, -3.82253155e-02, -8.13406333e-03,\n",
      "        -8.85367990e-02],\n",
      "       [-1.45696625e-02, -8.07603970e-02,  2.22825259e-03,\n",
      "        -4.08228561e-02,  5.32017574e-02,  4.87102345e-02,\n",
      "         1.98969066e-01, -7.22118020e-02,  6.11302555e-02,\n",
      "        -2.16268331e-01],\n",
      "       [-1.28689595e-02, -3.42938043e-02,  5.73885441e-03,\n",
      "        -2.83563994e-02, -2.56951265e-02,  5.32077625e-03,\n",
      "         8.30570981e-02,  9.94891301e-03,  1.36658475e-02,\n",
      "        -1.00165009e-01],\n",
      "       [ 4.38026935e-02,  1.27383173e-01,  1.12670697e-02,\n",
      "        -2.30107568e-02, -2.52532251e-02,  7.12148771e-02,\n",
      "         1.77608237e-01,  5.41865155e-02, -4.47440334e-02,\n",
      "        -1.32943243e-01],\n",
      "       [-1.27141178e-02,  1.13535628e-01,  1.76944137e-02,\n",
      "         2.77703870e-02,  8.38058814e-03, -1.30094793e-02,\n",
      "         9.43986923e-02,  1.09048329e-01, -3.12461331e-02,\n",
      "        -8.10955018e-02],\n",
      "       [-2.32028160e-02, -3.83604169e-02, -1.39572173e-02,\n",
      "        -1.31093189e-02,  3.12330723e-02,  8.34826194e-03,\n",
      "         1.55662477e-01, -3.60118374e-02,  2.50866637e-02,\n",
      "        -1.01448640e-01],\n",
      "       [ 9.22094285e-02,  4.47732881e-02,  5.27967736e-02,\n",
      "         2.23518871e-02,  4.69451472e-02,  6.56003952e-02,\n",
      "         5.64749427e-02,  1.72741920e-01,  5.26078790e-02,\n",
      "        -8.76352787e-02],\n",
      "       [-2.66120583e-02,  3.71490009e-02, -4.05781083e-02,\n",
      "        -6.39239699e-02,  2.42356658e-02, -3.70533317e-02,\n",
      "         5.88139892e-03,  2.01591328e-02,  9.12519544e-03,\n",
      "        -1.43357337e-01],\n",
      "       [ 1.88663021e-01,  1.53818429e-02, -4.65698317e-02,\n",
      "        -7.10906275e-03, -5.82116395e-02,  7.01741651e-02,\n",
      "         9.36235189e-02,  4.68521565e-03, -3.64048779e-03,\n",
      "        -1.69265389e-01],\n",
      "       [ 1.05720058e-01,  7.65808672e-03,  1.24737732e-01,\n",
      "         3.84721979e-02, -6.75057024e-02,  2.29537208e-02,\n",
      "         1.12458251e-01,  1.94156244e-02,  2.10468769e-02,\n",
      "        -1.83345497e-01],\n",
      "       [ 3.11477184e-02,  1.38348192e-01,  4.93455939e-02,\n",
      "        -4.01973128e-02, -1.37459904e-01,  6.72565997e-02,\n",
      "         1.41402036e-01,  2.24925950e-02, -5.11228256e-02,\n",
      "        -1.00867130e-01],\n",
      "       [ 1.09818980e-01,  1.54730201e-01, -3.02913017e-03,\n",
      "         1.63487215e-02, -2.37336569e-02,  2.51216665e-02,\n",
      "         1.47808298e-01,  8.59091654e-02, -7.08854571e-03,\n",
      "        -2.07937956e-01],\n",
      "       [ 4.15664949e-02,  7.89621025e-02,  1.29224118e-02,\n",
      "        -3.13982107e-02, -4.28415239e-02,  1.85459014e-02,\n",
      "         4.27539274e-03,  3.62753645e-02,  7.23332167e-04,\n",
      "        -8.06048885e-02],\n",
      "       [ 3.37216035e-02, -1.75061412e-02,  3.34220342e-02,\n",
      "         2.61668898e-02, -1.58315822e-02,  9.76211503e-02,\n",
      "         4.24759984e-02,  1.31729558e-01,  1.09954156e-01,\n",
      "        -1.09139182e-01],\n",
      "       [-1.60195958e-03,  2.35394388e-02, -3.25260684e-02,\n",
      "        -8.71421322e-02, -1.33450441e-02, -4.53919098e-02,\n",
      "         1.20140642e-01, -2.60707885e-02, -5.44761419e-02,\n",
      "        -9.21761170e-02],\n",
      "       [-1.99175980e-02,  7.78200328e-02,  2.75814869e-02,\n",
      "        -5.17660752e-02,  3.59083042e-02,  4.61366400e-02,\n",
      "         1.40650898e-01,  1.03323981e-02,  9.76450145e-02,\n",
      "        -1.24280252e-01],\n",
      "       [ 9.61807817e-02,  1.83047354e-02, -8.38562846e-06,\n",
      "         2.34298166e-02,  3.04777995e-02, -2.05247905e-02,\n",
      "         8.70893002e-02,  8.04032087e-02,  4.90933955e-02,\n",
      "        -7.82387406e-02],\n",
      "       [ 6.35320172e-02,  1.24937221e-01,  2.39990316e-02,\n",
      "        -2.73572188e-02,  4.17654663e-02,  1.75993349e-02,\n",
      "         1.19690046e-01,  1.07986309e-01, -1.80377960e-02,\n",
      "        -7.45712444e-02],\n",
      "       [ 4.63564470e-02,  7.84257278e-02,  1.10602461e-01,\n",
      "        -3.52128036e-02, -9.51316953e-03,  2.80626398e-02,\n",
      "         1.37046784e-01,  1.65476948e-02,  6.88557178e-02,\n",
      "        -2.34755099e-01],\n",
      "       [-1.10501796e-03,  4.88218628e-02,  4.75343987e-02,\n",
      "        -6.51343912e-03,  8.75983201e-03,  1.55255664e-03,\n",
      "         9.90407988e-02,  1.05827734e-01,  1.52463838e-02,\n",
      "        -1.09213918e-01],\n",
      "       [ 1.01495534e-01,  5.89861088e-02,  1.13205910e-02,\n",
      "        -3.71863544e-02,  1.04014173e-01, -3.47963944e-02,\n",
      "         4.92653586e-02,  1.15902051e-01,  2.95930393e-02,\n",
      "        -1.12374455e-01],\n",
      "       [ 7.82154128e-03,  2.76185796e-02, -1.82970911e-02,\n",
      "        -1.30757347e-01,  1.03932038e-01, -2.15572622e-02,\n",
      "         2.61636656e-02,  2.01458931e-02,  2.86576264e-02,\n",
      "        -1.64021060e-01],\n",
      "       [ 9.72369537e-02,  6.06087707e-02, -5.88744879e-03,\n",
      "         3.41566689e-02,  9.38247964e-02, -2.98804622e-02,\n",
      "         6.99424148e-02,  1.32980317e-01,  9.03268307e-02,\n",
      "        -1.53761521e-01],\n",
      "       [-6.94863573e-02,  6.08845288e-03, -3.37964483e-02,\n",
      "        -2.74979603e-02, -6.10121265e-02, -3.14588621e-02,\n",
      "         1.22792691e-01, -5.60401455e-02, -4.08298299e-02,\n",
      "        -1.04226120e-01],\n",
      "       [ 3.15611623e-02,  2.42076181e-02,  3.42927463e-02,\n",
      "         1.98033229e-02,  2.67991517e-03, -3.94593738e-02,\n",
      "         9.14765224e-02,  6.05978519e-02, -2.25472450e-03,\n",
      "        -3.99603769e-02],\n",
      "       [-1.18987784e-01, -4.83281948e-02, -1.10879861e-01,\n",
      "        -1.47672534e-01, -1.49092779e-01, -1.13414861e-02,\n",
      "         1.49587214e-01, -2.31454536e-01, -2.55642384e-02,\n",
      "        -1.05370902e-01],\n",
      "       [ 6.46963418e-02,  4.20206860e-02, -1.46152619e-02,\n",
      "        -5.93206026e-02,  6.56764507e-02, -1.01185627e-02,\n",
      "         1.91261247e-01,  3.67529020e-02,  7.22325742e-02,\n",
      "        -8.16443115e-02],\n",
      "       [-1.28970072e-02,  1.17765456e-01,  3.93585712e-02,\n",
      "        -3.87404114e-02, -1.08343981e-01, -3.46612073e-02,\n",
      "         1.03934385e-01,  6.77286908e-02,  8.21222067e-02,\n",
      "        -1.27295479e-01],\n",
      "       [-1.79789439e-02,  1.39587209e-01,  2.74408571e-02,\n",
      "         6.57728910e-02,  7.86665231e-02,  3.89452204e-02,\n",
      "         1.25742987e-01,  9.88433510e-02,  4.60875705e-02,\n",
      "        -1.17463678e-01],\n",
      "       [-4.42794524e-03,  6.20392039e-02,  3.29906717e-02,\n",
      "         1.60392188e-03,  5.86797111e-03,  2.10647434e-02,\n",
      "         7.12105334e-02,  3.70730087e-02,  3.13088670e-02,\n",
      "        -7.14386106e-02],\n",
      "       [-1.54765639e-02, -2.26477534e-03,  3.79221216e-02,\n",
      "        -9.19348001e-02,  2.83731855e-02, -9.47122872e-02,\n",
      "         8.60174671e-02,  2.33513042e-02, -4.36369404e-02,\n",
      "        -1.74888223e-01],\n",
      "       [ 6.47768080e-02,  3.55026312e-02, -3.51023674e-02,\n",
      "         2.38487236e-02, -6.19147085e-02,  1.62955672e-01,\n",
      "         1.20247379e-01,  2.14496478e-02,  6.54231906e-02,\n",
      "        -1.47278726e-01],\n",
      "       [-5.81664555e-02,  8.79231691e-02,  2.04058215e-02,\n",
      "        -8.98718238e-02,  3.60235535e-02, -2.79639252e-02,\n",
      "        -6.66333884e-02,  7.83558339e-02,  5.80921024e-03,\n",
      "        -8.38976577e-02],\n",
      "       [-8.17693025e-03,  1.70067884e-02, -1.64827965e-02,\n",
      "        -8.93210620e-03, -3.23106349e-02,  2.60538161e-02,\n",
      "         9.83040184e-02,  1.37998909e-03,  7.20117763e-02,\n",
      "        -1.51177689e-01],\n",
      "       [ 7.40198642e-02,  7.80882686e-02,  8.77323300e-02,\n",
      "         5.49868122e-02,  5.71256354e-02, -2.51348000e-02,\n",
      "         1.38059214e-01,  4.00009602e-02, -6.37987405e-02,\n",
      "        -1.58839583e-01],\n",
      "       [ 4.62936535e-02,  4.45827954e-02,  6.68111220e-02,\n",
      "         7.83972666e-02,  2.40402501e-02,  4.68138531e-02,\n",
      "         1.59576893e-01,  1.00919746e-01, -5.15903495e-02,\n",
      "        -5.76066524e-02],\n",
      "       [ 7.09372163e-02,  8.33560079e-02,  7.83519447e-02,\n",
      "         3.04736476e-02, -2.83910334e-03,  6.95846528e-02,\n",
      "         2.71904379e-01,  7.50496313e-02,  1.08930007e-01,\n",
      "        -1.84752584e-01],\n",
      "       [-3.23371477e-02,  1.10601112e-01, -7.84761179e-03,\n",
      "        -9.55390036e-02,  3.01468447e-02, -4.53977063e-02,\n",
      "        -1.02977324e-02,  5.89698106e-02, -3.13780569e-02,\n",
      "        -6.76253662e-02],\n",
      "       [-8.12437609e-02,  1.04469247e-01,  1.11102741e-02,\n",
      "        -1.37781519e-02,  3.16850320e-02, -1.50181726e-03,\n",
      "        -1.40422061e-02,  4.62126434e-02, -2.68249288e-02,\n",
      "        -3.81970517e-02],\n",
      "       [ 5.75804226e-02,  4.92464080e-02,  5.24362773e-02,\n",
      "         9.28137451e-03,  1.06413320e-01,  2.71319821e-02,\n",
      "         5.46170846e-02,  6.70932680e-02,  1.03588119e-01,\n",
      "        -8.29931423e-02],\n",
      "       [ 6.07264191e-02,  4.98964451e-02,  5.07348552e-02,\n",
      "        -1.35831609e-02,  9.52627808e-02,  1.59182698e-02,\n",
      "         8.84785950e-02,  1.19911291e-01,  8.47710669e-02,\n",
      "        -1.29508615e-01],\n",
      "       [ 9.71679240e-02, -9.36221480e-02,  2.42031682e-02,\n",
      "        -1.62149146e-02, -6.72110021e-02,  1.58783644e-01,\n",
      "         1.46427661e-01,  1.06523998e-01,  1.86154887e-01,\n",
      "        -3.40903550e-01],\n",
      "       [ 4.77271341e-02,  9.99115631e-02,  1.01618946e-01,\n",
      "         9.83252749e-03,  4.63210791e-03,  2.09718868e-02,\n",
      "         1.66761711e-01,  1.30346686e-01,  4.39768061e-02,\n",
      "        -1.13043651e-01],\n",
      "       [ 1.84629858e-03,  5.83203137e-02,  8.49933829e-03,\n",
      "        -2.26555727e-02,  2.32302248e-02, -8.59426335e-03,\n",
      "         2.48063393e-02,  5.99324703e-04, -5.04824817e-02,\n",
      "        -1.43715754e-01],\n",
      "       [-6.98634535e-02, -4.99412529e-02, -1.04905486e-01,\n",
      "        -9.38782468e-02,  1.05628014e-01, -8.11075140e-03,\n",
      "         2.32324302e-02, -1.04501307e-01,  9.49658304e-02,\n",
      "        -1.01299368e-01],\n",
      "       [ 1.09953284e-01, -1.89924575e-02,  1.53035410e-02,\n",
      "        -1.74915697e-02, -7.31549859e-02,  1.47364493e-02,\n",
      "         5.02126552e-02, -3.07935476e-02,  1.50993124e-01,\n",
      "        -2.43110210e-01],\n",
      "       [ 8.12901184e-02,  1.01599500e-01,  7.13671148e-02,\n",
      "         2.94753350e-02,  9.62536782e-02, -2.80666687e-02,\n",
      "         6.06215522e-02,  2.00819820e-01,  1.45183727e-02,\n",
      "        -6.76673800e-02],\n",
      "       [ 3.96302715e-02,  1.74521916e-02,  6.97605088e-02,\n",
      "         1.41807273e-03,  4.39363271e-02,  3.85147706e-03,\n",
      "         1.07246839e-01,  1.69529200e-01,  1.09392114e-01,\n",
      "        -1.53961316e-01],\n",
      "       [-4.21328843e-02, -2.53250636e-02, -2.36769021e-03,\n",
      "         5.73420003e-02, -3.74295339e-02,  1.87187046e-02,\n",
      "         8.24587718e-02, -5.40855341e-02, -1.04681313e-01,\n",
      "        -1.04352117e-01],\n",
      "       [ 2.99296826e-02,  5.97550198e-02, -3.03597376e-02,\n",
      "         3.41359563e-02,  5.27348332e-02,  3.44859585e-02,\n",
      "         1.05110116e-01,  6.97212443e-02,  7.39127547e-02,\n",
      "        -1.45879537e-01]], dtype=float32)>}\n"
     ]
    }
   ],
   "source": [
    "predict_dataset = eval_dataset.map(lambda image, label: image)\n",
    "for batch in predict_dataset.take(1):\n",
    "  print(inference_func(batch))"
   ]
  },
  {
   "cell_type": "markdown",
   "metadata": {
    "id": "osB1LY8WwUJZ"
   },
   "source": [
    "You can also load and do inference in a distributed manner:"
   ]
  },
  {
   "cell_type": "code",
   "execution_count": 11,
   "metadata": {
    "execution": {
     "iopub.execute_input": "2021-05-19T11:24:55.080065Z",
     "iopub.status.busy": "2021-05-19T11:24:55.079449Z",
     "iopub.status.idle": "2021-05-19T11:24:56.359197Z",
     "shell.execute_reply": "2021-05-19T11:24:56.358592Z"
    },
    "id": "iDYvu12zYTmT"
   },
   "outputs": [
    {
     "name": "stdout",
     "output_type": "stream",
     "text": [
      "WARNING:tensorflow:Collective ops is not configured at program startup. Some performance features may not be enabled.\n"
     ]
    },
    {
     "name": "stderr",
     "output_type": "stream",
     "text": [
      "WARNING:tensorflow:Collective ops is not configured at program startup. Some performance features may not be enabled.\n"
     ]
    },
    {
     "name": "stdout",
     "output_type": "stream",
     "text": [
      "INFO:tensorflow:Using MirroredStrategy with devices ('/job:localhost/replica:0/task:0/device:GPU:0',)\n"
     ]
    },
    {
     "name": "stderr",
     "output_type": "stream",
     "text": [
      "INFO:tensorflow:Using MirroredStrategy with devices ('/job:localhost/replica:0/task:0/device:GPU:0',)\n"
     ]
    },
    {
     "name": "stdout",
     "output_type": "stream",
     "text": [
      "WARNING:tensorflow:Using MirroredStrategy eagerly has significant overhead currently. We will be working on improving this in the future, but for now please wrap `call_for_each_replica` or `experimental_run` or `run` inside a tf.function to get the best performance.\n"
     ]
    },
    {
     "name": "stderr",
     "output_type": "stream",
     "text": [
      "WARNING:tensorflow:Using MirroredStrategy eagerly has significant overhead currently. We will be working on improving this in the future, but for now please wrap `call_for_each_replica` or `experimental_run` or `run` inside a tf.function to get the best performance.\n"
     ]
    },
    {
     "name": "stdout",
     "output_type": "stream",
     "text": [
      "WARNING:tensorflow:Using MirroredStrategy eagerly has significant overhead currently. We will be working on improving this in the future, but for now please wrap `call_for_each_replica` or `experimental_run` or `run` inside a tf.function to get the best performance.\n"
     ]
    },
    {
     "name": "stderr",
     "output_type": "stream",
     "text": [
      "WARNING:tensorflow:Using MirroredStrategy eagerly has significant overhead currently. We will be working on improving this in the future, but for now please wrap `call_for_each_replica` or `experimental_run` or `run` inside a tf.function to get the best performance.\n"
     ]
    },
    {
     "name": "stdout",
     "output_type": "stream",
     "text": [
      "WARNING:tensorflow:Using MirroredStrategy eagerly has significant overhead currently. We will be working on improving this in the future, but for now please wrap `call_for_each_replica` or `experimental_run` or `run` inside a tf.function to get the best performance.\n"
     ]
    },
    {
     "name": "stderr",
     "output_type": "stream",
     "text": [
      "WARNING:tensorflow:Using MirroredStrategy eagerly has significant overhead currently. We will be working on improving this in the future, but for now please wrap `call_for_each_replica` or `experimental_run` or `run` inside a tf.function to get the best performance.\n"
     ]
    },
    {
     "name": "stdout",
     "output_type": "stream",
     "text": [
      "WARNING:tensorflow:Using MirroredStrategy eagerly has significant overhead currently. We will be working on improving this in the future, but for now please wrap `call_for_each_replica` or `experimental_run` or `run` inside a tf.function to get the best performance.\n"
     ]
    },
    {
     "name": "stderr",
     "output_type": "stream",
     "text": [
      "WARNING:tensorflow:Using MirroredStrategy eagerly has significant overhead currently. We will be working on improving this in the future, but for now please wrap `call_for_each_replica` or `experimental_run` or `run` inside a tf.function to get the best performance.\n"
     ]
    },
    {
     "name": "stdout",
     "output_type": "stream",
     "text": [
      "WARNING:tensorflow:Using MirroredStrategy eagerly has significant overhead currently. We will be working on improving this in the future, but for now please wrap `call_for_each_replica` or `experimental_run` or `run` inside a tf.function to get the best performance.\n"
     ]
    },
    {
     "name": "stderr",
     "output_type": "stream",
     "text": [
      "WARNING:tensorflow:Using MirroredStrategy eagerly has significant overhead currently. We will be working on improving this in the future, but for now please wrap `call_for_each_replica` or `experimental_run` or `run` inside a tf.function to get the best performance.\n"
     ]
    }
   ],
   "source": [
    "another_strategy = tf.distribute.MirroredStrategy()\n",
    "with another_strategy.scope():\n",
    "  loaded = tf.saved_model.load(saved_model_path)\n",
    "  inference_func = loaded.signatures[DEFAULT_FUNCTION_KEY]\n",
    "\n",
    "  dist_predict_dataset = another_strategy.experimental_distribute_dataset(\n",
    "      predict_dataset)\n",
    "\n",
    "  # Calling the function in a distributed manner\n",
    "  for batch in dist_predict_dataset:\n",
    "    another_strategy.run(inference_func,args=(batch,))"
   ]
  },
  {
   "cell_type": "markdown",
   "metadata": {
    "id": "hWGSukoyw3fF"
   },
   "source": [
    "Calling the restored function is just a forward pass on the saved model (predict). What if yout want to continue training the loaded function? Or embed the loaded function into a bigger model? A common practice is to wrap this loaded object to a Keras layer to achieve this. Luckily, [TF Hub](https://www.tensorflow.org/hub) has [hub.KerasLayer](https://github.com/tensorflow/hub/blob/master/tensorflow_hub/keras_layer.py) for this purpose, shown here:"
   ]
  },
  {
   "cell_type": "code",
   "execution_count": 12,
   "metadata": {
    "execution": {
     "iopub.execute_input": "2021-05-19T11:24:56.365854Z",
     "iopub.status.busy": "2021-05-19T11:24:56.365202Z",
     "iopub.status.idle": "2021-05-19T11:25:05.130482Z",
     "shell.execute_reply": "2021-05-19T11:25:05.130871Z"
    },
    "id": "clfk3hQoyKu6"
   },
   "outputs": [
    {
     "name": "stdout",
     "output_type": "stream",
     "text": [
      "WARNING:tensorflow:Collective ops is not configured at program startup. Some performance features may not be enabled.\n"
     ]
    },
    {
     "name": "stderr",
     "output_type": "stream",
     "text": [
      "WARNING:tensorflow:Collective ops is not configured at program startup. Some performance features may not be enabled.\n"
     ]
    },
    {
     "name": "stdout",
     "output_type": "stream",
     "text": [
      "INFO:tensorflow:Using MirroredStrategy with devices ('/job:localhost/replica:0/task:0/device:GPU:0',)\n"
     ]
    },
    {
     "name": "stderr",
     "output_type": "stream",
     "text": [
      "INFO:tensorflow:Using MirroredStrategy with devices ('/job:localhost/replica:0/task:0/device:GPU:0',)\n"
     ]
    },
    {
     "name": "stdout",
     "output_type": "stream",
     "text": [
      "Epoch 1/2\n",
      "938/938 [==============================] - 5s 3ms/step - loss: 0.2026 - sparse_categorical_accuracy: 0.9408\n",
      "Epoch 2/2\n",
      "938/938 [==============================] - 3s 3ms/step - loss: 0.0667 - sparse_categorical_accuracy: 0.9802\n"
     ]
    }
   ],
   "source": [
    "import tensorflow_hub as hub\n",
    "\n",
    "def build_model(loaded):\n",
    "  x = tf.keras.layers.Input(shape=(28, 28, 1), name='input_x')\n",
    "  # Wrap what's loaded to a KerasLayer\n",
    "  keras_layer = hub.KerasLayer(loaded, trainable=True)(x)\n",
    "  model = tf.keras.Model(x, keras_layer)\n",
    "  return model\n",
    "\n",
    "another_strategy = tf.distribute.MirroredStrategy()\n",
    "with another_strategy.scope():\n",
    "  loaded = tf.saved_model.load(saved_model_path)\n",
    "  model = build_model(loaded)\n",
    "\n",
    "  model.compile(loss=tf.keras.losses.SparseCategoricalCrossentropy(from_logits=True),\n",
    "                optimizer=tf.keras.optimizers.Adam(),\n",
    "                metrics=[tf.metrics.SparseCategoricalAccuracy()])\n",
    "  model.fit(train_dataset, epochs=2)"
   ]
  },
  {
   "cell_type": "markdown",
   "metadata": {
    "id": "Oe1z_OtSJlu2"
   },
   "source": [
    "As you can see, `hub.KerasLayer` wraps the result loaded back from `tf.saved_model.load()` into a Keras layer that can be used to build another model. This is very useful for transfer learning. "
   ]
  },
  {
   "cell_type": "markdown",
   "metadata": {
    "id": "KFDOZpK5Wa3W"
   },
   "source": [
    "### Which API should I use?"
   ]
  },
  {
   "cell_type": "markdown",
   "metadata": {
    "id": "GC6GQ9HDLxD6"
   },
   "source": [
    "For saving, if you are working with a keras model, it is almost always recommended to use the Keras's `model.save()` API. If what you are saving is not a Keras model, then the lower level API is your only choice. \n",
    "\n",
    "For loading, which API you use depends on what you want to get from the loading API. If you cannot (or do not want to) get a Keras model, then use `tf.saved_model.load()`. Otherwise, use `tf.keras.models.load_model()`. Note that you can get a Keras model back only if you saved a Keras model. \n",
    "\n",
    "It is possible to mix and match the APIs. You can save a Keras model with `model.save`, and load a non-Keras model with the low-level API, `tf.saved_model.load`. "
   ]
  },
  {
   "cell_type": "code",
   "execution_count": 13,
   "metadata": {
    "execution": {
     "iopub.execute_input": "2021-05-19T11:25:05.139882Z",
     "iopub.status.busy": "2021-05-19T11:25:05.139223Z",
     "iopub.status.idle": "2021-05-19T11:25:05.963212Z",
     "shell.execute_reply": "2021-05-19T11:25:05.963670Z"
    },
    "id": "Ktwg2GwnXE8v"
   },
   "outputs": [
    {
     "name": "stdout",
     "output_type": "stream",
     "text": [
      "INFO:tensorflow:Assets written to: /tmp/keras_save/assets\n"
     ]
    },
    {
     "name": "stderr",
     "output_type": "stream",
     "text": [
      "INFO:tensorflow:Assets written to: /tmp/keras_save/assets\n"
     ]
    },
    {
     "name": "stdout",
     "output_type": "stream",
     "text": [
      "WARNING:tensorflow:Collective ops is not configured at program startup. Some performance features may not be enabled.\n"
     ]
    },
    {
     "name": "stderr",
     "output_type": "stream",
     "text": [
      "WARNING:tensorflow:Collective ops is not configured at program startup. Some performance features may not be enabled.\n"
     ]
    },
    {
     "name": "stdout",
     "output_type": "stream",
     "text": [
      "INFO:tensorflow:Using MirroredStrategy with devices ('/job:localhost/replica:0/task:0/device:GPU:0',)\n"
     ]
    },
    {
     "name": "stderr",
     "output_type": "stream",
     "text": [
      "INFO:tensorflow:Using MirroredStrategy with devices ('/job:localhost/replica:0/task:0/device:GPU:0',)\n"
     ]
    }
   ],
   "source": [
    "model = get_model()\n",
    "\n",
    "# Saving the model using Keras's save() API\n",
    "model.save(keras_model_path) \n",
    "\n",
    "another_strategy = tf.distribute.MirroredStrategy()\n",
    "# Loading the model using lower level API\n",
    "with another_strategy.scope():\n",
    "  loaded = tf.saved_model.load(keras_model_path)"
   ]
  },
  {
   "cell_type": "markdown",
   "metadata": {
    "id": "0Z7lSj8nZiW5"
   },
   "source": [
    "### Saving/Loading from local device"
   ]
  },
  {
   "cell_type": "markdown",
   "metadata": {
    "id": "NVAjWcosZodw"
   },
   "source": [
    "When saving and loading from a local io device while running remotely, for example using a cloud TPU, the option `experimental_io_device` must be used to set the io device to localhost."
   ]
  },
  {
   "cell_type": "code",
   "execution_count": 14,
   "metadata": {
    "execution": {
     "iopub.execute_input": "2021-05-19T11:25:05.974708Z",
     "iopub.status.busy": "2021-05-19T11:25:05.973970Z",
     "iopub.status.idle": "2021-05-19T11:25:06.657679Z",
     "shell.execute_reply": "2021-05-19T11:25:06.658085Z"
    },
    "id": "jFcuzsI94bNA"
   },
   "outputs": [
    {
     "name": "stdout",
     "output_type": "stream",
     "text": [
      "INFO:tensorflow:Assets written to: /tmp/tf_save/assets\n"
     ]
    },
    {
     "name": "stderr",
     "output_type": "stream",
     "text": [
      "INFO:tensorflow:Assets written to: /tmp/tf_save/assets\n"
     ]
    },
    {
     "name": "stdout",
     "output_type": "stream",
     "text": [
      "WARNING:tensorflow:Collective ops is not configured at program startup. Some performance features may not be enabled.\n"
     ]
    },
    {
     "name": "stderr",
     "output_type": "stream",
     "text": [
      "WARNING:tensorflow:Collective ops is not configured at program startup. Some performance features may not be enabled.\n"
     ]
    },
    {
     "name": "stdout",
     "output_type": "stream",
     "text": [
      "INFO:tensorflow:Using MirroredStrategy with devices ('/job:localhost/replica:0/task:0/device:GPU:0',)\n"
     ]
    },
    {
     "name": "stderr",
     "output_type": "stream",
     "text": [
      "INFO:tensorflow:Using MirroredStrategy with devices ('/job:localhost/replica:0/task:0/device:GPU:0',)\n"
     ]
    }
   ],
   "source": [
    "model = get_model()\n",
    "\n",
    "# Saving the model to a path on localhost.\n",
    "saved_model_path = \"/tmp/tf_save\"\n",
    "save_options = tf.saved_model.SaveOptions(experimental_io_device='/job:localhost')\n",
    "model.save(saved_model_path, options=save_options)\n",
    "\n",
    "# Loading the model from a path on localhost.\n",
    "another_strategy = tf.distribute.MirroredStrategy()\n",
    "with another_strategy.scope():\n",
    "  load_options = tf.saved_model.LoadOptions(experimental_io_device='/job:localhost')\n",
    "  loaded = tf.keras.models.load_model(saved_model_path, options=load_options)"
   ]
  },
  {
   "cell_type": "markdown",
   "metadata": {
    "id": "hJTWOnC9iuA3"
   },
   "source": [
    "### Caveats"
   ]
  },
  {
   "cell_type": "markdown",
   "metadata": {
    "id": "Tzog2ti7YYgy"
   },
   "source": [
    "A special case is when you have a Keras model that does not have well-defined inputs. For example, a Sequential model can be created without any input shapes (`Sequential([Dense(3), ...]`). Subclassed models also do not have well-defined inputs after initialization. In this case, you should stick with the lower level APIs on both saving and loading, otherwise you will get an error. \n",
    "\n",
    "To check if your model has well-defined inputs, just check if `model.inputs` is `None`. If it is not `None`, you are all good. Input shapes are automatically defined when the model is used in `.fit`, `.evaluate`, `.predict`, or when calling the model (`model(inputs)`). \n",
    "\n",
    "Here is an example:"
   ]
  },
  {
   "cell_type": "code",
   "execution_count": 15,
   "metadata": {
    "execution": {
     "iopub.execute_input": "2021-05-19T11:25:06.667931Z",
     "iopub.status.busy": "2021-05-19T11:25:06.667304Z",
     "iopub.status.idle": "2021-05-19T11:25:06.721662Z",
     "shell.execute_reply": "2021-05-19T11:25:06.722018Z"
    },
    "id": "gurSIbDFjOBc"
   },
   "outputs": [
    {
     "name": "stdout",
     "output_type": "stream",
     "text": [
      "WARNING:tensorflow:Skipping full serialization of Keras layer <__main__.SubclassedModel object at 0x7fc4780498d0>, because it is not built.\n"
     ]
    },
    {
     "name": "stderr",
     "output_type": "stream",
     "text": [
      "WARNING:tensorflow:Skipping full serialization of Keras layer <__main__.SubclassedModel object at 0x7fc4780498d0>, because it is not built.\n"
     ]
    },
    {
     "name": "stdout",
     "output_type": "stream",
     "text": [
      "WARNING:tensorflow:Skipping full serialization of Keras layer <tensorflow.python.keras.layers.core.Dense object at 0x7fc4782d1350>, because it is not built.\n"
     ]
    },
    {
     "name": "stderr",
     "output_type": "stream",
     "text": [
      "WARNING:tensorflow:Skipping full serialization of Keras layer <tensorflow.python.keras.layers.core.Dense object at 0x7fc4782d1350>, because it is not built.\n"
     ]
    },
    {
     "name": "stdout",
     "output_type": "stream",
     "text": [
      "WARNING:tensorflow:FOR KERAS USERS: The object that you are saving contains one or more Keras models or layers. If you are loading the SavedModel with `tf.keras.models.load_model`, continue reading (otherwise, you may ignore the following instructions). Please change your code to save with `tf.keras.models.save_model` or `model.save`, and confirm that the file \"keras.metadata\" exists in the export directory. In the future, Keras will only load the SavedModels that have this file. In other words, `tf.saved_model.save` will no longer write SavedModels that can be recovered as Keras models (this will apply in TF 2.5).\n",
      "\n",
      "FOR DEVS: If you are overwriting _tracking_metadata in your class, this property has been used to save metadata in the SavedModel. The metadta field will be deprecated soon, so please move the metadata to a different file.\n"
     ]
    },
    {
     "name": "stderr",
     "output_type": "stream",
     "text": [
      "WARNING:tensorflow:FOR KERAS USERS: The object that you are saving contains one or more Keras models or layers. If you are loading the SavedModel with `tf.keras.models.load_model`, continue reading (otherwise, you may ignore the following instructions). Please change your code to save with `tf.keras.models.save_model` or `model.save`, and confirm that the file \"keras.metadata\" exists in the export directory. In the future, Keras will only load the SavedModels that have this file. In other words, `tf.saved_model.save` will no longer write SavedModels that can be recovered as Keras models (this will apply in TF 2.5).\n",
      "\n",
      "FOR DEVS: If you are overwriting _tracking_metadata in your class, this property has been used to save metadata in the SavedModel. The metadta field will be deprecated soon, so please move the metadata to a different file.\n"
     ]
    },
    {
     "name": "stdout",
     "output_type": "stream",
     "text": [
      "INFO:tensorflow:Assets written to: /tmp/tf_save/assets\n"
     ]
    },
    {
     "name": "stderr",
     "output_type": "stream",
     "text": [
      "INFO:tensorflow:Assets written to: /tmp/tf_save/assets\n"
     ]
    }
   ],
   "source": [
    "class SubclassedModel(tf.keras.Model):\n",
    "\n",
    "  output_name = 'output_layer'\n",
    "\n",
    "  def __init__(self):\n",
    "    super(SubclassedModel, self).__init__()\n",
    "    self._dense_layer = tf.keras.layers.Dense(\n",
    "        5, dtype=tf.dtypes.float32, name=self.output_name)\n",
    "\n",
    "  def call(self, inputs):\n",
    "    return self._dense_layer(inputs)\n",
    "\n",
    "my_model = SubclassedModel()\n",
    "# my_model.save(keras_model_path)  # ERROR! \n",
    "tf.saved_model.save(my_model, saved_model_path)"
   ]
  }
 ],
 "metadata": {
  "colab": {
   "collapsed_sections": [],
   "name": "save_and_load.ipynb",
   "toc_visible": true
  },
  "kernelspec": {
   "display_name": "Python 3",
   "language": "python",
   "name": "python3"
  },
  "language_info": {
   "codemirror_mode": {
    "name": "ipython",
    "version": 3
   },
   "file_extension": ".py",
   "mimetype": "text/x-python",
   "name": "python",
   "nbconvert_exporter": "python",
   "pygments_lexer": "ipython3",
   "version": "3.8.5"
  }
 },
 "nbformat": 4,
 "nbformat_minor": 1
}

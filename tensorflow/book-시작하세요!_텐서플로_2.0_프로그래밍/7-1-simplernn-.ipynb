{
 "cells": [
  {
   "cell_type": "markdown",
   "metadata": {},
   "source": [
    "* Draft: 2020-09-09 (Wed)"
   ]
  },
  {
   "cell_type": "markdown",
   "metadata": {},
   "source": []
  },
  {
   "cell_type": "code",
   "execution_count": 6,
   "metadata": {},
   "outputs": [],
   "source": [
    "# Create sequences like [0.0, 0.1, 0.2, 0.3], [0.1, 0.2, 0.3, 0.4], ... [0.6, 0.7, 0.8, 0.9]\n",
    "\n",
    "list_of_input_sequences = []\n",
    "list_of_output_sequence = []\n",
    "\n",
    "for i in range(6):\n",
    "    # Create a sequence like [0,1,2,3], [1,2,3,4], ... [6,7,8,9]\n",
    "    sequence = list( range( i,i+4 ) )\n",
    "    \n",
    "    list_of_input_sequences.append( list( map( lambda c: [c/10], sequence)) )  # divide by 10\n",
    "    list_of_output_sequence.append( (i+4)/10 )"
   ]
  },
  {
   "cell_type": "code",
   "execution_count": 7,
   "metadata": {},
   "outputs": [],
   "source": [
    "import numpy as np\n",
    "\n",
    "x_np = np.array( list_of_input_sequences )\n",
    "y_np = np.array( list_of_output_sequence )"
   ]
  },
  {
   "cell_type": "code",
   "execution_count": 10,
   "metadata": {},
   "outputs": [
    {
     "name": "stdout",
     "output_type": "stream",
     "text": [
      "[[0. ]\n",
      " [0.1]\n",
      " [0.2]\n",
      " [0.3]] 0.4\n",
      "[[0.1]\n",
      " [0.2]\n",
      " [0.3]\n",
      " [0.4]] 0.5\n",
      "[[0.2]\n",
      " [0.3]\n",
      " [0.4]\n",
      " [0.5]] 0.6\n",
      "[[0.3]\n",
      " [0.4]\n",
      " [0.5]\n",
      " [0.6]] 0.7\n",
      "[[0.4]\n",
      " [0.5]\n",
      " [0.6]\n",
      " [0.7]] 0.8\n",
      "[[0.5]\n",
      " [0.6]\n",
      " [0.7]\n",
      " [0.8]] 0.9\n"
     ]
    }
   ],
   "source": [
    "for i in range( len(x_np) ):\n",
    "    print( x_np[i], y_np[i] )"
   ]
  },
  {
   "cell_type": "markdown",
   "metadata": {},
   "source": [
    "## Create a SimpleRNN model"
   ]
  },
  {
   "cell_type": "markdown",
   "metadata": {},
   "source": [
    "import tensorflow as tf\n",
    "\n",
    "model = tf.keras.Sequential([\n",
    "    tf.keras.layers.SimpleRNN( units=10, return_sequences=False, input_shape=[4,1] ),\n",
    "    tf.keras.layers.Dense(1)\n",
    "])\n",
    "model.compile( optimizer='adam', loss='mse' )\n",
    "model.summary()"
   ]
  },
  {
   "cell_type": "markdown",
   "metadata": {},
   "source": [
    "input_shape=[4,1]는 timesteps=4, input_dim=1입니다.\n",
    "* timesteps은 RNN이 입력에 대한 계산을 반복하는 횟수입니다.\n",
    "* input_dim은 입력의 차원, 즉 입력벡터의 크기입니다."
   ]
  },
  {
   "cell_type": "code",
   "execution_count": 14,
   "metadata": {},
   "outputs": [
    {
     "data": {
      "text/plain": [
       "(6, 4, 1)"
      ]
     },
     "execution_count": 14,
     "metadata": {},
     "output_type": "execute_result"
    }
   ],
   "source": [
    "x_np.shape"
   ]
  },
  {
   "cell_type": "markdown",
   "metadata": {},
   "source": [
    "6개의 4x1차원의 sequence가 있으므로 timesteps=4, input_dim=1이 됩니다."
   ]
  },
  {
   "cell_type": "markdown",
   "metadata": {},
   "source": [
    "Dense(1)는 별도로 activation function이 없으므로 SimpleRNN의 출력 h3이 바로 y3가 됩니다."
   ]
  },
  {
   "cell_type": "markdown",
   "metadata": {},
   "source": [
    "## 모델 훈련"
   ]
  },
  {
   "cell_type": "code",
   "execution_count": 15,
   "metadata": {},
   "outputs": [
    {
     "data": {
      "text/plain": [
       "array([[0.3655806 ],\n",
       "       [0.49643004],\n",
       "       [0.61437166],\n",
       "       [0.71791565],\n",
       "       [0.8074425 ],\n",
       "       [0.8842804 ]], dtype=float32)"
      ]
     },
     "execution_count": 15,
     "metadata": {},
     "output_type": "execute_result"
    }
   ],
   "source": [
    "model.fit( x_np, y_np, epochs=100, verbose=0 )\n",
    "model.predict( x_np )"
   ]
  },
  {
   "cell_type": "markdown",
   "metadata": {},
   "source": [
    "## 예측하기"
   ]
  },
  {
   "cell_type": "code",
   "execution_count": 17,
   "metadata": {},
   "outputs": [
    {
     "data": {
      "text/plain": [
       "array([[0.95000964]], dtype=float32)"
      ]
     },
     "execution_count": 17,
     "metadata": {},
     "output_type": "execute_result"
    }
   ],
   "source": [
    "sequence= [[[0.6],[0.7],[0.8],[0.9]]]\n",
    "model.predict( np.array( sequence ))"
   ]
  },
  {
   "cell_type": "code",
   "execution_count": 18,
   "metadata": {},
   "outputs": [
    {
     "data": {
      "text/plain": [
       "array([[0.22574158]], dtype=float32)"
      ]
     },
     "execution_count": 18,
     "metadata": {},
     "output_type": "execute_result"
    }
   ],
   "source": [
    "sequence= [[[-0.1],[0.0],[0.1],[0.2]]]\n",
    "model.predict( np.array( sequence ))"
   ]
  },
  {
   "cell_type": "code",
   "execution_count": null,
   "metadata": {},
   "outputs": [],
   "source": []
  }
 ],
 "metadata": {
  "kernelspec": {
   "display_name": "conda_tensorflow2_p36",
   "language": "python",
   "name": "conda_tensorflow2_p36"
  },
  "language_info": {
   "codemirror_mode": {
    "name": "ipython",
    "version": 3
   },
   "file_extension": ".py",
   "mimetype": "text/x-python",
   "name": "python",
   "nbconvert_exporter": "python",
   "pygments_lexer": "ipython3",
   "version": "3.6.10"
  }
 },
 "nbformat": 4,
 "nbformat_minor": 4
}

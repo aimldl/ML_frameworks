{
 "cells": [
  {
   "cell_type": "markdown",
   "metadata": {},
   "source": [
    "# 6.1. Multiclass Classification with CNN for the Fashion MNIST Dataset\n",
    "* \"시작하세요! 텐서플로우 2.0 프로그래밍\",\n",
    "  * 6.3. Fashion MNIST 데이터세트에 적용하기, pp.150-161\n",
    "\n",
    "간단한 CNN으로 Fashion MNIST 데이터세트 훈련하기"
   ]
  },
  {
   "cell_type": "code",
   "execution_count": 1,
   "metadata": {},
   "outputs": [],
   "source": [
    "def show_an_image( numpy_ndarray, cmap=None ):\n",
    "  # Fashion MNIST Dataset\n",
    "  import matplotlib.pyplot as plt\n",
    "\n",
    "  plt.imshow( numpy_ndarray, cmap )\n",
    "  plt.colorbar()\n",
    "  plt.show()"
   ]
  },
  {
   "cell_type": "code",
   "execution_count": 2,
   "metadata": {},
   "outputs": [],
   "source": [
    "def plot_learning_curve( history ):\n",
    "\n",
    "    import matplotlib.pyplot as plt\n",
    "    plt.figure( figsize=(12,4) )\n",
    "\n",
    "    plt.subplot( 1,2,1 )\n",
    "    plt.plot( history.history['loss'], 'b-', label='loss' )\n",
    "    plt.plot( history.history['val_loss'], 'r--', label='val_loss' )\n",
    "    plt.xlabel( 'Epoch' )\n",
    "    plt.legend()\n",
    "\n",
    "    plt.subplot( 1, 2, 2 )\n",
    "    plt.plot( history.history['accuracy'], 'g-', label='accuracy' )\n",
    "    plt.plot( history.history['val_accuracy'], 'k--', label='val_accuracy' )\n",
    "    plt.xlabel( 'Epoch' )\n",
    "    plt.ylim( 0.7, 1 )\n",
    "    plt.legend()\n",
    "\n",
    "    plt.show()"
   ]
  },
  {
   "cell_type": "code",
   "execution_count": 3,
   "metadata": {},
   "outputs": [
    {
     "data": {
      "image/png": "[encoded data removed]",
      "text/plain": [
       "<Figure size 432x288 with 2 Axes>"
      ]
     },
     "metadata": {
      "needs_background": "light"
     },
     "output_type": "display_data"
    }
   ],
   "source": [
    "import tensorflow as tf\n",
    "\n",
    "fashion_mnist_module = tf.keras.datasets.fashion_mnist\n",
    "(train_x, train_y), (test_x, test_y) = fashion_mnist_module.load_data()\n",
    "\n",
    "show_an_image( train_x[0], cmap='gray')"
   ]
  },
  {
   "cell_type": "code",
   "execution_count": 4,
   "metadata": {},
   "outputs": [],
   "source": [
    "# Normalize data\n",
    "train_x = train_x / 255.0\n",
    "test_x = test_x / 255.0"
   ]
  },
  {
   "cell_type": "markdown",
   "metadata": {},
   "source": [
    "CNN에 쓰이는 Conv2D 레이어는 채널을 가진 형태의 데이터를 받도록 설정되어 있으므로 채널을 가지도록 데이터의 shape을 바꿉니다."
   ]
  },
  {
   "cell_type": "code",
   "execution_count": 5,
   "metadata": {},
   "outputs": [
    {
     "data": {
      "text/plain": [
       "((60000, 28, 28), (10000, 28, 28))"
      ]
     },
     "execution_count": 5,
     "metadata": {},
     "output_type": "execute_result"
    }
   ],
   "source": [
    "train_x.shape, test_x.shape"
   ]
  },
  {
   "cell_type": "code",
   "execution_count": 6,
   "metadata": {},
   "outputs": [],
   "source": [
    "train_x = train_x.reshape(-1, 28, 28, 1)\n",
    "test_x = test_x.reshape(-1, 28, 28, 1)"
   ]
  },
  {
   "cell_type": "code",
   "execution_count": 7,
   "metadata": {},
   "outputs": [
    {
     "data": {
      "text/plain": [
       "((60000, 28, 28, 1), (10000, 28, 28, 1))"
      ]
     },
     "execution_count": 7,
     "metadata": {},
     "output_type": "execute_result"
    }
   ],
   "source": [
    "train_x.shape, test_x.shape"
   ]
  },
  {
   "cell_type": "markdown",
   "metadata": {},
   "source": [
    "흑백 이미지는 1개의 채널을 갖습니다. reshape()함수로 제일 뒤쪽에 채널 차원을 추가합니다. x1을 곱해준 것이므로 데이터 수는 달라지지 않습니다.\n",
    "> 6000 x 28 x 28 = 6000 x 28 x 28 x 1"
   ]
  },
  {
   "cell_type": "markdown",
   "metadata": {},
   "source": [
    "## 컨볼루션 신경망 모델 정의"
   ]
  },
  {
   "cell_type": "code",
   "execution_count": 8,
   "metadata": {},
   "outputs": [
    {
     "name": "stdout",
     "output_type": "stream",
     "text": [
      "Model: \"sequential\"\n",
      "_________________________________________________________________\n",
      "Layer (type)                 Output Shape              Param #   \n",
      "=================================================================\n",
      "conv2d (Conv2D)              (None, 26, 26, 16)        160       \n",
      "_________________________________________________________________\n",
      "conv2d_1 (Conv2D)            (None, 24, 24, 32)        4640      \n",
      "_________________________________________________________________\n",
      "conv2d_2 (Conv2D)            (None, 22, 22, 64)        18496     \n",
      "_________________________________________________________________\n",
      "flatten (Flatten)            (None, 30976)             0         \n",
      "_________________________________________________________________\n",
      "dense (Dense)                (None, 128)               3965056   \n",
      "_________________________________________________________________\n",
      "dense_1 (Dense)              (None, 10)                1290      \n",
      "=================================================================\n",
      "Total params: 3,989,642\n",
      "Trainable params: 3,989,642\n",
      "Non-trainable params: 0\n",
      "_________________________________________________________________\n"
     ]
    }
   ],
   "source": [
    "model = tf.keras.Sequential( [\n",
    "    tf.keras.layers.Conv2D( input_shape=(28,28,1), kernel_size=(3,3), filters=16 ),\n",
    "    tf.keras.layers.Conv2D( kernel_size=(3,3), filters=32 ),\n",
    "    tf.keras.layers.Conv2D( kernel_size=(3,3), filters=64 ),\n",
    "    tf.keras.layers.Flatten(),\n",
    "    tf.keras.layers.Dense( units=128, activation='relu' ),\n",
    "    tf.keras.layers.Dense( units=10, activation='softmax' )\n",
    "] )\n",
    "model.compile( optimizer=tf.keras.optimizers.Adam(), loss='sparse_categorical_crossentropy', metrics=['accuracy'] )\n",
    "model.summary()"
   ]
  },
  {
   "cell_type": "code",
   "execution_count": 9,
   "metadata": {},
   "outputs": [
    {
     "name": "stdout",
     "output_type": "stream",
     "text": [
      "NVIDIA-SMI has failed because it couldn't communicate with the NVIDIA driver. Make sure that the latest NVIDIA driver is installed and running.\n",
      "\n"
     ]
    }
   ],
   "source": [
    "!nvidia-smi"
   ]
  },
  {
   "cell_type": "markdown",
   "metadata": {},
   "source": [
    "## 모델 학습"
   ]
  },
  {
   "cell_type": "code",
   "execution_count": 10,
   "metadata": {},
   "outputs": [
    {
     "name": "stdout",
     "output_type": "stream",
     "text": [
      "Train on 45000 samples, validate on 15000 samples\n",
      "Epoch 1/25\n",
      "45000/45000 [==============================] - 68s 2ms/sample - loss: 0.4695 - accuracy: 0.8329 - val_loss: 0.4087 - val_accuracy: 0.8535\n",
      "Epoch 2/25\n",
      "45000/45000 [==============================] - 65s 1ms/sample - loss: 0.3413 - accuracy: 0.8764 - val_loss: 0.3628 - val_accuracy: 0.8703\n",
      "Epoch 3/25\n",
      "45000/45000 [==============================] - 65s 1ms/sample - loss: 0.2864 - accuracy: 0.8940 - val_loss: 0.3675 - val_accuracy: 0.8711\n",
      "Epoch 4/25\n",
      "45000/45000 [==============================] - 63s 1ms/sample - loss: 0.2413 - accuracy: 0.9105 - val_loss: 0.4012 - val_accuracy: 0.8656\n",
      "Epoch 5/25\n",
      "45000/45000 [==============================] - 69s 2ms/sample - loss: 0.2153 - accuracy: 0.9197 - val_loss: 0.4695 - val_accuracy: 0.8649\n",
      "Epoch 6/25\n",
      "45000/45000 [==============================] - 65s 1ms/sample - loss: 0.1811 - accuracy: 0.9348 - val_loss: 0.4926 - val_accuracy: 0.8655\n",
      "Epoch 7/25\n",
      "45000/45000 [==============================] - 68s 2ms/sample - loss: 0.1688 - accuracy: 0.9372 - val_loss: 0.4990 - val_accuracy: 0.8634\n",
      "Epoch 8/25\n",
      "45000/45000 [==============================] - 66s 1ms/sample - loss: 0.1471 - accuracy: 0.9456 - val_loss: 0.5184 - val_accuracy: 0.8694\n",
      "Epoch 9/25\n",
      "45000/45000 [==============================] - 64s 1ms/sample - loss: 0.1380 - accuracy: 0.9496 - val_loss: 0.5837 - val_accuracy: 0.8595\n",
      "Epoch 10/25\n",
      "45000/45000 [==============================] - 79s 2ms/sample - loss: 0.1216 - accuracy: 0.9550 - val_loss: 0.6180 - val_accuracy: 0.8695\n",
      "Epoch 11/25\n",
      "45000/45000 [==============================] - 65s 1ms/sample - loss: 0.1146 - accuracy: 0.9578 - val_loss: 0.6991 - val_accuracy: 0.8693\n",
      "Epoch 12/25\n",
      "45000/45000 [==============================] - 64s 1ms/sample - loss: 0.1066 - accuracy: 0.9609 - val_loss: 0.7187 - val_accuracy: 0.8659\n",
      "Epoch 13/25\n",
      "45000/45000 [==============================] - 67s 1ms/sample - loss: 0.0989 - accuracy: 0.9641 - val_loss: 0.7396 - val_accuracy: 0.8656\n",
      "Epoch 14/25\n",
      "45000/45000 [==============================] - 69s 2ms/sample - loss: 0.0856 - accuracy: 0.9693 - val_loss: 0.7926 - val_accuracy: 0.8685\n",
      "Epoch 15/25\n",
      "45000/45000 [==============================] - 69s 2ms/sample - loss: 0.0921 - accuracy: 0.9676 - val_loss: 0.8071 - val_accuracy: 0.8624\n",
      "Epoch 16/25\n",
      "45000/45000 [==============================] - 65s 1ms/sample - loss: 0.0811 - accuracy: 0.9710 - val_loss: 0.9481 - val_accuracy: 0.8640\n",
      "Epoch 17/25\n",
      "45000/45000 [==============================] - 66s 1ms/sample - loss: 0.0824 - accuracy: 0.9720 - val_loss: 1.0205 - val_accuracy: 0.8529\n",
      "Epoch 18/25\n",
      "45000/45000 [==============================] - 63s 1ms/sample - loss: 0.0740 - accuracy: 0.9746 - val_loss: 0.9124 - val_accuracy: 0.8693\n",
      "Epoch 19/25\n",
      "45000/45000 [==============================] - 70s 2ms/sample - loss: 0.0741 - accuracy: 0.9740 - val_loss: 1.1250 - val_accuracy: 0.8618\n",
      "Epoch 20/25\n",
      "45000/45000 [==============================] - 75s 2ms/sample - loss: 0.0659 - accuracy: 0.9774 - val_loss: 1.0258 - val_accuracy: 0.8685\n",
      "Epoch 21/25\n",
      "45000/45000 [==============================] - 68s 2ms/sample - loss: 0.0683 - accuracy: 0.9778 - val_loss: 1.1619 - val_accuracy: 0.8533\n",
      "Epoch 22/25\n",
      "45000/45000 [==============================] - 64s 1ms/sample - loss: 0.0667 - accuracy: 0.9768 - val_loss: 1.1972 - val_accuracy: 0.8569\n",
      "Epoch 23/25\n",
      "45000/45000 [==============================] - 75s 2ms/sample - loss: 0.0631 - accuracy: 0.9789 - val_loss: 1.1786 - val_accuracy: 0.8609\n",
      "Epoch 24/25\n",
      "45000/45000 [==============================] - 70s 2ms/sample - loss: 0.0619 - accuracy: 0.9801 - val_loss: 1.4029 - val_accuracy: 0.8574\n",
      "Epoch 25/25\n",
      "45000/45000 [==============================] - 67s 1ms/sample - loss: 0.0609 - accuracy: 0.9807 - val_loss: 1.4281 - val_accuracy: 0.8574\n"
     ]
    }
   ],
   "source": [
    "history = model.fit( train_x, train_y, epochs=25, validation_split=0.25 )"
   ]
  },
  {
   "cell_type": "code",
   "execution_count": 11,
   "metadata": {},
   "outputs": [
    {
     "data": {
      "image/png": "[encoded data removed]",
      "text/plain": [
       "<Figure size 864x288 with 2 Axes>"
      ]
     },
     "metadata": {
      "needs_background": "light"
     },
     "output_type": "display_data"
    }
   ],
   "source": [
    "plot_learning_curve( history )"
   ]
  },
  {
   "cell_type": "code",
   "execution_count": 12,
   "metadata": {},
   "outputs": [
    {
     "data": {
      "text/plain": [
       "[1.5061400726184249, 0.8523]"
      ]
     },
     "execution_count": 12,
     "metadata": {},
     "output_type": "execute_result"
    }
   ],
   "source": [
    "model.evaluate( test_x, test_y, verbose=0 )"
   ]
  },
  {
   "cell_type": "markdown",
   "metadata": {},
   "source": [
    "* 훈련 데이터의 Accuracy가 높아지지만, validation accuracy는 85% 정도에 머무르고 있습니다.\n",
    "* 훈련 데이터의 loss가 꾸준히 내려가고, validation loss (val_loss)는 계속 상승합니다.\n",
    "  * 과적합이 일어났을 때의 전형적인 형태입니다.\n",
    "* 과적합을 해소해서 성능을 개선하기 위해 풀링 레이어와 드롭아웃 레이어를 도입합니다."
   ]
  },
  {
   "cell_type": "code",
   "execution_count": 13,
   "metadata": {},
   "outputs": [
    {
     "name": "stdout",
     "output_type": "stream",
     "text": [
      "Model: \"sequential_1\"\n",
      "_________________________________________________________________\n",
      "Layer (type)                 Output Shape              Param #   \n",
      "=================================================================\n",
      "conv2d_3 (Conv2D)            (None, 26, 26, 32)        320       \n",
      "_________________________________________________________________\n",
      "max_pooling2d (MaxPooling2D) (None, 13, 13, 32)        0         \n",
      "_________________________________________________________________\n",
      "conv2d_4 (Conv2D)            (None, 11, 11, 64)        18496     \n",
      "_________________________________________________________________\n",
      "max_pooling2d_1 (MaxPooling2 (None, 5, 5, 64)          0         \n",
      "_________________________________________________________________\n",
      "conv2d_5 (Conv2D)            (None, 3, 3, 128)         73856     \n",
      "_________________________________________________________________\n",
      "flatten_1 (Flatten)          (None, 1152)              0         \n",
      "_________________________________________________________________\n",
      "dense_2 (Dense)              (None, 128)               147584    \n",
      "_________________________________________________________________\n",
      "dropout (Dropout)            (None, 128)               0         \n",
      "_________________________________________________________________\n",
      "dense_3 (Dense)              (None, 10)                1290      \n",
      "=================================================================\n",
      "Total params: 241,546\n",
      "Trainable params: 241,546\n",
      "Non-trainable params: 0\n",
      "_________________________________________________________________\n"
     ]
    }
   ],
   "source": [
    "import tensorflow as tf\n",
    "\n",
    "model = tf.keras.Sequential( [\n",
    "    tf.keras.layers.Conv2D( input_shape=(28,28,1), kernel_size=(3,3), filters=32 ), # from 16 to 32\n",
    "    tf.keras.layers.MaxPool2D( strides=(2,2) ),\n",
    "    tf.keras.layers.Conv2D( kernel_size=(3,3), filters=64 ), # from 32 to 64\n",
    "    tf.keras.layers.MaxPool2D( strides=(2,2) ),\n",
    "    tf.keras.layers.Conv2D( kernel_size=(3,3), filters=128 ), # from 64 to 128\n",
    "    tf.keras.layers.Flatten(),\n",
    "    tf.keras.layers.Dense( units=128, activation='relu' ),\n",
    "    tf.keras.layers.Dropout( rate=0.3 ),  # new\n",
    "    tf.keras.layers.Dense( units=10, activation='softmax' )\n",
    "] )\n",
    "model.compile( optimizer=tf.keras.optimizers.Adam(), loss='sparse_categorical_crossentropy', metrics=['accuracy'] )\n",
    "model.summary()"
   ]
  },
  {
   "cell_type": "markdown",
   "metadata": {},
   "source": [
    "처음의 풀링과 드롭아웃이 없는 CNN구조의 총 파라미터 개수와 비교해봅니다.\n",
    "> Total params: 3,989,642\n",
    "> Trainable params: 3,989,642\n",
    "\n",
    "약 400만개에서 약 24만개로 줄어들었습니다. 6%정도로 파라미터 개수가 줄었습니다."
   ]
  },
  {
   "cell_type": "code",
   "execution_count": 14,
   "metadata": {},
   "outputs": [
    {
     "name": "stdout",
     "output_type": "stream",
     "text": [
      "Train on 45000 samples, validate on 15000 samples\n",
      "Epoch 1/25\n",
      "45000/45000 [==============================] - 29s 641us/sample - loss: 0.5334 - accuracy: 0.8072 - val_loss: 0.3746 - val_accuracy: 0.8654\n",
      "Epoch 2/25\n",
      "45000/45000 [==============================] - 28s 614us/sample - loss: 0.3605 - accuracy: 0.8708 - val_loss: 0.3222 - val_accuracy: 0.8779\n",
      "Epoch 3/25\n",
      "45000/45000 [==============================] - 24s 535us/sample - loss: 0.3188 - accuracy: 0.8861 - val_loss: 0.3100 - val_accuracy: 0.8867\n",
      "Epoch 4/25\n",
      "45000/45000 [==============================] - 25s 548us/sample - loss: 0.2939 - accuracy: 0.8922 - val_loss: 0.3072 - val_accuracy: 0.8905\n",
      "Epoch 5/25\n",
      "45000/45000 [==============================] - 24s 529us/sample - loss: 0.2724 - accuracy: 0.9013 - val_loss: 0.3102 - val_accuracy: 0.8878\n",
      "Epoch 6/25\n",
      "45000/45000 [==============================] - 21s 477us/sample - loss: 0.2537 - accuracy: 0.9069 - val_loss: 0.3103 - val_accuracy: 0.8870\n",
      "Epoch 7/25\n",
      "45000/45000 [==============================] - 25s 566us/sample - loss: 0.2377 - accuracy: 0.9120 - val_loss: 0.3209 - val_accuracy: 0.8919\n",
      "Epoch 8/25\n",
      "45000/45000 [==============================] - 25s 560us/sample - loss: 0.2286 - accuracy: 0.9158 - val_loss: 0.3224 - val_accuracy: 0.8853\n",
      "Epoch 9/25\n",
      "45000/45000 [==============================] - 22s 495us/sample - loss: 0.2168 - accuracy: 0.9198 - val_loss: 0.3122 - val_accuracy: 0.8938\n",
      "Epoch 10/25\n",
      "45000/45000 [==============================] - 25s 561us/sample - loss: 0.2027 - accuracy: 0.9240 - val_loss: 0.3205 - val_accuracy: 0.8977\n",
      "Epoch 11/25\n",
      "45000/45000 [==============================] - 33s 723us/sample - loss: 0.1980 - accuracy: 0.9274 - val_loss: 0.3252 - val_accuracy: 0.8958\n",
      "Epoch 12/25\n",
      "45000/45000 [==============================] - 26s 578us/sample - loss: 0.1897 - accuracy: 0.9280 - val_loss: 0.3299 - val_accuracy: 0.8973\n",
      "Epoch 13/25\n",
      "45000/45000 [==============================] - 23s 503us/sample - loss: 0.1835 - accuracy: 0.9300 - val_loss: 0.3320 - val_accuracy: 0.8975\n",
      "Epoch 14/25\n",
      "45000/45000 [==============================] - 24s 538us/sample - loss: 0.1742 - accuracy: 0.9338 - val_loss: 0.3418 - val_accuracy: 0.8966\n",
      "Epoch 15/25\n",
      "45000/45000 [==============================] - 24s 535us/sample - loss: 0.1658 - accuracy: 0.9374 - val_loss: 0.3558 - val_accuracy: 0.8927\n",
      "Epoch 16/25\n",
      "45000/45000 [==============================] - 22s 498us/sample - loss: 0.1648 - accuracy: 0.9380 - val_loss: 0.3672 - val_accuracy: 0.8985\n",
      "Epoch 17/25\n",
      "45000/45000 [==============================] - 24s 525us/sample - loss: 0.1580 - accuracy: 0.9402 - val_loss: 0.3820 - val_accuracy: 0.8961\n",
      "Epoch 18/25\n",
      "45000/45000 [==============================] - 27s 601us/sample - loss: 0.1550 - accuracy: 0.9421 - val_loss: 0.4328 - val_accuracy: 0.8942\n",
      "Epoch 19/25\n",
      "45000/45000 [==============================] - 25s 549us/sample - loss: 0.1517 - accuracy: 0.9434 - val_loss: 0.4196 - val_accuracy: 0.8973\n",
      "Epoch 20/25\n",
      "45000/45000 [==============================] - 25s 546us/sample - loss: 0.1461 - accuracy: 0.9444 - val_loss: 0.4197 - val_accuracy: 0.8958\n",
      "Epoch 21/25\n",
      "45000/45000 [==============================] - 22s 483us/sample - loss: 0.1468 - accuracy: 0.9454 - val_loss: 0.4142 - val_accuracy: 0.8968\n",
      "Epoch 22/25\n",
      "45000/45000 [==============================] - 22s 492us/sample - loss: 0.1450 - accuracy: 0.9462 - val_loss: 0.4225 - val_accuracy: 0.8997\n",
      "Epoch 23/25\n",
      "45000/45000 [==============================] - 27s 594us/sample - loss: 0.1381 - accuracy: 0.9490 - val_loss: 0.4401 - val_accuracy: 0.8956\n",
      "Epoch 24/25\n",
      "45000/45000 [==============================] - 30s 678us/sample - loss: 0.1401 - accuracy: 0.9483 - val_loss: 0.4851 - val_accuracy: 0.8993\n",
      "Epoch 25/25\n",
      "45000/45000 [==============================] - 27s 595us/sample - loss: 0.1291 - accuracy: 0.9523 - val_loss: 0.4736 - val_accuracy: 0.8971\n"
     ]
    }
   ],
   "source": [
    "history = model.fit( train_x, train_y, epochs=25, validation_split=0.25 )"
   ]
  },
  {
   "cell_type": "code",
   "execution_count": 15,
   "metadata": {},
   "outputs": [
    {
     "data": {
      "image/png": "[encoded data removed]",
      "text/plain": [
       "<Figure size 864x288 with 2 Axes>"
      ]
     },
     "metadata": {
      "needs_background": "light"
     },
     "output_type": "display_data"
    }
   ],
   "source": [
    "plot_learning_curve( history )"
   ]
  },
  {
   "cell_type": "code",
   "execution_count": 16,
   "metadata": {},
   "outputs": [
    {
     "data": {
      "text/plain": [
       "[0.470490270319581, 0.8934]"
      ]
     },
     "execution_count": 16,
     "metadata": {},
     "output_type": "execute_result"
    }
   ],
   "source": [
    "model.evaluate( test_x, test_y, verbose=0 )"
   ]
  },
  {
   "cell_type": "markdown",
   "metadata": {},
   "source": [
    "맥스풀링과 드롭아웃을 적용한 결과 Validation Accuracy가 0.85보다 몇프로 개선되고, 테스트 성능도 89.34%로 향상되었습니다. 다음에는 이보다 더 성능을 향상시키는 방법을 적용할 예정입니다."
   ]
  }
 ],
 "metadata": {
  "kernelspec": {
   "display_name": "conda_tensorflow2_p36",
   "language": "python",
   "name": "conda_tensorflow2_p36"
  },
  "language_info": {
   "codemirror_mode": {
    "name": "ipython",
    "version": 3
   },
   "file_extension": ".py",
   "mimetype": "text/x-python",
   "name": "python",
   "nbconvert_exporter": "python",
   "pygments_lexer": "ipython3",
   "version": "3.6.10"
  }
 },
 "nbformat": 4,
 "nbformat_minor": 4
}

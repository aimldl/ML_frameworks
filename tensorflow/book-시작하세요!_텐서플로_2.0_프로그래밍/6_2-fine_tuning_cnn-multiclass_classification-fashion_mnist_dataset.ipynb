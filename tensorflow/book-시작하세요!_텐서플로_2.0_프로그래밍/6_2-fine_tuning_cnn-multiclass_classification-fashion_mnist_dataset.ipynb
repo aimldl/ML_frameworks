{
 "cells": [
  {
   "cell_type": "markdown",
   "metadata": {},
   "source": [
    "# 6.2. Fine-Tuning CNN Multiclass Classification - Fashion MNIST Dataset\n",
    "* \"시작하세요! 텐서플로우 2.0 프로그래밍\",\n",
    "  * 6.4. 퍼포먼스 높이기, pp.161-172\n",
    "    * 6.4.1. 더 많은 레이어 쌓기 pp.162-166\n",
    "  \n",
    "* Fashion MNIST 데이터세트를 CNN으로 훈련하는 문제입니다. \n",
    "* 단순한 구조지만 괜찮은 성능을 보이는 CNN 구조인 VGGNet 스타일 모델의 85% 정확도를 높이는 것이 목적입니다.\n",
    "  * VGGNet은 여러 구조로 실험이 진행됐고, 웨이트 있는 레이어가 19개 있는 VGG-19가 가장 깊은 구조입니다.\n",
    "  * (Conv2D x2 + MaxPool2D)x2 + (Conv2D x4 + MaxPool2D )x3 + Dense x3= 2x2 + 4x3 + 3 = 4+12+3=19\n",
    "  * (Conv2D x2 + MaxPool2D)x2 + (Conv2D x4 + MaxPool2D )x3 = 3x2 + 5x3 = 6+15=21 이므로 안 맞음\n",
    "* 더 많은 레이어를 쌓아서 성능을 높여봅니다.\n",
    "* GPU Instance를 쓰지 않으면 시간이 많이 걸립니다.\n",
    "  * AWS Instance를 ml.p2.xlarge로 변경합니다.\n",
    "  * GPU 1개를 쓸 수 있습니다.\n",
    "* P2 Instance Details\n",
    "  * 상세한 내용은 [Amazon EC2 P2 Instances](https://aws.amazon.com/ec2/instance-types/p2/)를 참고하세요."
   ]
  },
  {
   "cell_type": "markdown",
   "metadata": {},
   "source": [
    "|     Name    | GPUs | vCPUs | RAM (GiB)      | Network Bandwidth | Price/Hour* | RI Price / Hour** |\n",
    "|:-----------:|:----:|:-----:|:--------------:|:-----------------:|:-----------:|:-----------------:|\n",
    "| p2.xlarge   |   1  |   4   |       61       |        High       |    $0.900   |       $0.425      |\n",
    "| p2.8xlarge  |   8  |   32  |       488      |      10 Gbps      |    $7.200   |       $3.400      |\n",
    "| p2.16xlarge |  16  |   64  |       732      |      20 Gbps      |   $14.400   |       $6.800      |"
   ]
  },
  {
   "cell_type": "code",
   "execution_count": 1,
   "metadata": {},
   "outputs": [],
   "source": [
    "def show_an_image( numpy_ndarray, cmap=None ):\n",
    "  # Fashion MNIST Dataset\n",
    "  import matplotlib.pyplot as plt\n",
    "\n",
    "  plt.imshow( numpy_ndarray, cmap )\n",
    "  plt.colorbar()\n",
    "  plt.show()\n",
    "  \n",
    "def plot_learning_curve( history ):\n",
    "\n",
    "    import matplotlib.pyplot as plt\n",
    "    plt.figure( figsize=(12,4) )\n",
    "\n",
    "    plt.subplot( 1,2,1 )\n",
    "    plt.plot( history.history['loss'], 'b-', label='loss' )\n",
    "    plt.plot( history.history['val_loss'], 'r--', label='val_loss' )\n",
    "    plt.xlabel( 'Epoch' )\n",
    "    plt.legend()\n",
    "\n",
    "    plt.subplot( 1, 2, 2 )\n",
    "    plt.plot( history.history['accuracy'], 'g-', label='accuracy' )\n",
    "    plt.plot( history.history['val_accuracy'], 'k--', label='val_accuracy' )\n",
    "    plt.xlabel( 'Epoch' )\n",
    "    plt.ylim( 0.7, 1 )\n",
    "    plt.legend()\n",
    "\n",
    "    plt.show()"
   ]
  },
  {
   "cell_type": "code",
   "execution_count": 2,
   "metadata": {},
   "outputs": [],
   "source": [
    "def get_dataset():\n",
    "  import tensorflow as tf\n",
    "\n",
    "  fashion_mnist_module = tf.keras.datasets.fashion_mnist\n",
    "  (train_x, train_y), (test_x, test_y) = fashion_mnist_module.load_data()\n",
    "\n",
    "  # Normalize data\n",
    "  train_x = train_x / 255.0\n",
    "  test_x = test_x / 255.0\n",
    "\n",
    "  train_x = train_x.reshape(-1, 28, 28, 1)\n",
    "  test_x = test_x.reshape(-1, 28, 28, 1)\n",
    "\n",
    "  return (train_x, train_y), (test_x, test_y)"
   ]
  },
  {
   "cell_type": "code",
   "execution_count": 3,
   "metadata": {},
   "outputs": [
    {
     "name": "stdout",
     "output_type": "stream",
     "text": [
      "Downloading data from https://storage.googleapis.com/tensorflow/tf-keras-datasets/train-labels-idx1-ubyte.gz\n",
      "32768/29515 [=================================] - 0s 1us/step\n",
      "Downloading data from https://storage.googleapis.com/tensorflow/tf-keras-datasets/train-images-idx3-ubyte.gz\n",
      "26427392/26421880 [==============================] - 1s 0us/step\n",
      "Downloading data from https://storage.googleapis.com/tensorflow/tf-keras-datasets/t10k-labels-idx1-ubyte.gz\n",
      "8192/5148 [===============================================] - 0s 0us/step\n",
      "Downloading data from https://storage.googleapis.com/tensorflow/tf-keras-datasets/t10k-images-idx3-ubyte.gz\n",
      "4423680/4422102 [==============================] - 0s 0us/step\n"
     ]
    }
   ],
   "source": [
    "(train_x, train_y), (test_x, test_y) = get_dataset()"
   ]
  },
  {
   "cell_type": "markdown",
   "metadata": {},
   "source": [
    "### 6.4.1. 더 많은 레이어 쌓기"
   ]
  },
  {
   "cell_type": "code",
   "execution_count": 4,
   "metadata": {},
   "outputs": [
    {
     "name": "stdout",
     "output_type": "stream",
     "text": [
      "Model: \"sequential\"\n",
      "_________________________________________________________________\n",
      "Layer (type)                 Output Shape              Param #   \n",
      "=================================================================\n",
      "conv2d (Conv2D)              (None, 28, 28, 32)        320       \n",
      "_________________________________________________________________\n",
      "conv2d_1 (Conv2D)            (None, 28, 28, 64)        18496     \n",
      "_________________________________________________________________\n",
      "max_pooling2d (MaxPooling2D) (None, 14, 14, 64)        0         \n",
      "_________________________________________________________________\n",
      "dropout (Dropout)            (None, 14, 14, 64)        0         \n",
      "_________________________________________________________________\n",
      "conv2d_2 (Conv2D)            (None, 14, 14, 128)       73856     \n",
      "_________________________________________________________________\n",
      "conv2d_3 (Conv2D)            (None, 12, 12, 256)       295168    \n",
      "_________________________________________________________________\n",
      "max_pooling2d_1 (MaxPooling2 (None, 6, 6, 256)         0         \n",
      "_________________________________________________________________\n",
      "dropout_1 (Dropout)          (None, 6, 6, 256)         0         \n",
      "_________________________________________________________________\n",
      "flatten (Flatten)            (None, 9216)              0         \n",
      "_________________________________________________________________\n",
      "dense (Dense)                (None, 512)               4719104   \n",
      "_________________________________________________________________\n",
      "dropout_2 (Dropout)          (None, 512)               0         \n",
      "_________________________________________________________________\n",
      "dense_1 (Dense)              (None, 256)               131328    \n",
      "_________________________________________________________________\n",
      "dropout_3 (Dropout)          (None, 256)               0         \n",
      "_________________________________________________________________\n",
      "dense_2 (Dense)              (None, 10)                2570      \n",
      "=================================================================\n",
      "Total params: 5,240,842\n",
      "Trainable params: 5,240,842\n",
      "Non-trainable params: 0\n",
      "_________________________________________________________________\n"
     ]
    }
   ],
   "source": [
    "import tensorflow as tf\n",
    "\n",
    "# VGG-like architecture: it's like VGG-7\n",
    "\n",
    "model = tf.keras.Sequential([\n",
    "  # Feature extractor\n",
    "  tf.keras.layers.Conv2D( input_shape=(28,28,1), kernel_size=(3,3), filters=32, padding='same', activation='relu' ),\n",
    "  tf.keras.layers.Conv2D( kernel_size=(3,3), filters=64, padding='same', activation='relu' ),\n",
    "  tf.keras.layers.MaxPool2D( pool_size=(2,2) ), \n",
    "  tf.keras.layers.Dropout( rate=0.5 ),\n",
    "  tf.keras.layers.Conv2D( kernel_size=(3,3), filters=128, padding='same', activation='relu' ),\n",
    "  tf.keras.layers.Conv2D( kernel_size=(3,3), filters=256, padding='valid', activation='relu' ), # valid, not same!\n",
    "  tf.keras.layers.MaxPool2D( pool_size=(2,2) ),\n",
    "  tf.keras.layers.Dropout( rate=0.5 ),\n",
    "  # Classifier\n",
    "  tf.keras.layers.Flatten(),\n",
    "  tf.keras.layers.Dense( units=512, activation='relu'),\n",
    "  tf.keras.layers.Dropout( rate=0.5 ),\n",
    "  tf.keras.layers.Dense( units=256, activation='relu'),\n",
    "  tf.keras.layers.Dropout( rate=0.5 ),\n",
    "  tf.keras.layers.Dense( units=10, activation='softmax')\n",
    "])\n",
    "\n",
    "model.compile( optimizer=tf.keras.optimizers.Adam(),\n",
    "               loss='sparse_categorical_crossentropy',\n",
    "               metrics=['accuracy'] )\n",
    "\n",
    "model.summary()"
   ]
  },
  {
   "cell_type": "code",
   "execution_count": 5,
   "metadata": {},
   "outputs": [
    {
     "name": "stdout",
     "output_type": "stream",
     "text": [
      "Train on 45000 samples, validate on 15000 samples\n",
      "Epoch 1/25\n",
      "45000/45000 [==============================] - 70s 2ms/sample - loss: 0.5919 - accuracy: 0.7868 - val_loss: 0.3332 - val_accuracy: 0.8759\n",
      "Epoch 2/25\n",
      "45000/45000 [==============================] - 24s 538us/sample - loss: 0.3668 - accuracy: 0.8680 - val_loss: 0.2869 - val_accuracy: 0.8939\n",
      "Epoch 3/25\n",
      "45000/45000 [==============================] - 24s 538us/sample - loss: 0.3236 - accuracy: 0.8827 - val_loss: 0.2596 - val_accuracy: 0.9035\n",
      "Epoch 4/25\n",
      "45000/45000 [==============================] - 24s 540us/sample - loss: 0.3025 - accuracy: 0.8905 - val_loss: 0.2571 - val_accuracy: 0.9011\n",
      "Epoch 5/25\n",
      "45000/45000 [==============================] - 24s 542us/sample - loss: 0.2914 - accuracy: 0.8939 - val_loss: 0.2450 - val_accuracy: 0.9083\n",
      "Epoch 6/25\n",
      "45000/45000 [==============================] - 23s 516us/sample - loss: 0.2764 - accuracy: 0.8999 - val_loss: 0.2271 - val_accuracy: 0.9141\n",
      "Epoch 7/25\n",
      "45000/45000 [==============================] - 23s 516us/sample - loss: 0.2678 - accuracy: 0.9027 - val_loss: 0.2199 - val_accuracy: 0.9183\n",
      "Epoch 8/25\n",
      "45000/45000 [==============================] - 23s 517us/sample - loss: 0.2618 - accuracy: 0.9044 - val_loss: 0.2184 - val_accuracy: 0.9184\n",
      "Epoch 9/25\n",
      "45000/45000 [==============================] - 23s 518us/sample - loss: 0.2541 - accuracy: 0.9065 - val_loss: 0.2154 - val_accuracy: 0.9213\n",
      "Epoch 10/25\n",
      "45000/45000 [==============================] - 23s 519us/sample - loss: 0.2506 - accuracy: 0.9083 - val_loss: 0.2289 - val_accuracy: 0.9119\n",
      "Epoch 11/25\n",
      "45000/45000 [==============================] - 23s 521us/sample - loss: 0.2456 - accuracy: 0.9107 - val_loss: 0.2095 - val_accuracy: 0.9245\n",
      "Epoch 12/25\n",
      "45000/45000 [==============================] - 24s 543us/sample - loss: 0.2450 - accuracy: 0.9111 - val_loss: 0.2182 - val_accuracy: 0.9253\n",
      "Epoch 13/25\n",
      "45000/45000 [==============================] - 24s 536us/sample - loss: 0.2462 - accuracy: 0.9111 - val_loss: 0.2118 - val_accuracy: 0.9248\n",
      "Epoch 14/25\n",
      "45000/45000 [==============================] - 24s 543us/sample - loss: 0.2379 - accuracy: 0.9143 - val_loss: 0.2088 - val_accuracy: 0.9207\n",
      "Epoch 15/25\n",
      "45000/45000 [==============================] - 24s 541us/sample - loss: 0.2336 - accuracy: 0.9155 - val_loss: 0.2086 - val_accuracy: 0.9261\n",
      "Epoch 16/25\n",
      "45000/45000 [==============================] - 24s 541us/sample - loss: 0.2295 - accuracy: 0.9176 - val_loss: 0.2125 - val_accuracy: 0.9247\n",
      "Epoch 17/25\n",
      "45000/45000 [==============================] - 24s 523us/sample - loss: 0.2316 - accuracy: 0.9174 - val_loss: 0.2134 - val_accuracy: 0.9273\n",
      "Epoch 18/25\n",
      "45000/45000 [==============================] - 23s 521us/sample - loss: 0.2312 - accuracy: 0.9171 - val_loss: 0.2043 - val_accuracy: 0.9261\n",
      "Epoch 19/25\n",
      "45000/45000 [==============================] - 23s 519us/sample - loss: 0.2302 - accuracy: 0.9176 - val_loss: 0.2033 - val_accuracy: 0.9281\n",
      "Epoch 20/25\n",
      "45000/45000 [==============================] - 23s 518us/sample - loss: 0.2291 - accuracy: 0.9181 - val_loss: 0.2330 - val_accuracy: 0.9159\n",
      "Epoch 21/25\n",
      "45000/45000 [==============================] - 23s 518us/sample - loss: 0.2280 - accuracy: 0.9185 - val_loss: 0.2121 - val_accuracy: 0.9259\n",
      "Epoch 22/25\n",
      "45000/45000 [==============================] - 23s 519us/sample - loss: 0.2249 - accuracy: 0.9205 - val_loss: 0.2149 - val_accuracy: 0.9271\n",
      "Epoch 23/25\n",
      "45000/45000 [==============================] - 25s 545us/sample - loss: 0.2259 - accuracy: 0.9204 - val_loss: 0.2149 - val_accuracy: 0.9255\n",
      "Epoch 24/25\n",
      "45000/45000 [==============================] - 24s 540us/sample - loss: 0.2229 - accuracy: 0.9203 - val_loss: 0.2046 - val_accuracy: 0.9270\n",
      "Epoch 25/25\n",
      "45000/45000 [==============================] - 24s 542us/sample - loss: 0.2232 - accuracy: 0.9195 - val_loss: 0.2050 - val_accuracy: 0.9310\n"
     ]
    }
   ],
   "source": [
    "history = model.fit( train_x, train_y, epochs=25, validation_split=0.25 )"
   ]
  },
  {
   "cell_type": "code",
   "execution_count": 6,
   "metadata": {},
   "outputs": [
    {
     "data": {
      "image/png": "[encoded data removed]",
      "text/plain": [
       "<Figure size 864x288 with 2 Axes>"
      ]
     },
     "metadata": {
      "needs_background": "light"
     },
     "output_type": "display_data"
    }
   ],
   "source": [
    "plot_learning_curve( history )"
   ]
  },
  {
   "cell_type": "code",
   "execution_count": 7,
   "metadata": {},
   "outputs": [
    {
     "data": {
      "text/plain": [
       "[0.21762712924480437, 0.9271]"
      ]
     },
     "execution_count": 7,
     "metadata": {},
     "output_type": "execute_result"
    }
   ],
   "source": [
    "model.evaluate( test_x, test_y, verbose=0 )"
   ]
  },
  {
   "cell_type": "markdown",
   "metadata": {},
   "source": [
    "* 이제는 validation loss가 loss와 같이 떨어지는 정상적인 결과를 얻을 수 있습니다.\n",
    "* Accuracy와 Validation Accuracy도 유사하게 높아집니다.\n",
    "* 테스트 성능은 91.69%로 추가로 높아졌습니다."
   ]
  }
 ],
 "metadata": {
  "kernelspec": {
   "display_name": "conda_tensorflow2_p36",
   "language": "python",
   "name": "conda_tensorflow2_p36"
  },
  "language_info": {
   "codemirror_mode": {
    "name": "ipython",
    "version": 3
   },
   "file_extension": ".py",
   "mimetype": "text/x-python",
   "name": "python",
   "nbconvert_exporter": "python",
   "pygments_lexer": "ipython3",
   "version": "3.6.10"
  }
 },
 "nbformat": 4,
 "nbformat_minor": 4
}

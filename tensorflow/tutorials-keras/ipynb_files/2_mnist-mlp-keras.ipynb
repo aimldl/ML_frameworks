{
 "cells": [
  {
   "cell_type": "markdown",
   "metadata": {
    "id": "ouzc1T2tpOUG"
   },
   "source": [
    "# Training the MNIST Dataset with MLP on Keras\n",
    "* Google search: keras mnist example with mlp\n",
    "  * [How to create an MLP classifier with TensorFlow 2.0 and Keras](https://www.machinecurve.com/index.php/2019/07/27/how-to-create-a-basic-mlp-classifier-with-the-keras-sequential-api/)\n",
    "\n",
    "* The following Keras code is similar to the above reference, but not equal.\n",
    "* Read the reference to understand the details."
   ]
  },
  {
   "cell_type": "markdown",
   "metadata": {
    "id": "fG0TB0e19JHI"
   },
   "source": [
    "## Data acquisition"
   ]
  },
  {
   "cell_type": "code",
   "execution_count": 58,
   "metadata": {
    "executionInfo": {
     "elapsed": 914,
     "status": "ok",
     "timestamp": 1611502828798,
     "user": {
      "displayName": "Tae-Hyung Kim",
      "photoUrl": "https://lh3.googleusercontent.com/a-/AOh14GhHVPEGKeIfrDrHTOwxwL6QYScms0ZPakVT2tBlL6k=s64",
      "userId": "11130252197837695405"
     },
     "user_tz": -540
    },
    "id": "yloZxVHao_Jz"
   },
   "outputs": [],
   "source": [
    "from tensorflow import keras\n",
    "\n",
    "(x_train, y_train), (x_test, y_test) = keras.datasets.mnist.load_data()"
   ]
  },
  {
   "cell_type": "markdown",
   "metadata": {
    "id": "MFLJACdi9Gd8"
   },
   "source": [
    "## Data exploration"
   ]
  },
  {
   "cell_type": "code",
   "execution_count": 59,
   "metadata": {
    "colab": {
     "base_uri": "https://localhost:8080/"
    },
    "executionInfo": {
     "elapsed": 529,
     "status": "ok",
     "timestamp": 1611502836161,
     "user": {
      "displayName": "Tae-Hyung Kim",
      "photoUrl": "https://lh3.googleusercontent.com/a-/AOh14GhHVPEGKeIfrDrHTOwxwL6QYScms0ZPakVT2tBlL6k=s64",
      "userId": "11130252197837695405"
     },
     "user_tz": -540
    },
    "id": "TbffmvTvpaZk",
    "outputId": "f2b9db3e-dff3-4ab0-afb7-9b0a0ffc782b"
   },
   "outputs": [
    {
     "name": "stdout",
     "output_type": "stream",
     "text": [
      "<class 'numpy.ndarray'> <class 'numpy.ndarray'> <class 'numpy.ndarray'> <class 'numpy.ndarray'>\n"
     ]
    }
   ],
   "source": [
    "print(type(x_train), type(y_train), type(x_test), type(y_test))"
   ]
  },
  {
   "cell_type": "code",
   "execution_count": 60,
   "metadata": {
    "colab": {
     "base_uri": "https://localhost:8080/"
    },
    "executionInfo": {
     "elapsed": 540,
     "status": "ok",
     "timestamp": 1611502837999,
     "user": {
      "displayName": "Tae-Hyung Kim",
      "photoUrl": "https://lh3.googleusercontent.com/a-/AOh14GhHVPEGKeIfrDrHTOwxwL6QYScms0ZPakVT2tBlL6k=s64",
      "userId": "11130252197837695405"
     },
     "user_tz": -540
    },
    "id": "tVKglmdHptWF",
    "outputId": "c4958d31-8841-455f-c888-1d9374e19ca3"
   },
   "outputs": [
    {
     "name": "stdout",
     "output_type": "stream",
     "text": [
      "(60000, 28, 28) (60000,) (10000, 28, 28) (10000,)\n"
     ]
    }
   ],
   "source": [
    "print( x_train.shape, y_train.shape, x_test.shape, y_test.shape )"
   ]
  },
  {
   "cell_type": "code",
   "execution_count": 61,
   "metadata": {
    "colab": {
     "base_uri": "https://localhost:8080/",
     "height": 265
    },
    "executionInfo": {
     "elapsed": 596,
     "status": "ok",
     "timestamp": 1611502839191,
     "user": {
      "displayName": "Tae-Hyung Kim",
      "photoUrl": "https://lh3.googleusercontent.com/a-/AOh14GhHVPEGKeIfrDrHTOwxwL6QYScms0ZPakVT2tBlL6k=s64",
      "userId": "11130252197837695405"
     },
     "user_tz": -540
    },
    "id": "GwW3WFPbA-tL",
    "outputId": "47375ad1-5341-4f54-fd02-eb10f343e90a"
   },
   "outputs": [
    {
     "data": {
      "image/png": "[encoded data removed]",
      "text/plain": [
       "<Figure size 432x288 with 1 Axes>"
      ]
     },
     "metadata": {
      "needs_background": "light",
      "tags": []
     },
     "output_type": "display_data"
    }
   ],
   "source": [
    "import matplotlib.pyplot as plt\n",
    "plt.imshow(x_train[0])\n",
    "plt.show()"
   ]
  },
  {
   "cell_type": "code",
   "execution_count": 62,
   "metadata": {
    "colab": {
     "base_uri": "https://localhost:8080/"
    },
    "executionInfo": {
     "elapsed": 474,
     "status": "ok",
     "timestamp": 1611502840466,
     "user": {
      "displayName": "Tae-Hyung Kim",
      "photoUrl": "https://lh3.googleusercontent.com/a-/AOh14GhHVPEGKeIfrDrHTOwxwL6QYScms0ZPakVT2tBlL6k=s64",
      "userId": "11130252197837695405"
     },
     "user_tz": -540
    },
    "id": "S4iKgJBfq-Y4",
    "outputId": "a92a1ec8-734c-46d7-b67e-fb4bc71a1c42"
   },
   "outputs": [
    {
     "data": {
      "text/plain": [
       "((60000,), array([5, 0, 4, ..., 5, 6, 8], dtype=uint8))"
      ]
     },
     "execution_count": 62,
     "metadata": {
      "tags": []
     },
     "output_type": "execute_result"
    }
   ],
   "source": [
    "y_train.shape, y_train, "
   ]
  },
  {
   "cell_type": "code",
   "execution_count": 63,
   "metadata": {
    "colab": {
     "base_uri": "https://localhost:8080/",
     "height": 265
    },
    "executionInfo": {
     "elapsed": 488,
     "status": "ok",
     "timestamp": 1611502843200,
     "user": {
      "displayName": "Tae-Hyung Kim",
      "photoUrl": "https://lh3.googleusercontent.com/a-/AOh14GhHVPEGKeIfrDrHTOwxwL6QYScms0ZPakVT2tBlL6k=s64",
      "userId": "11130252197837695405"
     },
     "user_tz": -540
    },
    "id": "vVLaOq0GCcAe",
    "outputId": "49bef78d-e8b8-4763-a874-7d26000d8e48"
   },
   "outputs": [
    {
     "data": {
      "image/png": "[encoded data removed]",
      "text/plain": [
       "<Figure size 432x288 with 1 Axes>"
      ]
     },
     "metadata": {
      "needs_background": "light",
      "tags": []
     },
     "output_type": "display_data"
    }
   ],
   "source": [
    "plt.imshow(x_train[1])\n",
    "plt.show()"
   ]
  },
  {
   "cell_type": "code",
   "execution_count": 64,
   "metadata": {
    "colab": {
     "base_uri": "https://localhost:8080/",
     "height": 265
    },
    "executionInfo": {
     "elapsed": 610,
     "status": "ok",
     "timestamp": 1611502844382,
     "user": {
      "displayName": "Tae-Hyung Kim",
      "photoUrl": "https://lh3.googleusercontent.com/a-/AOh14GhHVPEGKeIfrDrHTOwxwL6QYScms0ZPakVT2tBlL6k=s64",
      "userId": "11130252197837695405"
     },
     "user_tz": -540
    },
    "id": "f1gOp7jlChjS",
    "outputId": "d420f04d-6384-4e6c-d6c5-cfb47ec764a2"
   },
   "outputs": [
    {
     "data": {
      "image/png": "[encoded data removed]",
      "text/plain": [
       "<Figure size 432x288 with 1 Axes>"
      ]
     },
     "metadata": {
      "needs_background": "light",
      "tags": []
     },
     "output_type": "display_data"
    }
   ],
   "source": [
    "plt.imshow(x_train[2])\n",
    "plt.show()"
   ]
  },
  {
   "cell_type": "markdown",
   "metadata": {
    "id": "Uy3aVEEQ9SYT"
   },
   "source": [
    "## Data Preparation"
   ]
  },
  {
   "cell_type": "code",
   "execution_count": 65,
   "metadata": {
    "executionInfo": {
     "elapsed": 516,
     "status": "ok",
     "timestamp": 1611502854113,
     "user": {
      "displayName": "Tae-Hyung Kim",
      "photoUrl": "https://lh3.googleusercontent.com/a-/AOh14GhHVPEGKeIfrDrHTOwxwL6QYScms0ZPakVT2tBlL6k=s64",
      "userId": "11130252197837695405"
     },
     "user_tz": -540
    },
    "id": "II3h_mcUp4UY"
   },
   "outputs": [],
   "source": [
    "# pixel value ranges from 0 to 255. (256)\n",
    "# scaling the max value to 1\n",
    "x_train_normalized = x_train.astype('float32') / 255\n",
    "x_test_normalized = x_test.astype('float32') / 255"
   ]
  },
  {
   "cell_type": "code",
   "execution_count": 66,
   "metadata": {
    "colab": {
     "base_uri": "https://localhost:8080/",
     "height": 282
    },
    "executionInfo": {
     "elapsed": 494,
     "status": "ok",
     "timestamp": 1611502855344,
     "user": {
      "displayName": "Tae-Hyung Kim",
      "photoUrl": "https://lh3.googleusercontent.com/a-/AOh14GhHVPEGKeIfrDrHTOwxwL6QYScms0ZPakVT2tBlL6k=s64",
      "userId": "11130252197837695405"
     },
     "user_tz": -540
    },
    "id": "hnFOG4pPCps3",
    "outputId": "9fb66696-1a2b-4c9c-d1e7-574392d140ce"
   },
   "outputs": [
    {
     "data": {
      "text/plain": [
       "<matplotlib.image.AxesImage at 0x7f81c632e048>"
      ]
     },
     "execution_count": 66,
     "metadata": {
      "tags": []
     },
     "output_type": "execute_result"
    },
    {
     "data": {
      "image/png": "[encoded data removed]",
      "text/plain": [
       "<Figure size 432x288 with 1 Axes>"
      ]
     },
     "metadata": {
      "needs_background": "light",
      "tags": []
     },
     "output_type": "display_data"
    }
   ],
   "source": [
    "plt.imshow(x_train_normalized[0], cmap='Greys')"
   ]
  },
  {
   "cell_type": "code",
   "execution_count": 67,
   "metadata": {
    "colab": {
     "base_uri": "https://localhost:8080/"
    },
    "executionInfo": {
     "elapsed": 512,
     "status": "ok",
     "timestamp": 1611502863935,
     "user": {
      "displayName": "Tae-Hyung Kim",
      "photoUrl": "https://lh3.googleusercontent.com/a-/AOh14GhHVPEGKeIfrDrHTOwxwL6QYScms0ZPakVT2tBlL6k=s64",
      "userId": "11130252197837695405"
     },
     "user_tz": -540
    },
    "id": "qbE5vbBwqk2Z",
    "outputId": "217f4796-f86c-4062-bb54-00de6ff62f56"
   },
   "outputs": [
    {
     "name": "stdout",
     "output_type": "stream",
     "text": [
      "60000 10000\n"
     ]
    }
   ],
   "source": [
    "import numpy as np\n",
    "\n",
    "# Make sure the shape\n",
    "x_train_normalized = np.expand_dims( x_train_normalized, -1 )\n",
    "x_test_normalized = np.expand_dims( x_test_normalized, -1 )\n",
    "print( x_train_normalized.shape[0], x_test_normalized.shape[0] )"
   ]
  },
  {
   "cell_type": "code",
   "execution_count": 68,
   "metadata": {
    "executionInfo": {
     "elapsed": 483,
     "status": "ok",
     "timestamp": 1611502904601,
     "user": {
      "displayName": "Tae-Hyung Kim",
      "photoUrl": "https://lh3.googleusercontent.com/a-/AOh14GhHVPEGKeIfrDrHTOwxwL6QYScms0ZPakVT2tBlL6k=s64",
      "userId": "11130252197837695405"
     },
     "user_tz": -540
    },
    "id": "zAcza-XEudy-"
   },
   "outputs": [],
   "source": [
    "# Reshape the data\n",
    "#   by flattening the 2D (28x28) to 1D (784)\n",
    "# input_shape = (28, 28, 1)\n",
    "input_shape = (784, )\n",
    "\n",
    "x_train_prepared = x_train.reshape(x_train_normalized.shape[0], input_shape[0])\n",
    "x_test_prepared = x_test.reshape(x_test_normalized.shape[0], input_shape[0])"
   ]
  },
  {
   "cell_type": "code",
   "execution_count": 70,
   "metadata": {
    "colab": {
     "base_uri": "https://localhost:8080/"
    },
    "executionInfo": {
     "elapsed": 499,
     "status": "ok",
     "timestamp": 1611502922799,
     "user": {
      "displayName": "Tae-Hyung Kim",
      "photoUrl": "https://lh3.googleusercontent.com/a-/AOh14GhHVPEGKeIfrDrHTOwxwL6QYScms0ZPakVT2tBlL6k=s64",
      "userId": "11130252197837695405"
     },
     "user_tz": -540
    },
    "id": "A0I-NSKZutLY",
    "outputId": "f62e6acb-5774-4b5a-d2c8-1edca8b5d604"
   },
   "outputs": [
    {
     "data": {
      "text/plain": [
       "(60000, 784)"
      ]
     },
     "execution_count": 70,
     "metadata": {
      "tags": []
     },
     "output_type": "execute_result"
    }
   ],
   "source": [
    "x_train_normalized.shape[0], input_shape[0]"
   ]
  },
  {
   "cell_type": "code",
   "execution_count": 71,
   "metadata": {
    "executionInfo": {
     "elapsed": 494,
     "status": "ok",
     "timestamp": 1611502957738,
     "user": {
      "displayName": "Tae-Hyung Kim",
      "photoUrl": "https://lh3.googleusercontent.com/a-/AOh14GhHVPEGKeIfrDrHTOwxwL6QYScms0ZPakVT2tBlL6k=s64",
      "userId": "11130252197837695405"
     },
     "user_tz": -540
    },
    "id": "XEHqakc9rBoC"
   },
   "outputs": [],
   "source": [
    "# One-hot encoding\n",
    "number_of_classes = 10  # because 0-9\n",
    "\n",
    "y_train_prepared = keras.utils.to_categorical(y_train, number_of_classes)\n",
    "y_test_prepared = keras.utils.to_categorical(y_test, number_of_classes)"
   ]
  },
  {
   "cell_type": "code",
   "execution_count": 72,
   "metadata": {
    "colab": {
     "base_uri": "https://localhost:8080/"
    },
    "executionInfo": {
     "elapsed": 485,
     "status": "ok",
     "timestamp": 1611502958300,
     "user": {
      "displayName": "Tae-Hyung Kim",
      "photoUrl": "https://lh3.googleusercontent.com/a-/AOh14GhHVPEGKeIfrDrHTOwxwL6QYScms0ZPakVT2tBlL6k=s64",
      "userId": "11130252197837695405"
     },
     "user_tz": -540
    },
    "id": "S_yWtxl6rR-Y",
    "outputId": "8a534462-4338-48fc-c0bf-0c36fb8fe6ae"
   },
   "outputs": [
    {
     "data": {
      "text/plain": [
       "array([0., 0., 0., 0., 0., 1., 0., 0., 0., 0.], dtype=float32)"
      ]
     },
     "execution_count": 72,
     "metadata": {
      "tags": []
     },
     "output_type": "execute_result"
    }
   ],
   "source": [
    "y_train_prepared[0]"
   ]
  },
  {
   "cell_type": "code",
   "execution_count": 73,
   "metadata": {
    "colab": {
     "base_uri": "https://localhost:8080/"
    },
    "executionInfo": {
     "elapsed": 365,
     "status": "ok",
     "timestamp": 1611502958574,
     "user": {
      "displayName": "Tae-Hyung Kim",
      "photoUrl": "https://lh3.googleusercontent.com/a-/AOh14GhHVPEGKeIfrDrHTOwxwL6QYScms0ZPakVT2tBlL6k=s64",
      "userId": "11130252197837695405"
     },
     "user_tz": -540
    },
    "id": "ReNlO-lgrSs2",
    "outputId": "483c88ff-a550-4f4b-f8f6-f2c3a3242aa3"
   },
   "outputs": [
    {
     "data": {
      "text/plain": [
       "array([1., 0., 0., 0., 0., 0., 0., 0., 0., 0.], dtype=float32)"
      ]
     },
     "execution_count": 73,
     "metadata": {
      "tags": []
     },
     "output_type": "execute_result"
    }
   ],
   "source": [
    "y_train_prepared[1]"
   ]
  },
  {
   "cell_type": "code",
   "execution_count": 74,
   "metadata": {
    "colab": {
     "base_uri": "https://localhost:8080/"
    },
    "executionInfo": {
     "elapsed": 545,
     "status": "ok",
     "timestamp": 1611502960168,
     "user": {
      "displayName": "Tae-Hyung Kim",
      "photoUrl": "https://lh3.googleusercontent.com/a-/AOh14GhHVPEGKeIfrDrHTOwxwL6QYScms0ZPakVT2tBlL6k=s64",
      "userId": "11130252197837695405"
     },
     "user_tz": -540
    },
    "id": "Tvuzxi1GrXcv",
    "outputId": "1ed95154-49a6-4eb5-e6e3-acf49147e4a8"
   },
   "outputs": [
    {
     "data": {
      "text/plain": [
       "array([0., 0., 0., 0., 1., 0., 0., 0., 0., 0.], dtype=float32)"
      ]
     },
     "execution_count": 74,
     "metadata": {
      "tags": []
     },
     "output_type": "execute_result"
    }
   ],
   "source": [
    "y_train_prepared[2]"
   ]
  },
  {
   "cell_type": "code",
   "execution_count": 75,
   "metadata": {
    "colab": {
     "base_uri": "https://localhost:8080/"
    },
    "executionInfo": {
     "elapsed": 514,
     "status": "ok",
     "timestamp": 1611502974660,
     "user": {
      "displayName": "Tae-Hyung Kim",
      "photoUrl": "https://lh3.googleusercontent.com/a-/AOh14GhHVPEGKeIfrDrHTOwxwL6QYScms0ZPakVT2tBlL6k=s64",
      "userId": "11130252197837695405"
     },
     "user_tz": -540
    },
    "id": "vrTxHqb3rhbT",
    "outputId": "f70ac5d6-e179-43fb-fa8c-d8b01fba08bd"
   },
   "outputs": [
    {
     "data": {
      "text/plain": [
       "((10000,), array([7, 2, 1, ..., 4, 5, 6], dtype=uint8))"
      ]
     },
     "execution_count": 75,
     "metadata": {
      "tags": []
     },
     "output_type": "execute_result"
    }
   ],
   "source": [
    "y_test.shape, y_test"
   ]
  },
  {
   "cell_type": "code",
   "execution_count": 76,
   "metadata": {
    "colab": {
     "base_uri": "https://localhost:8080/"
    },
    "executionInfo": {
     "elapsed": 509,
     "status": "ok",
     "timestamp": 1611502983699,
     "user": {
      "displayName": "Tae-Hyung Kim",
      "photoUrl": "https://lh3.googleusercontent.com/a-/AOh14GhHVPEGKeIfrDrHTOwxwL6QYScms0ZPakVT2tBlL6k=s64",
      "userId": "11130252197837695405"
     },
     "user_tz": -540
    },
    "id": "FQGznWFqrzaz",
    "outputId": "f77c158e-1b98-4da8-98ad-103c1bd531d9"
   },
   "outputs": [
    {
     "data": {
      "text/plain": [
       "array([0., 0., 0., 0., 0., 0., 0., 1., 0., 0.], dtype=float32)"
      ]
     },
     "execution_count": 76,
     "metadata": {
      "tags": []
     },
     "output_type": "execute_result"
    }
   ],
   "source": [
    "y_test_prepared[0]"
   ]
  },
  {
   "cell_type": "code",
   "execution_count": 77,
   "metadata": {
    "colab": {
     "base_uri": "https://localhost:8080/"
    },
    "executionInfo": {
     "elapsed": 589,
     "status": "ok",
     "timestamp": 1611502984800,
     "user": {
      "displayName": "Tae-Hyung Kim",
      "photoUrl": "https://lh3.googleusercontent.com/a-/AOh14GhHVPEGKeIfrDrHTOwxwL6QYScms0ZPakVT2tBlL6k=s64",
      "userId": "11130252197837695405"
     },
     "user_tz": -540
    },
    "id": "fHvwOGxDr1ke",
    "outputId": "ce68fb44-1084-4538-d1de-c27901a20c0b"
   },
   "outputs": [
    {
     "data": {
      "text/plain": [
       "array([0., 0., 1., 0., 0., 0., 0., 0., 0., 0.], dtype=float32)"
      ]
     },
     "execution_count": 77,
     "metadata": {
      "tags": []
     },
     "output_type": "execute_result"
    }
   ],
   "source": [
    "y_test_prepared[1]"
   ]
  },
  {
   "cell_type": "markdown",
   "metadata": {
    "id": "oFpbe2tf-IFj"
   },
   "source": [
    "## Feature Engineering\n",
    "is skipped"
   ]
  },
  {
   "cell_type": "markdown",
   "metadata": {
    "id": "gdegtr23956A"
   },
   "source": [
    "## Model Selection\n",
    "MLP with\n",
    "* input layer of 350 neurons\n",
    "* hidden layer of 50 neurons\n",
    "* output layer of 10 neurons"
   ]
  },
  {
   "cell_type": "code",
   "execution_count": 80,
   "metadata": {
    "executionInfo": {
     "elapsed": 533,
     "status": "ok",
     "timestamp": 1611503093168,
     "user": {
      "displayName": "Tae-Hyung Kim",
      "photoUrl": "https://lh3.googleusercontent.com/a-/AOh14GhHVPEGKeIfrDrHTOwxwL6QYScms0ZPakVT2tBlL6k=s64",
      "userId": "11130252197837695405"
     },
     "user_tz": -540
    },
    "id": "RcfDAUR0r5Fv"
   },
   "outputs": [],
   "source": [
    "from tensorflow.keras.models import Sequential\n",
    "from tensorflow.keras.layers import Dense\n",
    "from tensorflow.keras import layers\n",
    "\n",
    "model = keras.Sequential(\n",
    "    [Dense(350, input_shape=input_shape, activation='relu'),\n",
    "     Dense(50, activation='relu'),\n",
    "     Dense(number_of_classes, activation='softmax'),\n",
    "    ]\n",
    ")"
   ]
  },
  {
   "cell_type": "markdown",
   "metadata": {
    "id": "L3RUG8rV-ZMA"
   },
   "source": [
    "## Model Training & Hyper-parameter Tuning\n",
    "Configure the hyper-parameters.\n",
    "\n",
    "Recall\n",
    "```text\n",
    "(x_train, y_train), (x_test, y_test) = keras.datasets.mnist.load_data()\n",
    "```"
   ]
  },
  {
   "cell_type": "code",
   "execution_count": 81,
   "metadata": {
    "executionInfo": {
     "elapsed": 534,
     "status": "ok",
     "timestamp": 1611503094808,
     "user": {
      "displayName": "Tae-Hyung Kim",
      "photoUrl": "https://lh3.googleusercontent.com/a-/AOh14GhHVPEGKeIfrDrHTOwxwL6QYScms0ZPakVT2tBlL6k=s64",
      "userId": "11130252197837695405"
     },
     "user_tz": -540
    },
    "id": "OZ08ClXosz44"
   },
   "outputs": [],
   "source": [
    "model.compile(loss='categorical_crossentropy', optimizer='adam', metrics=['accuracy'])"
   ]
  },
  {
   "cell_type": "code",
   "execution_count": 87,
   "metadata": {
    "colab": {
     "base_uri": "https://localhost:8080/"
    },
    "executionInfo": {
     "elapsed": 41633,
     "status": "ok",
     "timestamp": 1611503287825,
     "user": {
      "displayName": "Tae-Hyung Kim",
      "photoUrl": "https://lh3.googleusercontent.com/a-/AOh14GhHVPEGKeIfrDrHTOwxwL6QYScms0ZPakVT2tBlL6k=s64",
      "userId": "11130252197837695405"
     },
     "user_tz": -540
    },
    "id": "6F82RAAGtE3a",
    "outputId": "54dc881d-cde9-4bad-da81-722f814580d0"
   },
   "outputs": [
    {
     "name": "stdout",
     "output_type": "stream",
     "text": [
      "Epoch 1/20\n",
      "192/192 [==============================] - 2s 11ms/step - loss: 0.0304 - accuracy: 0.9907 - val_loss: 0.1791 - val_accuracy: 0.9690\n",
      "Epoch 2/20\n",
      "192/192 [==============================] - 2s 11ms/step - loss: 0.0365 - accuracy: 0.9896 - val_loss: 0.1869 - val_accuracy: 0.9679\n",
      "Epoch 3/20\n",
      "192/192 [==============================] - 2s 11ms/step - loss: 0.0294 - accuracy: 0.9909 - val_loss: 0.1927 - val_accuracy: 0.9680\n",
      "Epoch 4/20\n",
      "192/192 [==============================] - 2s 11ms/step - loss: 0.0232 - accuracy: 0.9929 - val_loss: 0.1956 - val_accuracy: 0.9697\n",
      "Epoch 5/20\n",
      "192/192 [==============================] - 2s 11ms/step - loss: 0.0260 - accuracy: 0.9920 - val_loss: 0.2032 - val_accuracy: 0.9694\n",
      "Epoch 6/20\n",
      "192/192 [==============================] - 2s 11ms/step - loss: 0.0323 - accuracy: 0.9905 - val_loss: 0.1987 - val_accuracy: 0.9677\n",
      "Epoch 7/20\n",
      "192/192 [==============================] - 2s 11ms/step - loss: 0.0302 - accuracy: 0.9912 - val_loss: 0.1861 - val_accuracy: 0.9694\n",
      "Epoch 8/20\n",
      "192/192 [==============================] - 2s 11ms/step - loss: 0.0238 - accuracy: 0.9929 - val_loss: 0.1767 - val_accuracy: 0.9705\n",
      "Epoch 9/20\n",
      "192/192 [==============================] - 2s 11ms/step - loss: 0.0198 - accuracy: 0.9940 - val_loss: 0.1767 - val_accuracy: 0.9711\n",
      "Epoch 10/20\n",
      "192/192 [==============================] - 2s 11ms/step - loss: 0.0211 - accuracy: 0.9938 - val_loss: 0.1714 - val_accuracy: 0.9727\n",
      "Epoch 11/20\n",
      "192/192 [==============================] - 2s 11ms/step - loss: 0.0213 - accuracy: 0.9934 - val_loss: 0.2086 - val_accuracy: 0.9713\n",
      "Epoch 12/20\n",
      "192/192 [==============================] - 2s 11ms/step - loss: 0.0198 - accuracy: 0.9942 - val_loss: 0.1982 - val_accuracy: 0.9701\n",
      "Epoch 13/20\n",
      "192/192 [==============================] - 2s 11ms/step - loss: 0.0281 - accuracy: 0.9918 - val_loss: 0.1988 - val_accuracy: 0.9707\n",
      "Epoch 14/20\n",
      "192/192 [==============================] - 2s 11ms/step - loss: 0.0214 - accuracy: 0.9935 - val_loss: 0.2085 - val_accuracy: 0.9682\n",
      "Epoch 15/20\n",
      "192/192 [==============================] - 2s 11ms/step - loss: 0.0196 - accuracy: 0.9945 - val_loss: 0.1914 - val_accuracy: 0.9724\n",
      "Epoch 16/20\n",
      "192/192 [==============================] - 2s 11ms/step - loss: 0.0207 - accuracy: 0.9940 - val_loss: 0.1775 - val_accuracy: 0.9709\n",
      "Epoch 17/20\n",
      "192/192 [==============================] - 2s 11ms/step - loss: 0.0152 - accuracy: 0.9954 - val_loss: 0.1829 - val_accuracy: 0.9732\n",
      "Epoch 18/20\n",
      "192/192 [==============================] - 2s 11ms/step - loss: 0.0182 - accuracy: 0.9946 - val_loss: 0.1807 - val_accuracy: 0.9732\n",
      "Epoch 19/20\n",
      "192/192 [==============================] - 2s 11ms/step - loss: 0.0278 - accuracy: 0.9929 - val_loss: 0.2123 - val_accuracy: 0.9677\n",
      "Epoch 20/20\n",
      "192/192 [==============================] - 2s 10ms/step - loss: 0.0233 - accuracy: 0.9933 - val_loss: 0.1748 - val_accuracy: 0.9723\n"
     ]
    },
    {
     "data": {
      "text/plain": [
       "<tensorflow.python.keras.callbacks.History at 0x7f81c64110b8>"
      ]
     },
     "execution_count": 87,
     "metadata": {
      "tags": []
     },
     "output_type": "execute_result"
    }
   ],
   "source": [
    "model.fit(x_train_prepared, y_train_prepared, epochs=20, batch_size=250, validation_split=0.2)\n",
    "\n",
    "# ValueError: Shapes (250, 10) and (250, 28, 28, 10) are incompatible\n",
    "# ValueError: Shapes (32, 10) and (32, 28, 28, 10) are incompatible\n",
    "# -> input_shape = (28, 28, 1) => input_shape = (784, )\n",
    "# ValueError: Input 0 of layer sequential_1 is incompatible with the layer: \n",
    "#              expected axis -1 of input shape to have value 784 but received input with shape (32, 28, 28, 1)\n",
    "# -> x_train = x_train.reshape(x_train.shape[0], input_shape[0])\n",
    "# -> x_test = x_test.reshape(x_test.shape[0], input_shape[0])"
   ]
  },
  {
   "cell_type": "markdown",
   "metadata": {
    "id": "xC950RvU_STG"
   },
   "source": [
    "## Predictions"
   ]
  },
  {
   "cell_type": "code",
   "execution_count": 85,
   "metadata": {
    "colab": {
     "base_uri": "https://localhost:8080/"
    },
    "executionInfo": {
     "elapsed": 1149,
     "status": "ok",
     "timestamp": 1611503209057,
     "user": {
      "displayName": "Tae-Hyung Kim",
      "photoUrl": "https://lh3.googleusercontent.com/a-/AOh14GhHVPEGKeIfrDrHTOwxwL6QYScms0ZPakVT2tBlL6k=s64",
      "userId": "11130252197837695405"
     },
     "user_tz": -540
    },
    "id": "tb_ulSNOuUjX",
    "outputId": "57957420-4fac-4382-842e-ed2e8680ca0c"
   },
   "outputs": [
    {
     "name": "stdout",
     "output_type": "stream",
     "text": [
      "313/313 [==============================] - 1s 2ms/step - loss: 0.1408 - accuracy: 0.9716\n"
     ]
    }
   ],
   "source": [
    "predictions = model.evaluate(x_test_prepared, y_test_prepared)"
   ]
  },
  {
   "cell_type": "markdown",
   "metadata": {
    "id": "47RlxwZCAnko"
   },
   "source": [
    "MLP can achieve the accuracy of 0.9803"
   ]
  },
  {
   "cell_type": "code",
   "execution_count": 86,
   "metadata": {
    "colab": {
     "base_uri": "https://localhost:8080/"
    },
    "executionInfo": {
     "elapsed": 432,
     "status": "ok",
     "timestamp": 1611503220147,
     "user": {
      "displayName": "Tae-Hyung Kim",
      "photoUrl": "https://lh3.googleusercontent.com/a-/AOh14GhHVPEGKeIfrDrHTOwxwL6QYScms0ZPakVT2tBlL6k=s64",
      "userId": "11130252197837695405"
     },
     "user_tz": -540
    },
    "id": "a21HPkt_Alsh",
    "outputId": "cc14128e-96b1-4439-c37a-bd44647dc789"
   },
   "outputs": [
    {
     "name": "stdout",
     "output_type": "stream",
     "text": [
      "Test results: Loss = 0.14081749320030212, Accuracy = 0.9715999960899353\n"
     ]
    }
   ],
   "source": [
    "print(f'Test results: Loss = {predictions[0]}, Accuracy = {predictions[1]}')"
   ]
  }
 ],
 "metadata": {
  "accelerator": "TPU",
  "colab": {
   "authorship_tag": "ABX9TyMrRV9EAuQ9ZlcGgpV9+Iwa",
   "collapsed_sections": [],
   "name": "2_mnist-mlp-keras.ipynb",
   "provenance": []
  },
  "kernelspec": {
   "display_name": "Python 3",
   "language": "python",
   "name": "python3"
  },
  "language_info": {
   "codemirror_mode": {
    "name": "ipython",
    "version": 3
   },
   "file_extension": ".py",
   "mimetype": "text/x-python",
   "name": "python",
   "nbconvert_exporter": "python",
   "pygments_lexer": "ipython3",
   "version": "3.9.4"
  }
 },
 "nbformat": 4,
 "nbformat_minor": 1
}

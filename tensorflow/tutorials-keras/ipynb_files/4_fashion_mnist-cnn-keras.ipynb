{
 "cells": [
  {
   "cell_type": "markdown",
   "metadata": {
    "id": "nA1AFAJAxmgH"
   },
   "source": [
    "* Draft: 2020-11-24 (Tue)\n",
    "# Fashion MNIST Dataset Trained with CNN (Keras)\n",
    "\n",
    "* Keras API reference > Built-in small datasets >\n",
    "  * [Fashion MNIST dataset, an alternative to MNIST](https://keras.io/api/datasets/fashion_mnist/)\n",
    "\n",
    "* CNN\n",
    "  * [Simple MNIST convnet](https://keras.io/examples/vision/mnist_convnet/)\n",
    "```\n",
    "Author: fchollet\n",
    "Date created: 2015/06/19\n",
    "Last modified: 2020/04/21\n",
    "Description: A simple convnet that achieves ~99% test accuracy on MNIST.\n",
    "```\n",
    "* Google search: keras fashion mnist example\n",
    "  * [CNN with Tensorflow|Keras for Fashion MNIST](https://www.kaggle.com/gpreda/cnn-with-tensorflow-keras-for-fashion-mnist), Kaggle\n",
    "  * [Fashion MNIST with Keras and TPUs](https://colab.research.google.com/github/tensorflow/tpu/blob/master/tools/colab/fashion_mnist.ipynb#scrollTo=edfbxDDh2AEs), https://colab.research.google.com/\n",
    "\n",
    "* (in Korean)\n",
    "  * [5.4.3. Fashion MNIST with Keras](https://sdc-james.gitbook.io/onebook/4.-and/5.4.-tensorflow/5.4.3.-fashion-mnist-with-keras)\n",
    "  * [딥러닝의 Hello World, Fashion-MNIST](https://tykimos.github.io/2018/09/30/Hello_Fashion_MNIST/), 블록과 함께 하는 파이선 딥러닝 케라스, 김태영"
   ]
  },
  {
   "cell_type": "code",
   "execution_count": null,
   "metadata": {
    "colab": {
     "base_uri": "https://localhost:8080/"
    },
    "executionInfo": {
     "elapsed": 3695,
     "status": "ok",
     "timestamp": 1606193448179,
     "user": {
      "displayName": "Tae-Hyung Kim",
      "photoUrl": "https://lh3.googleusercontent.com/a-/AOh14GhHVPEGKeIfrDrHTOwxwL6QYScms0ZPakVT2tBlL6k=s64",
      "userId": "11130252197837695405"
     },
     "user_tz": -540
    },
    "id": "IMRZ9qCUx2YW",
    "outputId": "3555a8f4-3809-48c2-8b58-b3497bd7ef38"
   },
   "outputs": [
    {
     "name": "stdout",
     "output_type": "stream",
     "text": [
      "Downloading data from https://storage.googleapis.com/tensorflow/tf-keras-datasets/train-labels-idx1-ubyte.gz\n",
      "32768/29515 [=================================] - 0s 0us/step\n",
      "Downloading data from https://storage.googleapis.com/tensorflow/tf-keras-datasets/train-images-idx3-ubyte.gz\n",
      "26427392/26421880 [==============================] - 0s 0us/step\n",
      "Downloading data from https://storage.googleapis.com/tensorflow/tf-keras-datasets/t10k-labels-idx1-ubyte.gz\n",
      "8192/5148 [===============================================] - 0s 0us/step\n",
      "Downloading data from https://storage.googleapis.com/tensorflow/tf-keras-datasets/t10k-images-idx3-ubyte.gz\n",
      "4423680/4422102 [==============================] - 0s 0us/step\n",
      "<class 'numpy.ndarray'> <class 'numpy.ndarray'> <class 'numpy.ndarray'> <class 'numpy.ndarray'>\n"
     ]
    },
    {
     "data": {
      "text/plain": [
       "[numpy.ndarray, numpy.ndarray, numpy.ndarray, numpy.ndarray]"
      ]
     },
     "execution_count": 1,
     "metadata": {
      "tags": []
     },
     "output_type": "execute_result"
    }
   ],
   "source": [
    "from tensorflow import keras\n",
    "\n",
    "(x_train, y_train), (x_test, y_test) = keras.datasets.fashion_mnist.load_data()\n",
    "\n",
    "# Check the types of all the variables\n",
    "print( type( x_train ), type( y_train ), type( x_test ), type( y_test ) )\n",
    "[ type( x_train ), type( y_train ), type( x_test ), type( y_test ) ]"
   ]
  },
  {
   "cell_type": "code",
   "execution_count": null,
   "metadata": {
    "id": "0r8uv7xlA9bf"
   },
   "outputs": [],
   "source": [
    "# Scale images to the [0, 1] range\n",
    "x_train = x_train.astype(\"float32\") / 255\n",
    "x_test = x_test.astype(\"float32\") / 255"
   ]
  },
  {
   "cell_type": "code",
   "execution_count": null,
   "metadata": {
    "colab": {
     "base_uri": "https://localhost:8080/"
    },
    "executionInfo": {
     "elapsed": 1250,
     "status": "ok",
     "timestamp": 1606193460462,
     "user": {
      "displayName": "Tae-Hyung Kim",
      "photoUrl": "https://lh3.googleusercontent.com/a-/AOh14GhHVPEGKeIfrDrHTOwxwL6QYScms0ZPakVT2tBlL6k=s64",
      "userId": "11130252197837695405"
     },
     "user_tz": -540
    },
    "id": "_7azq2m5xnGQ",
    "outputId": "e762f798-c4a6-4145-b1f9-b13249f1f410"
   },
   "outputs": [
    {
     "name": "stdout",
     "output_type": "stream",
     "text": [
      "x_train shape: (60000, 28, 28, 1)\n",
      "60000 train samples\n",
      "10000 test samples\n"
     ]
    }
   ],
   "source": [
    "import numpy as np\n",
    "\n",
    "# Make sure images have shape (28, 28, 1)\n",
    "x_train = np.expand_dims( x_train, -1 )\n",
    "x_test = np.expand_dims( x_test, -1 )\n",
    "\n",
    "print( \"x_train shape:\", x_train.shape )\n",
    "print( x_train.shape[0], \"train samples\" )\n",
    "print( x_test.shape[0], \"test samples\" )"
   ]
  },
  {
   "cell_type": "code",
   "execution_count": null,
   "metadata": {
    "colab": {
     "base_uri": "https://localhost:8080/"
    },
    "executionInfo": {
     "elapsed": 1339,
     "status": "ok",
     "timestamp": 1606193467221,
     "user": {
      "displayName": "Tae-Hyung Kim",
      "photoUrl": "https://lh3.googleusercontent.com/a-/AOh14GhHVPEGKeIfrDrHTOwxwL6QYScms0ZPakVT2tBlL6k=s64",
      "userId": "11130252197837695405"
     },
     "user_tz": -540
    },
    "id": "0Je0kNXH_EEv",
    "outputId": "e0c59e32-b289-4fa5-f60a-2562df856e03"
   },
   "outputs": [
    {
     "name": "stdout",
     "output_type": "stream",
     "text": [
      "<class 'numpy.ndarray'> <class 'numpy.ndarray'>\n"
     ]
    }
   ],
   "source": [
    "num_classes = 10\n",
    "input_shape = (28, 28, 1)\n",
    "\n",
    "# Convert class vectors to binary class matrices\n",
    "y_train = keras.utils.to_categorical( y_train, num_classes )\n",
    "y_test = keras.utils.to_categorical( y_test, num_classes )\n",
    "\n",
    "# Check the variable type\n",
    "print( type(y_train), type(y_test) )"
   ]
  },
  {
   "cell_type": "code",
   "execution_count": null,
   "metadata": {
    "colab": {
     "base_uri": "https://localhost:8080/"
    },
    "executionInfo": {
     "elapsed": 6701,
     "status": "ok",
     "timestamp": 1606193477994,
     "user": {
      "displayName": "Tae-Hyung Kim",
      "photoUrl": "https://lh3.googleusercontent.com/a-/AOh14GhHVPEGKeIfrDrHTOwxwL6QYScms0ZPakVT2tBlL6k=s64",
      "userId": "11130252197837695405"
     },
     "user_tz": -540
    },
    "id": "zrBI011SxeWh",
    "outputId": "0f7022de-8ee6-4b7d-c12a-c74ef632769f"
   },
   "outputs": [
    {
     "name": "stdout",
     "output_type": "stream",
     "text": [
      "Model: \"sequential\"\n",
      "_________________________________________________________________\n",
      "Layer (type)                 Output Shape              Param #   \n",
      "=================================================================\n",
      "conv2d (Conv2D)              (None, 26, 26, 32)        320       \n",
      "_________________________________________________________________\n",
      "max_pooling2d (MaxPooling2D) (None, 13, 13, 32)        0         \n",
      "_________________________________________________________________\n",
      "conv2d_1 (Conv2D)            (None, 11, 11, 64)        18496     \n",
      "_________________________________________________________________\n",
      "max_pooling2d_1 (MaxPooling2 (None, 5, 5, 64)          0         \n",
      "_________________________________________________________________\n",
      "flatten (Flatten)            (None, 1600)              0         \n",
      "_________________________________________________________________\n",
      "dropout (Dropout)            (None, 1600)              0         \n",
      "_________________________________________________________________\n",
      "dense (Dense)                (None, 10)                16010     \n",
      "=================================================================\n",
      "Total params: 34,826\n",
      "Trainable params: 34,826\n",
      "Non-trainable params: 0\n",
      "_________________________________________________________________\n"
     ]
    }
   ],
   "source": [
    "from tensorflow.keras.models import Sequential\n",
    "from tensorflow.keras.layers import Dense\n",
    "from tensorflow.keras import layers\n",
    "\n",
    "model = keras.Sequential(\n",
    "    [\n",
    "        keras.Input(shape=input_shape),\n",
    "        layers.Conv2D(32, kernel_size=(3, 3), activation=\"relu\"),\n",
    "        layers.MaxPooling2D(pool_size=(2, 2)),\n",
    "        layers.Conv2D(64, kernel_size=(3, 3), activation=\"relu\"),\n",
    "        layers.MaxPooling2D(pool_size=(2, 2)),\n",
    "        layers.Flatten(),\n",
    "        layers.Dropout(0.5),\n",
    "        layers.Dense(num_classes, activation=\"softmax\"),\n",
    "    ]\n",
    ")\n",
    "\n",
    "model.summary()"
   ]
  },
  {
   "cell_type": "code",
   "execution_count": 8,
   "metadata": {
    "colab": {
     "base_uri": "https://localhost:8080/"
    },
    "executionInfo": {
     "elapsed": 28306,
     "status": "ok",
     "timestamp": 1606195808792,
     "user": {
      "displayName": "Tae-Hyung Kim",
      "photoUrl": "https://lh3.googleusercontent.com/a-/AOh14GhHVPEGKeIfrDrHTOwxwL6QYScms0ZPakVT2tBlL6k=s64",
      "userId": "11130252197837695405"
     },
     "user_tz": -540
    },
    "id": "dKp3tGxZe2aA",
    "outputId": "3b872793-8ce4-47cb-c128-1abafa6e79d3"
   },
   "outputs": [
    {
     "name": "stdout",
     "output_type": "stream",
     "text": [
      "Epoch 1/15\n",
      "422/422 [==============================] - 2s 5ms/step - loss: 0.2654 - accuracy: 0.9024 - val_loss: 0.2626 - val_accuracy: 0.9055\n",
      "Epoch 2/15\n",
      "422/422 [==============================] - 2s 4ms/step - loss: 0.2627 - accuracy: 0.9041 - val_loss: 0.2602 - val_accuracy: 0.9057\n",
      "Epoch 3/15\n",
      "422/422 [==============================] - 2s 4ms/step - loss: 0.2559 - accuracy: 0.9074 - val_loss: 0.2607 - val_accuracy: 0.9075\n",
      "Epoch 4/15\n",
      "422/422 [==============================] - 2s 4ms/step - loss: 0.2535 - accuracy: 0.9074 - val_loss: 0.2662 - val_accuracy: 0.9030\n",
      "Epoch 5/15\n",
      "422/422 [==============================] - 2s 4ms/step - loss: 0.2539 - accuracy: 0.9071 - val_loss: 0.2484 - val_accuracy: 0.9108\n",
      "Epoch 6/15\n",
      "422/422 [==============================] - 2s 4ms/step - loss: 0.2471 - accuracy: 0.9091 - val_loss: 0.2428 - val_accuracy: 0.9105\n",
      "Epoch 7/15\n",
      "422/422 [==============================] - 2s 4ms/step - loss: 0.2469 - accuracy: 0.9102 - val_loss: 0.2476 - val_accuracy: 0.9102\n",
      "Epoch 8/15\n",
      "422/422 [==============================] - 2s 4ms/step - loss: 0.2423 - accuracy: 0.9128 - val_loss: 0.2444 - val_accuracy: 0.9130\n",
      "Epoch 9/15\n",
      "422/422 [==============================] - 2s 4ms/step - loss: 0.2404 - accuracy: 0.9116 - val_loss: 0.2456 - val_accuracy: 0.9112\n",
      "Epoch 10/15\n",
      "422/422 [==============================] - 2s 4ms/step - loss: 0.2381 - accuracy: 0.9122 - val_loss: 0.2440 - val_accuracy: 0.9090\n",
      "Epoch 11/15\n",
      "422/422 [==============================] - 2s 4ms/step - loss: 0.2344 - accuracy: 0.9144 - val_loss: 0.2352 - val_accuracy: 0.9158\n",
      "Epoch 12/15\n",
      "422/422 [==============================] - 2s 4ms/step - loss: 0.2315 - accuracy: 0.9146 - val_loss: 0.2380 - val_accuracy: 0.9152\n",
      "Epoch 13/15\n",
      "422/422 [==============================] - 2s 4ms/step - loss: 0.2310 - accuracy: 0.9157 - val_loss: 0.2374 - val_accuracy: 0.9167\n",
      "Epoch 14/15\n",
      "422/422 [==============================] - 2s 4ms/step - loss: 0.2279 - accuracy: 0.9162 - val_loss: 0.2343 - val_accuracy: 0.9158\n",
      "Epoch 15/15\n",
      "422/422 [==============================] - 2s 4ms/step - loss: 0.2270 - accuracy: 0.9165 - val_loss: 0.2397 - val_accuracy: 0.9125\n"
     ]
    },
    {
     "data": {
      "text/plain": [
       "<tensorflow.python.keras.callbacks.History at 0x7f216002e6d8>"
      ]
     },
     "execution_count": 8,
     "metadata": {
      "tags": []
     },
     "output_type": "execute_result"
    }
   ],
   "source": [
    "batch_size = 128\n",
    "epochs = 15\n",
    "\n",
    "model.compile( loss=\"categorical_crossentropy\", optimizer=\"adam\", metrics=[\"accuracy\"] )\n",
    "model.fit( x_train, y_train, batch_size=batch_size, epochs=epochs, validation_split=0.1 )"
   ]
  },
  {
   "cell_type": "code",
   "execution_count": 9,
   "metadata": {
    "colab": {
     "base_uri": "https://localhost:8080/"
    },
    "executionInfo": {
     "elapsed": 1179,
     "status": "ok",
     "timestamp": 1606195900345,
     "user": {
      "displayName": "Tae-Hyung Kim",
      "photoUrl": "https://lh3.googleusercontent.com/a-/AOh14GhHVPEGKeIfrDrHTOwxwL6QYScms0ZPakVT2tBlL6k=s64",
      "userId": "11130252197837695405"
     },
     "user_tz": -540
    },
    "id": "Ob0Q8hb3x_ZF",
    "outputId": "14a3ad6e-ded7-4ea0-f34e-60900e06cf47"
   },
   "outputs": [
    {
     "name": "stdout",
     "output_type": "stream",
     "text": [
      "Test loss: 0.25552085041999817\n",
      "Test accuracy: 0.9049999713897705\n"
     ]
    }
   ],
   "source": [
    "score = model.evaluate( x_test, y_test, verbose=0 )\n",
    "print(\"Test loss:\", score[0])\n",
    "print(\"Test accuracy:\", score[1])"
   ]
  },
  {
   "cell_type": "code",
   "execution_count": null,
   "metadata": {
    "id": "0uBUuENqb5uT"
   },
   "outputs": [],
   "source": []
  }
 ],
 "metadata": {
  "accelerator": "GPU",
  "colab": {
   "collapsed_sections": [],
   "name": "4.fashion_mnist-cnn-keras.ipynb",
   "provenance": [
    {
     "file_id": "17s-aQaSzp5b6S95jqoG7RaEPwPlb2Hyi",
     "timestamp": 1606192729945
    },
    {
     "file_id": "1V2d5MMhF_d9GfZrJVrbW4fsVh1v32YAM",
     "timestamp": 1605803516727
    }
   ]
  },
  "kernelspec": {
   "display_name": "Python 3",
   "language": "python",
   "name": "python3"
  },
  "language_info": {
   "codemirror_mode": {
    "name": "ipython",
    "version": 3
   },
   "file_extension": ".py",
   "mimetype": "text/x-python",
   "name": "python",
   "nbconvert_exporter": "python",
   "pygments_lexer": "ipython3",
   "version": "3.9.4"
  }
 },
 "nbformat": 4,
 "nbformat_minor": 1
}

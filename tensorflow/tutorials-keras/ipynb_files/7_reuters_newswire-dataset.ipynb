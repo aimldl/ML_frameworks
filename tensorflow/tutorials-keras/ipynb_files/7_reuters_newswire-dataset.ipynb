{
 "cells": [
  {
   "cell_type": "markdown",
   "metadata": {
    "id": "i_4q4S_3HRkX"
   },
   "source": [
    "# Reuters Newswire Dataset\n",
    "* Draft: 2020-11-25 (Wed)\n",
    "\n",
    "## Description\n",
    "* Dataset for text classification tasks\n"
   ]
  },
  {
   "cell_type": "markdown",
   "metadata": {
    "id": "GZypQmpJHgKL"
   },
   "source": [
    "## Summary\n",
    "* 11,228 newswires from [Reuters](https://www.reuters.com/) (with Keras API)\n",
    "  * The classic Reuters-21578 dataset have been parsed and preprocessed\n",
    "  * each newswire is encoded as a list of word indexes (integers)\n",
    "* labeled over 46 topics; 46 classes\n",
    "\n",
    "## Common to text datasets\n",
    "* words are indexed by overall frequency in the dataset\n",
    "  * e.g. \"3\" encodes the 3rd most frequent word in the data\n",
    "  * \"0\" encodes any unknown word as a convention.\n",
    "  * This allows for quick filtering operations such as:\n",
    "    * only consider the top 10,000 most common words,\n",
    "    * but eliminate the top 20 most common words\n",
    "\n",
    "### Downloads\n",
    "* [Reuters-21578 Text Categorization Collection Data Set](https://archive.ics.uci.edu/ml/datasets/reuters-21578+text+categorization+collection), [Machine Learning Repository](https://archive.ics.uci.edu/ml/index.php), [UCI](https://uci.edu/)\n",
    "  * [readme](https://kdd.ics.uci.edu/databases/reuters21578/README.txt)\n",
    "  * [reuters21578.tar.gz](https://kdd.ics.uci.edu/databases/reuters21578/reuters21578.tar.gz)\n",
    "    * 8.2MB; 28.0MB uncompressed\n",
    "* [Reuters-21578 benchmark corpus](https://www.kaggle.com/nltkdata/reuters), NLTK data, Kaggle\n",
    "* `reuters.load_data` function, Keras API reference\n",
    "  * See below for details."
   ]
  },
  {
   "cell_type": "markdown",
   "metadata": {
    "id": "nd05ZsGBbxOI"
   },
   "source": [
    "## `reuters.load_data` function with Keras API\n",
    "Keras API reference > Built-in small datasets > [Reuters newswire classification dataset](https://keras.io/api/datasets/reuters/)\n",
    "* `load_data` function\n",
    "* `get_word_index` function\n",
    "\n",
    "For details, see [Reuters newswire classification dataset](https://keras.io/api/datasets/reuters/).\n",
    "\n",
    "### `load_data` function\n",
    "loads the Reuters newswire classification dataset.\n",
    "\n",
    "```python\n",
    "tf.keras.datasets.reuters.load_data(\n",
    "    path=\"reuters.npz\",\n",
    "    num_words=None,\n",
    "    skip_top=0,\n",
    "    maxlen=None,\n",
    "    test_split=0.2,\n",
    "    seed=113,\n",
    "    start_char=1,\n",
    "    oov_char=2,\n",
    "    index_from=3,\n",
    "    **kwargs\n",
    ")\n",
    "```\n",
    "\n",
    "returns\n",
    "* Tuple of Numpy arrays: (x_train, y_train), (x_test, y_test).\n",
    "* x_train, x_test: lists of sequences, which are lists of indexes (integers). If the num_words argument was specific, the maximum possible index value is num_words - 1. If the maxlen argument was specified, the largest possible sequence length is maxlen.\n",
    "* y_train, y_test: lists of integer labels (1 or 0).\n",
    "\n",
    "#### Common to Keras's built-in small **text** datasets\n",
    "* start_char: int. The start of a sequence will be marked with this character. Defaults to 1 because 0 is usually the padding character.\n",
    "* oov_char: int. The out-of-vocabulary character. Words that were cut out because of the num_words or skip_top limits will be replaced with this character.\n",
    "* Note\n",
    "  * The 'out of vocabulary' character is only used for words that were present in the training set but are not included because they're not making the num_words cut here.\n",
    "  * Words that were not seen in the training set but are in the test set have simply been skipped.\n",
    "  \n",
    "### `get_word_index` function\n",
    "```python\n",
    "tf.keras.datasets.reuters.get_word_index(path=\"reuters_word_index.json\")\n",
    "```\n",
    "returns\n",
    "* the word index dictionary\n",
    "  * or a dict mapping words to their index in the Reuters dataset.\n",
    "  * Keys are word strings,\n",
    "  * values are their index.\n",
    "* path: where to cache the data (relative to ~/.keras/dataset)."
   ]
  }
 ],
 "metadata": {
  "accelerator": "GPU",
  "colab": {
   "authorship_tag": "ABX9TyMbaeq7jUpd0Rl3iyGboeww",
   "collapsed_sections": [],
   "name": "7_reuters_newswire_dataset.ipynb",
   "provenance": [
    {
     "file_id": "1-vu7hPIZd6IfWYAAnOXfMaaEMbBhN7En",
     "timestamp": 1606292222072
    },
    {
     "file_id": "1kybVqopN4OvWtydOsd5Gg55IN-cXbc9_",
     "timestamp": 1606284563675
    },
    {
     "file_id": "1XXWnS-JNIw8F4-7J6af-x7s-opG-qM7r",
     "timestamp": 1606284340035
    }
   ]
  },
  "kernelspec": {
   "display_name": "Python 3",
   "language": "python",
   "name": "python3"
  },
  "language_info": {
   "codemirror_mode": {
    "name": "ipython",
    "version": 3
   },
   "file_extension": ".py",
   "mimetype": "text/x-python",
   "name": "python",
   "nbconvert_exporter": "python",
   "pygments_lexer": "ipython3",
   "version": "3.9.4"
  }
 },
 "nbformat": 4,
 "nbformat_minor": 1
}

{
 "cells": [
  {
   "cell_type": "markdown",
   "metadata": {
    "id": "i_4q4S_3HRkX"
   },
   "source": [
    "# Reuters Newswire Dataset Trained with Multi-Layer Percentron (Keras)\n",
    "* Draft: 2020-11-25 (Wed)\n"
   ]
  },
  {
   "cell_type": "markdown",
   "metadata": {
    "id": "GZypQmpJHgKL"
   },
   "source": [
    "## Summary\n",
    "### Project\n",
    "* Text classification\n",
    "* Multiclass classification\n",
    "  * More specifically, single-label multiclass classification\n",
    "* Train a 2-layer Multi-Layer Perceptron (MLP) on the Reuters newswire dataset\n",
    "\n",
    "### Reuters Newswire Dataset\n",
    "* 11,228 newswires from [Reuters](https://www.reuters.com/)\n",
    "* labeled over 46 topics; 46 classes\n",
    "  * The label is an integer ranging from 0 to 45.\n",
    "* See [7_reuters_newswire_dataset.ipynb](7_reuters_newswire_dataset.ipynb) for details."
   ]
  },
  {
   "cell_type": "markdown",
   "metadata": {
    "id": "d359ulKrHmYS"
   },
   "source": [
    "## Tutorials\n",
    "### Official tutorial by Keras\n",
    "* Not available\n",
    "\n",
    "### Book chapter\n",
    "* [Deep Learning with Python](https://www.manning.com/books/deep-learning-with-python), François Chollet, Nov. 2017, Manning Publications\n",
    "  * [3.5. Classifying newswires: a multiclass classification example](https://livebook.manning.com/book/deep-learning-with-python/chapter-3/193)\n",
    "  \n",
    "* 케라스 창시자에게 배우는 딥러닝, 프랑소와 숄레 지음, 박해선 옮김, 길벗, 2018-10-22\n",
    "  * 3.5. 뉴스 기사 분류: 다중 분류 문제, pp.117-126\n",
    "\n",
    "\n",
    "### Selected Google search results\n",
    "Keywords: keras reuters example\n",
    "\n",
    "* [Reuters - Document classification with Keras TF](https://www.kaggle.com/drscarlat/reuters-document-classification-with-keras-tf), Kaggle"
   ]
  },
  {
   "cell_type": "markdown",
   "metadata": {
    "id": "zSMxifBIHq8p"
   },
   "source": [
    "## Sample Source Code\n"
   ]
  },
  {
   "cell_type": "markdown",
   "metadata": {
    "id": "EGJYxh2flBou"
   },
   "source": [
    "### Data collection"
   ]
  },
  {
   "cell_type": "code",
   "execution_count": 3,
   "metadata": {
    "colab": {
     "base_uri": "https://localhost:8080/"
    },
    "executionInfo": {
     "elapsed": 2872,
     "status": "ok",
     "timestamp": 1606341867325,
     "user": {
      "displayName": "Tae-Hyung Kim",
      "photoUrl": "https://lh3.googleusercontent.com/a-/AOh14GhHVPEGKeIfrDrHTOwxwL6QYScms0ZPakVT2tBlL6k=s64",
      "userId": "11130252197837695405"
     },
     "user_tz": -540
    },
    "id": "tw3KS7iNPVhJ",
    "outputId": "e2196ad0-7a2e-434e-ab48-5d289af2567b"
   },
   "outputs": [
    {
     "name": "stdout",
     "output_type": "stream",
     "text": [
      "Downloading data from https://storage.googleapis.com/tensorflow/tf-keras-datasets/reuters.npz\n",
      "2113536/2110848 [==============================] - 0s 0us/step\n"
     ]
    }
   ],
   "source": [
    "from keras.datasets import reuters\n",
    "\n",
    "(train_data, train_labels), (test_data, test_labels) = reuters.load_data( num_words=10000 )"
   ]
  },
  {
   "cell_type": "markdown",
   "metadata": {
    "id": "iLfh_d32misc"
   },
   "source": [
    "#### Double-check"
   ]
  },
  {
   "cell_type": "code",
   "execution_count": 4,
   "metadata": {
    "colab": {
     "base_uri": "https://localhost:8080/"
    },
    "executionInfo": {
     "elapsed": 2858,
     "status": "ok",
     "timestamp": 1606341867326,
     "user": {
      "displayName": "Tae-Hyung Kim",
      "photoUrl": "https://lh3.googleusercontent.com/a-/AOh14GhHVPEGKeIfrDrHTOwxwL6QYScms0ZPakVT2tBlL6k=s64",
      "userId": "11130252197837695405"
     },
     "user_tz": -540
    },
    "id": "TVKmtb9GmnyR",
    "outputId": "0a00df22-1bb6-45d2-dc3c-3ed795c7f2f4"
   },
   "outputs": [
    {
     "name": "stdout",
     "output_type": "stream",
     "text": [
      "8982 training samples\n",
      "2246 test samples\n"
     ]
    }
   ],
   "source": [
    "# Double-check the dataset size\n",
    "print( train_data.shape[0], 'training samples' )\n",
    "print( test_data.shape[0], 'test samples' )"
   ]
  },
  {
   "cell_type": "code",
   "execution_count": 5,
   "metadata": {
    "colab": {
     "base_uri": "https://localhost:8080/"
    },
    "executionInfo": {
     "elapsed": 2851,
     "status": "ok",
     "timestamp": 1606341867326,
     "user": {
      "displayName": "Tae-Hyung Kim",
      "photoUrl": "https://lh3.googleusercontent.com/a-/AOh14GhHVPEGKeIfrDrHTOwxwL6QYScms0ZPakVT2tBlL6k=s64",
      "userId": "11130252197837695405"
     },
     "user_tz": -540
    },
    "id": "82cKdE5sjZds",
    "outputId": "7d105150-9fa7-4cc4-829e-5f1f7b89d6af"
   },
   "outputs": [
    {
     "name": "stdout",
     "output_type": "stream",
     "text": [
      "11228 total samples\n"
     ]
    }
   ],
   "source": [
    "total_sample_size = train_data.shape[0] + test_data.shape[0]\n",
    "print( total_sample_size, 'total samples' )"
   ]
  },
  {
   "cell_type": "code",
   "execution_count": 6,
   "metadata": {
    "colab": {
     "base_uri": "https://localhost:8080/"
    },
    "executionInfo": {
     "elapsed": 2844,
     "status": "ok",
     "timestamp": 1606341867327,
     "user": {
      "displayName": "Tae-Hyung Kim",
      "photoUrl": "https://lh3.googleusercontent.com/a-/AOh14GhHVPEGKeIfrDrHTOwxwL6QYScms0ZPakVT2tBlL6k=s64",
      "userId": "11130252197837695405"
     },
     "user_tz": -540
    },
    "id": "3AL_IomHlacI",
    "outputId": "4d2a4ba8-e2dd-49fb-cb61-c8748893dfad"
   },
   "outputs": [
    {
     "name": "stdout",
     "output_type": "stream",
     "text": [
      "8982 training labels, 2246 test labels\n"
     ]
    }
   ],
   "source": [
    "print( train_labels.shape[0], 'training labels,', test_labels.shape[0], 'test labels')"
   ]
  },
  {
   "cell_type": "code",
   "execution_count": 7,
   "metadata": {
    "colab": {
     "base_uri": "https://localhost:8080/"
    },
    "executionInfo": {
     "elapsed": 2838,
     "status": "ok",
     "timestamp": 1606341867328,
     "user": {
      "displayName": "Tae-Hyung Kim",
      "photoUrl": "https://lh3.googleusercontent.com/a-/AOh14GhHVPEGKeIfrDrHTOwxwL6QYScms0ZPakVT2tBlL6k=s64",
      "userId": "11130252197837695405"
     },
     "user_tz": -540
    },
    "id": "hkGEXeUDl4mb",
    "outputId": "ed2a21ad-b6a9-4f1b-d000-5200d009ad8c"
   },
   "outputs": [
    {
     "data": {
      "text/plain": [
       "[1, 245, 273, 207, 156, 53, 74, 160, 26, 14]"
      ]
     },
     "execution_count": 7,
     "metadata": {
      "tags": []
     },
     "output_type": "execute_result"
    }
   ],
   "source": [
    "# Double-check the content of the dataset by seeing a sample data\n",
    "sample_data = train_data[10]\n",
    "\n",
    "# Notice the sample data is not human-readable.\n",
    "# The first 10 elemetns\n",
    "sample_data[:10]"
   ]
  },
  {
   "cell_type": "code",
   "execution_count": 8,
   "metadata": {
    "colab": {
     "base_uri": "https://localhost:8080/"
    },
    "executionInfo": {
     "elapsed": 2837,
     "status": "ok",
     "timestamp": 1606341867329,
     "user": {
      "displayName": "Tae-Hyung Kim",
      "photoUrl": "https://lh3.googleusercontent.com/a-/AOh14GhHVPEGKeIfrDrHTOwxwL6QYScms0ZPakVT2tBlL6k=s64",
      "userId": "11130252197837695405"
     },
     "user_tz": -540
    },
    "id": "FjNLCqbwm0La",
    "outputId": "057e54c8-8edf-497a-b2c2-fced3817e85a"
   },
   "outputs": [
    {
     "name": "stdout",
     "output_type": "stream",
     "text": [
      "Downloading data from https://storage.googleapis.com/tensorflow/tf-keras-datasets/reuters_word_index.json\n",
      "557056/550378 [==============================] - 0s 0us/step\n"
     ]
    }
   ],
   "source": [
    "word_index = reuters.get_word_index()\n",
    "\n",
    "# Rename the variable name for convenience\n",
    "word2index_dict = word_index\n",
    "\n",
    "# Reverse the key-value to value-key for all items of word2index_dict\n",
    "index2word_dict = dict( [(value, key) for (key, value) in word2index_dict.items()] )"
   ]
  },
  {
   "cell_type": "code",
   "execution_count": 9,
   "metadata": {
    "colab": {
     "base_uri": "https://localhost:8080/"
    },
    "executionInfo": {
     "elapsed": 2830,
     "status": "ok",
     "timestamp": 1606341867329,
     "user": {
      "displayName": "Tae-Hyung Kim",
      "photoUrl": "https://lh3.googleusercontent.com/a-/AOh14GhHVPEGKeIfrDrHTOwxwL6QYScms0ZPakVT2tBlL6k=s64",
      "userId": "11130252197837695405"
     },
     "user_tz": -540
    },
    "id": "1Z6MZzRzorPC",
    "outputId": "2022578d-febc-4f09-d973-52a9a81aaba0"
   },
   "outputs": [
    {
     "data": {
      "text/plain": [
       "('the',\n",
       " 'federal',\n",
       " 'gain',\n",
       " 'only',\n",
       " 'growth',\n",
       " 'lt',\n",
       " 'they',\n",
       " 'meeting',\n",
       " 'year',\n",
       " 'reuter')"
      ]
     },
     "execution_count": 9,
     "metadata": {
      "tags": []
     },
     "output_type": "execute_result"
    }
   ],
   "source": [
    "# Let's see what index2word_dict has got.\n",
    "index2word_dict[1], index2word_dict[245], index2word_dict[273], index2word_dict[207], index2word_dict[156], index2word_dict[53], index2word_dict[74], index2word_dict[160], index2word_dict[26], index2word_dict[14]"
   ]
  },
  {
   "cell_type": "markdown",
   "metadata": {
    "id": "Us-Qyegzx-i8"
   },
   "source": [
    "0, 1, 2 are padding, start, oov, respectively. So"
   ]
  },
  {
   "cell_type": "code",
   "execution_count": 10,
   "metadata": {
    "colab": {
     "base_uri": "https://localhost:8080/"
    },
    "executionInfo": {
     "elapsed": 2824,
     "status": "ok",
     "timestamp": 1606341867330,
     "user": {
      "displayName": "Tae-Hyung Kim",
      "photoUrl": "https://lh3.googleusercontent.com/a-/AOh14GhHVPEGKeIfrDrHTOwxwL6QYScms0ZPakVT2tBlL6k=s64",
      "userId": "11130252197837695405"
     },
     "user_tz": -540
    },
    "id": "SXZL2R2ax-At",
    "outputId": "785f4fe9-cbe8-43f7-8d14-00f22d58553a"
   },
   "outputs": [
    {
     "data": {
      "text/plain": [
       "('period', 'ended', 'december', '31', 'shr', 'profit', '11', 'cts', 'vs')"
      ]
     },
     "execution_count": 10,
     "metadata": {
      "tags": []
     },
     "output_type": "execute_result"
    }
   ],
   "source": [
    "index2word_dict[245-3], index2word_dict[273-3], index2word_dict[207-3], index2word_dict[156-3], index2word_dict[53-3], index2word_dict[74-3], index2word_dict[160-3], index2word_dict[26-3], index2word_dict[14-3]"
   ]
  },
  {
   "cell_type": "code",
   "execution_count": 11,
   "metadata": {
    "colab": {
     "base_uri": "https://localhost:8080/"
    },
    "executionInfo": {
     "elapsed": 2818,
     "status": "ok",
     "timestamp": 1606341867331,
     "user": {
      "displayName": "Tae-Hyung Kim",
      "photoUrl": "https://lh3.googleusercontent.com/a-/AOh14GhHVPEGKeIfrDrHTOwxwL6QYScms0ZPakVT2tBlL6k=s64",
      "userId": "11130252197837695405"
     },
     "user_tz": -540
    },
    "id": "tENCEK1dHqgy",
    "outputId": "87c2a45f-9df9-4d45-aba4-876590c8dbb0"
   },
   "outputs": [
    {
     "name": "stdout",
     "output_type": "stream",
     "text": [
      "? period ended december 31 shr profit 11 cts vs loss 24 cts net profit 224 271 vs loss 511 349 revs 7 258 688 vs 7 200 349 reuter 3\n"
     ]
    }
   ],
   "source": [
    "# Decode the sample data\n",
    "# For each word in sample_data, change an index to a word and put a space ' '.\n",
    "decoded_sample_data = ' '.join( [ index2word_dict.get(word - 3, '?') for word in\n",
    "sample_data])\n",
    "\n",
    "print( decoded_sample_data )"
   ]
  },
  {
   "cell_type": "markdown",
   "metadata": {
    "id": "eqw59SVGzYPw"
   },
   "source": [
    "### Data Preparation"
   ]
  },
  {
   "cell_type": "code",
   "execution_count": 16,
   "metadata": {
    "executionInfo": {
     "elapsed": 625,
     "status": "ok",
     "timestamp": 1606341905707,
     "user": {
      "displayName": "Tae-Hyung Kim",
      "photoUrl": "https://lh3.googleusercontent.com/a-/AOh14GhHVPEGKeIfrDrHTOwxwL6QYScms0ZPakVT2tBlL6k=s64",
      "userId": "11130252197837695405"
     },
     "user_tz": -540
    },
    "id": "0R4V7z-5z5tg"
   },
   "outputs": [],
   "source": [
    "# One-hot encoding, https://en.wikipedia.org/wiki/One-hot\n",
    "# All columns are 0 except 1 for the index.\n",
    "def vectorize_sequences( sequences, dimension=10000 ):\n",
    "    # One-hot encoding with 10k columns\n",
    "    import numpy as np\n",
    "\n",
    "    results = np.zeros((len(sequences), dimension))\n",
    "    for i, sequence in enumerate(sequences):\n",
    "        results[i, sequence] = 1.\n",
    "    return results"
   ]
  },
  {
   "cell_type": "code",
   "execution_count": 17,
   "metadata": {
    "colab": {
     "base_uri": "https://localhost:8080/"
    },
    "executionInfo": {
     "elapsed": 1418,
     "status": "ok",
     "timestamp": 1606341907601,
     "user": {
      "displayName": "Tae-Hyung Kim",
      "photoUrl": "https://lh3.googleusercontent.com/a-/AOh14GhHVPEGKeIfrDrHTOwxwL6QYScms0ZPakVT2tBlL6k=s64",
      "userId": "11130252197837695405"
     },
     "user_tz": -540
    },
    "id": "ZLsZuhbx0X0B",
    "outputId": "0f614cf8-ba1d-454c-c132-2524517c18a0"
   },
   "outputs": [
    {
     "name": "stdout",
     "output_type": "stream",
     "text": [
      "x_train (8982, 10000)\n",
      "x_test  (2246, 10000)\n"
     ]
    }
   ],
   "source": [
    "# Vectorize the training and test data to tensors with 10k columns\n",
    "x_train = vectorize_sequences( train_data )\n",
    "x_test = vectorize_sequences( test_data )\n",
    "\n",
    "print(\"x_train\", x_train.shape)\n",
    "print(\"x_test \", x_test.shape)"
   ]
  },
  {
   "cell_type": "markdown",
   "metadata": {
    "id": "cBykdayNceDn"
   },
   "source": [
    "Keras's built-in function `keras.utils.to_categorical` will be used to encode the labels. See below just to deepen the understanding of how one-hot encoding of the labels works.\n",
    "\n",
    "Example of [One-hot encoding](https://en.wikipedia.org/wiki/One-hot)\n",
    "\n",
    "| Binary | Gray code | One-hot  |\n",
    "| :----: | :-------: | :------: |\n",
    "|  000   |    000    | 00000001 |\n",
    "|  001   |    001    | 00000010 |\n",
    "|  010   |    011    | 00000100 |\n",
    "|  011   |    010    | 00001000 |\n",
    "|  100   |    110    | 00010000 |\n",
    "|  101   |    111    | 00100000 |\n",
    "|  110   |    101    | 01000000 |\n",
    "|  111   |    100    | 10000000 |"
   ]
  },
  {
   "cell_type": "code",
   "execution_count": 25,
   "metadata": {
    "executionInfo": {
     "elapsed": 700,
     "status": "ok",
     "timestamp": 1606342210550,
     "user": {
      "displayName": "Tae-Hyung Kim",
      "photoUrl": "https://lh3.googleusercontent.com/a-/AOh14GhHVPEGKeIfrDrHTOwxwL6QYScms0ZPakVT2tBlL6k=s64",
      "userId": "11130252197837695405"
     },
     "user_tz": -540
    },
    "id": "FHjH8tVX151t"
   },
   "outputs": [],
   "source": [
    "def encode_to_one_hot( labels, dimension=46 ):\n",
    "    import numpy as np\n",
    "\n",
    "    results = np.zeros((len(labels), dimension))\n",
    "    for i, label in enumerate(labels):\n",
    "        results[i, label] = 1.\n",
    "    return results"
   ]
  },
  {
   "cell_type": "code",
   "execution_count": 26,
   "metadata": {
    "colab": {
     "base_uri": "https://localhost:8080/"
    },
    "executionInfo": {
     "elapsed": 537,
     "status": "ok",
     "timestamp": 1606342210893,
     "user": {
      "displayName": "Tae-Hyung Kim",
      "photoUrl": "https://lh3.googleusercontent.com/a-/AOh14GhHVPEGKeIfrDrHTOwxwL6QYScms0ZPakVT2tBlL6k=s64",
      "userId": "11130252197837695405"
     },
     "user_tz": -540
    },
    "id": "aNRmhDT11hXZ",
    "outputId": "56c95765-14d4-44aa-b571-e6a9a8ff9d47"
   },
   "outputs": [
    {
     "name": "stdout",
     "output_type": "stream",
     "text": [
      "y_train_dummy (8982, 46)\n",
      "y_test_dummy  (2246, 46)\n"
     ]
    }
   ],
   "source": [
    "y_train_dummy = encode_to_one_hot( train_labels )\n",
    "y_test_dummy = encode_to_one_hot( test_labels )\n",
    "\n",
    "print(\"y_train_dummy\", y_train_dummy.shape)\n",
    "print(\"y_test_dummy \", y_test_dummy.shape)"
   ]
  },
  {
   "cell_type": "code",
   "execution_count": 29,
   "metadata": {
    "colab": {
     "base_uri": "https://localhost:8080/"
    },
    "executionInfo": {
     "elapsed": 659,
     "status": "ok",
     "timestamp": 1606342239411,
     "user": {
      "displayName": "Tae-Hyung Kim",
      "photoUrl": "https://lh3.googleusercontent.com/a-/AOh14GhHVPEGKeIfrDrHTOwxwL6QYScms0ZPakVT2tBlL6k=s64",
      "userId": "11130252197837695405"
     },
     "user_tz": -540
    },
    "id": "psjEmKmLcHs9",
    "outputId": "fbd78f73-e431-45b7-de7b-d971fd3cc124"
   },
   "outputs": [
    {
     "name": "stdout",
     "output_type": "stream",
     "text": [
      "3 [0. 0. 0. 1. 0. 0. 0. 0. 0. 0. 0. 0. 0. 0. 0. 0. 0. 0. 0. 0. 0. 0. 0. 0.\n",
      " 0. 0. 0. 0. 0. 0. 0. 0. 0. 0. 0. 0. 0. 0. 0. 0. 0. 0. 0. 0. 0. 0.]\n",
      "4 [0. 0. 0. 0. 1. 0. 0. 0. 0. 0. 0. 0. 0. 0. 0. 0. 0. 0. 0. 0. 0. 0. 0. 0.\n",
      " 0. 0. 0. 0. 0. 0. 0. 0. 0. 0. 0. 0. 0. 0. 0. 0. 0. 0. 0. 0. 0. 0.]\n"
     ]
    }
   ],
   "source": [
    "print( train_labels[0], y_train_dummy[0] )\n",
    "print( train_labels[1], y_train_dummy[1] )"
   ]
  },
  {
   "cell_type": "code",
   "execution_count": 32,
   "metadata": {
    "executionInfo": {
     "elapsed": 667,
     "status": "ok",
     "timestamp": 1606342373625,
     "user": {
      "displayName": "Tae-Hyung Kim",
      "photoUrl": "https://lh3.googleusercontent.com/a-/AOh14GhHVPEGKeIfrDrHTOwxwL6QYScms0ZPakVT2tBlL6k=s64",
      "userId": "11130252197837695405"
     },
     "user_tz": -540
    },
    "id": "gS2Y-WYubksO"
   },
   "outputs": [],
   "source": [
    "# Convert class vectors to binary class matrices\n",
    "from keras.utils.np_utils import to_categorical\n",
    "\n",
    "num_classes = 46\n",
    "y_train = to_categorical( train_labels, num_classes )\n",
    "y_test = to_categorical( test_labels, num_classes )"
   ]
  },
  {
   "cell_type": "code",
   "execution_count": 33,
   "metadata": {
    "colab": {
     "base_uri": "https://localhost:8080/"
    },
    "executionInfo": {
     "elapsed": 669,
     "status": "ok",
     "timestamp": 1606342416076,
     "user": {
      "displayName": "Tae-Hyung Kim",
      "photoUrl": "https://lh3.googleusercontent.com/a-/AOh14GhHVPEGKeIfrDrHTOwxwL6QYScms0ZPakVT2tBlL6k=s64",
      "userId": "11130252197837695405"
     },
     "user_tz": -540
    },
    "id": "RSbbpUtZd6kl",
    "outputId": "8b98030a-19b5-43b8-c808-65318b6c1f7c"
   },
   "outputs": [
    {
     "name": "stdout",
     "output_type": "stream",
     "text": [
      "y_train (8982, 46)\n",
      "y_test  (2246, 46)\n",
      "3 [0. 0. 0. 1. 0. 0. 0. 0. 0. 0. 0. 0. 0. 0. 0. 0. 0. 0. 0. 0. 0. 0. 0. 0.\n",
      " 0. 0. 0. 0. 0. 0. 0. 0. 0. 0. 0. 0. 0. 0. 0. 0. 0. 0. 0. 0. 0. 0.]\n",
      "4 [0. 0. 0. 0. 1. 0. 0. 0. 0. 0. 0. 0. 0. 0. 0. 0. 0. 0. 0. 0. 0. 0. 0. 0.\n",
      " 0. 0. 0. 0. 0. 0. 0. 0. 0. 0. 0. 0. 0. 0. 0. 0. 0. 0. 0. 0. 0. 0.]\n"
     ]
    }
   ],
   "source": [
    "print(\"y_train\", y_train.shape)\n",
    "print(\"y_test \", y_test.shape)\n",
    "\n",
    "print( train_labels[0], y_train[0] )\n",
    "print( train_labels[1], y_train[1] )"
   ]
  },
  {
   "cell_type": "code",
   "execution_count": 38,
   "metadata": {
    "colab": {
     "base_uri": "https://localhost:8080/"
    },
    "executionInfo": {
     "elapsed": 762,
     "status": "ok",
     "timestamp": 1606343874141,
     "user": {
      "displayName": "Tae-Hyung Kim",
      "photoUrl": "https://lh3.googleusercontent.com/a-/AOh14GhHVPEGKeIfrDrHTOwxwL6QYScms0ZPakVT2tBlL6k=s64",
      "userId": "11130252197837695405"
     },
     "user_tz": -540
    },
    "id": "hsTWu3PUecKw",
    "outputId": "ec1efbff-6db8-448d-b837-d8cf4f2831ef"
   },
   "outputs": [
    {
     "name": "stdout",
     "output_type": "stream",
     "text": [
      "x_val  (1000, 10000)\n",
      "y_val  (1000, 46)\n",
      "partial_x_train  (7982, 10000)\n",
      "partial_y_train  (7982, 46)\n"
     ]
    }
   ],
   "source": [
    "# Setting aside a VALIDATION set\n",
    "x_val           = x_train[:1000]\n",
    "partial_x_train = x_train[1000:]\n",
    "y_val           = y_train[:1000]\n",
    "partial_y_train = y_train[1000:]\n",
    "\n",
    "print(\"x_val \", x_val.shape)\n",
    "print(\"y_val \", y_val.shape)\n",
    "\n",
    "print(\"partial_x_train \", partial_x_train.shape)\n",
    "print(\"partial_y_train \", partial_y_train.shape)"
   ]
  },
  {
   "cell_type": "markdown",
   "metadata": {
    "id": "5P2Utl0Ye3BO"
   },
   "source": [
    "\n",
    "## Model Training"
   ]
  },
  {
   "cell_type": "markdown",
   "metadata": {
    "id": "5r74x9zqf8aq"
   },
   "source": [
    "We will start off with a basic model for simplicity. Note there are 46 output neurons because 46 classes exist. Given 46 output neurons, 64 input neurons are selected. The size of the input layer is a slightly larger than that of the output layer. The hidden layer size is set to be equal to the input layer.\n",
    "\n",
    "Say there exists 16 input neurons. The network size is too small.\n",
    "\n",
    "> In a stack of Dense layers like that you’ve been using, each layer can only access information present in the output of the previous layer. If one layer drops some information relevant to the classification problem, this information can never be recovered by later layers: each layer can potentially become an information bottleneck. In the previous example, you used 16-dimensional intermediate layers, but a 16-dimensional space may be too limited to learn to separate 46 different classes: such small layers may act as information bottlenecks, permanently dropping relevant information. - Source: [3.5.3. Building your network](https://livebook.manning.com/book/deep-learning-with-python/chapter-3/215)\n"
   ]
  },
  {
   "cell_type": "code",
   "execution_count": 39,
   "metadata": {
    "colab": {
     "base_uri": "https://localhost:8080/"
    },
    "executionInfo": {
     "elapsed": 651,
     "status": "ok",
     "timestamp": 1606343877837,
     "user": {
      "displayName": "Tae-Hyung Kim",
      "photoUrl": "https://lh3.googleusercontent.com/a-/AOh14GhHVPEGKeIfrDrHTOwxwL6QYScms0ZPakVT2tBlL6k=s64",
      "userId": "11130252197837695405"
     },
     "user_tz": -540
    },
    "id": "KWL0vkIPe2Qt",
    "outputId": "1dc7baf0-76bb-43bb-be26-8305ee969c0e"
   },
   "outputs": [
    {
     "name": "stdout",
     "output_type": "stream",
     "text": [
      "Model: \"sequential_1\"\n",
      "_________________________________________________________________\n",
      "Layer (type)                 Output Shape              Param #   \n",
      "=================================================================\n",
      "dense_3 (Dense)              (None, 64)                640064    \n",
      "_________________________________________________________________\n",
      "dense_4 (Dense)              (None, 64)                4160      \n",
      "_________________________________________________________________\n",
      "dense_5 (Dense)              (None, 46)                2990      \n",
      "=================================================================\n",
      "Total params: 647,214\n",
      "Trainable params: 647,214\n",
      "Non-trainable params: 0\n",
      "_________________________________________________________________\n"
     ]
    }
   ],
   "source": [
    "# MODEL\n",
    "from keras import models\n",
    "from keras import layers\n",
    "\n",
    "model = models.Sequential()\n",
    "model.add( layers.Dense(64, activation='relu', input_shape=(10000,)) )\n",
    "model.add( layers.Dense(64, activation='relu') )\n",
    "model.add( layers.Dense(46, activation='softmax') )\n",
    "model.summary()"
   ]
  },
  {
   "cell_type": "markdown",
   "metadata": {
    "id": "2CukVyWifPXv"
   },
   "source": [
    "The network size used by Kaggle's [Reuters - Document classification with Keras TF](https://www.kaggle.com/drscarlat/reuters-document-classification-with-keras-tf):\n",
    "\n",
    "```python\n",
    "model = models.Sequential()\n",
    "model.add( layers.Dense(256, kernel_regularizer=regularizers.l1(0.001), activation='relu', input_shape=(10000,)) )\n",
    "model.add( layers.Dropout(0.5) )\n",
    "model.add( layers.Dense(256, kernel_regularizer=regularizers.l1(0.001), activation='relu') )\n",
    "model.add( layers.Dropout(0.5) )\n",
    "model.add( layers.Dense(46, activation='softmax') )\n",
    "model.summary()\n",
    "```\n",
    "\n",
    "```python\n",
    "# REGULARIZERS L1 L2\n",
    "#regularizers.l1(0.001)\n",
    "#regularizers.l2(0.001)\n",
    "#regularizers.l1_l2(l1=0.001, l2=0.001)\n",
    "\n",
    "# Best results I got with HU=128/128/128 or 256/256 and L1=0.001 and Dropout=0.5 = 77.02%\n",
    "# Without Regularizer 72.92%\n",
    "# Reg L1 = 76.04, L2 = 76.2, L1_L2 = 76.0\n",
    "# Only DropOut (0.5) = 76.85%\n",
    "```\n"
   ]
  },
  {
   "cell_type": "code",
   "execution_count": 40,
   "metadata": {
    "colab": {
     "base_uri": "https://localhost:8080/"
    },
    "executionInfo": {
     "elapsed": 5226,
     "status": "ok",
     "timestamp": 1606343884580,
     "user": {
      "displayName": "Tae-Hyung Kim",
      "photoUrl": "https://lh3.googleusercontent.com/a-/AOh14GhHVPEGKeIfrDrHTOwxwL6QYScms0ZPakVT2tBlL6k=s64",
      "userId": "11130252197837695405"
     },
     "user_tz": -540
    },
    "id": "5XX0_fk4jDr5",
    "outputId": "c2e34b05-ce89-47a0-e272-a3ad305bad63"
   },
   "outputs": [
    {
     "name": "stdout",
     "output_type": "stream",
     "text": [
      "Epoch 1/10\n",
      "16/16 [==============================] - 0s 23ms/step - loss: 2.5841 - accuracy: 0.5182 - val_loss: 1.7273 - val_accuracy: 0.6310\n",
      "Epoch 2/10\n",
      "16/16 [==============================] - 0s 13ms/step - loss: 1.4152 - accuracy: 0.7060 - val_loss: 1.2869 - val_accuracy: 0.7140\n",
      "Epoch 3/10\n",
      "16/16 [==============================] - 0s 14ms/step - loss: 1.0544 - accuracy: 0.7734 - val_loss: 1.1214 - val_accuracy: 0.7480\n",
      "Epoch 4/10\n",
      "16/16 [==============================] - 0s 13ms/step - loss: 0.8293 - accuracy: 0.8232 - val_loss: 1.0712 - val_accuracy: 0.7510\n",
      "Epoch 5/10\n",
      "16/16 [==============================] - 0s 14ms/step - loss: 0.6594 - accuracy: 0.8611 - val_loss: 0.9689 - val_accuracy: 0.7950\n",
      "Epoch 6/10\n",
      "16/16 [==============================] - 0s 14ms/step - loss: 0.5264 - accuracy: 0.8898 - val_loss: 0.9044 - val_accuracy: 0.8090\n",
      "Epoch 7/10\n",
      "16/16 [==============================] - 0s 14ms/step - loss: 0.4225 - accuracy: 0.9105 - val_loss: 0.9144 - val_accuracy: 0.8090\n",
      "Epoch 8/10\n",
      "16/16 [==============================] - 0s 14ms/step - loss: 0.3424 - accuracy: 0.9277 - val_loss: 0.8776 - val_accuracy: 0.8120\n",
      "Epoch 9/10\n",
      "16/16 [==============================] - 0s 14ms/step - loss: 0.2855 - accuracy: 0.9381 - val_loss: 0.8806 - val_accuracy: 0.8180\n",
      "Epoch 10/10\n",
      "16/16 [==============================] - 0s 13ms/step - loss: 0.2407 - accuracy: 0.9466 - val_loss: 0.9005 - val_accuracy: 0.8140\n"
     ]
    }
   ],
   "source": [
    "NumEpochs = 10\n",
    "BatchSize = 512\n",
    "\n",
    "model.compile(optimizer='rmsprop',loss='categorical_crossentropy', metrics=['accuracy'])\n",
    "history = model.fit(partial_x_train, partial_y_train, epochs=NumEpochs, batch_size=BatchSize, validation_data=(x_val, y_val))"
   ]
  },
  {
   "cell_type": "markdown",
   "metadata": {
    "id": "U4nX7dmBqP79"
   },
   "source": [
    "TODO: https://www.kaggle.com/drscarlat/reuters-document-classification-with-keras-tf\n",
    "\n",
    "Start from \n",
    "\n",
    "decoded_newswire = ' '.join([reverse_word_index.get(i - 3, '?') for i in\n",
    "train_data[0]])"
   ]
  }
 ],
 "metadata": {
  "accelerator": "GPU",
  "colab": {
   "authorship_tag": "ABX9TyOHqp6iKrq4rKy8LXRhnk/k",
   "collapsed_sections": [],
   "name": "7_reuters_newswire-mlp-keras.ipynb",
   "provenance": [
    {
     "file_id": "1kybVqopN4OvWtydOsd5Gg55IN-cXbc9_",
     "timestamp": 1606284563675
    },
    {
     "file_id": "1XXWnS-JNIw8F4-7J6af-x7s-opG-qM7r",
     "timestamp": 1606284340035
    }
   ]
  },
  "kernelspec": {
   "display_name": "Python 3",
   "language": "python",
   "name": "python3"
  },
  "language_info": {
   "codemirror_mode": {
    "name": "ipython",
    "version": 3
   },
   "file_extension": ".py",
   "mimetype": "text/x-python",
   "name": "python",
   "nbconvert_exporter": "python",
   "pygments_lexer": "ipython3",
   "version": "3.9.4"
  }
 },
 "nbformat": 4,
 "nbformat_minor": 1
}

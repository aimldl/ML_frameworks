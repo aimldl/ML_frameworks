{
 "cells": [
  {
   "cell_type": "markdown",
   "metadata": {
    "id": "nA1AFAJAxmgH"
   },
   "source": [
    "[Simple MNIST convnet](https://keras.io/examples/vision/mnist_convnet/)\n",
    "```\n",
    "Author: fchollet\n",
    "Date created: 2015/06/19\n",
    "Last modified: 2020/04/21\n",
    "Description: A simple convnet that achieves ~99% test accuracy on MNIST.\n",
    "```\n",
    "https://colab.research.google.com/github/GoogleCloudPlatform/cloudml-samples/blob/master/notebooks/tensorflow/getting-started-keras.ipynb#scrollTo=1y4JdKCcTjgJ"
   ]
  },
  {
   "cell_type": "code",
   "execution_count": 2,
   "metadata": {
    "colab": {
     "base_uri": "https://localhost:8080/"
    },
    "executionInfo": {
     "elapsed": 3689,
     "status": "ok",
     "timestamp": 1611318253904,
     "user": {
      "displayName": "Tae-Hyung Kim",
      "photoUrl": "https://lh3.googleusercontent.com/a-/AOh14GhHVPEGKeIfrDrHTOwxwL6QYScms0ZPakVT2tBlL6k=s64",
      "userId": "11130252197837695405"
     },
     "user_tz": -540
    },
    "id": "IMRZ9qCUx2YW",
    "outputId": "d9456686-0be2-4804-89e5-411060cd43fc"
   },
   "outputs": [
    {
     "name": "stdout",
     "output_type": "stream",
     "text": [
      "Downloading data from https://storage.googleapis.com/tensorflow/tf-keras-datasets/mnist.npz\n",
      "11493376/11490434 [==============================] - 0s 0us/step\n",
      "<class 'numpy.ndarray'> <class 'numpy.ndarray'> <class 'numpy.ndarray'> <class 'numpy.ndarray'>\n"
     ]
    },
    {
     "data": {
      "text/plain": [
       "[numpy.ndarray, numpy.ndarray, numpy.ndarray, numpy.ndarray]"
      ]
     },
     "execution_count": 2,
     "metadata": {
      "tags": []
     },
     "output_type": "execute_result"
    }
   ],
   "source": [
    "from tensorflow import keras\n",
    "\n",
    "(x_train, y_train), (x_test, y_test) = keras.datasets.mnist.load_data()\n",
    "\n",
    "# Check the types of all the variables\n",
    "print( type( x_train ), type( y_train ), type( x_test ), type( y_test ) )\n",
    "[ type( x_train ), type( y_train ), type( x_test ), type( y_test ) ]"
   ]
  },
  {
   "cell_type": "code",
   "execution_count": 3,
   "metadata": {
    "executionInfo": {
     "elapsed": 908,
     "status": "ok",
     "timestamp": 1611318256882,
     "user": {
      "displayName": "Tae-Hyung Kim",
      "photoUrl": "https://lh3.googleusercontent.com/a-/AOh14GhHVPEGKeIfrDrHTOwxwL6QYScms0ZPakVT2tBlL6k=s64",
      "userId": "11130252197837695405"
     },
     "user_tz": -540
    },
    "id": "0r8uv7xlA9bf"
   },
   "outputs": [],
   "source": [
    "# Scale images to the [0, 1] range\n",
    "x_train = x_train.astype(\"float32\") / 255\n",
    "x_test = x_test.astype(\"float32\") / 255"
   ]
  },
  {
   "cell_type": "code",
   "execution_count": 4,
   "metadata": {
    "colab": {
     "base_uri": "https://localhost:8080/"
    },
    "executionInfo": {
     "elapsed": 1280,
     "status": "ok",
     "timestamp": 1611318259290,
     "user": {
      "displayName": "Tae-Hyung Kim",
      "photoUrl": "https://lh3.googleusercontent.com/a-/AOh14GhHVPEGKeIfrDrHTOwxwL6QYScms0ZPakVT2tBlL6k=s64",
      "userId": "11130252197837695405"
     },
     "user_tz": -540
    },
    "id": "_7azq2m5xnGQ",
    "outputId": "d00db0df-c728-4966-f17d-bb1b3463dd03"
   },
   "outputs": [
    {
     "name": "stdout",
     "output_type": "stream",
     "text": [
      "x_train shape: (60000, 28, 28, 1)\n",
      "60000 train samples\n",
      "10000 test samples\n"
     ]
    }
   ],
   "source": [
    "import numpy as np\n",
    "\n",
    "# Make sure images have shape (28, 28, 1)\n",
    "x_train = np.expand_dims( x_train, -1 )\n",
    "x_test = np.expand_dims( x_test, -1 )\n",
    "\n",
    "print( \"x_train shape:\", x_train.shape )\n",
    "print( x_train.shape[0], \"train samples\" )\n",
    "print( x_test.shape[0], \"test samples\" )"
   ]
  },
  {
   "cell_type": "code",
   "execution_count": 5,
   "metadata": {
    "colab": {
     "base_uri": "https://localhost:8080/"
    },
    "executionInfo": {
     "elapsed": 524,
     "status": "ok",
     "timestamp": 1611318261032,
     "user": {
      "displayName": "Tae-Hyung Kim",
      "photoUrl": "https://lh3.googleusercontent.com/a-/AOh14GhHVPEGKeIfrDrHTOwxwL6QYScms0ZPakVT2tBlL6k=s64",
      "userId": "11130252197837695405"
     },
     "user_tz": -540
    },
    "id": "0Je0kNXH_EEv",
    "outputId": "ddfd54aa-0c2f-43a4-e80a-8dea2d0fd8e8"
   },
   "outputs": [
    {
     "name": "stdout",
     "output_type": "stream",
     "text": [
      "<class 'numpy.ndarray'> <class 'numpy.ndarray'>\n"
     ]
    }
   ],
   "source": [
    "num_classes = 10\n",
    "input_shape = (28, 28, 1)\n",
    "\n",
    "# Convert class vectors to binary class matrices\n",
    "y_train = keras.utils.to_categorical( y_train, num_classes )\n",
    "y_test = keras.utils.to_categorical( y_test, num_classes )\n",
    "\n",
    "# Check the variable type\n",
    "print( type(y_train), type(y_test) )"
   ]
  },
  {
   "cell_type": "code",
   "execution_count": 6,
   "metadata": {
    "colab": {
     "base_uri": "https://localhost:8080/"
    },
    "executionInfo": {
     "elapsed": 6478,
     "status": "ok",
     "timestamp": 1611318271957,
     "user": {
      "displayName": "Tae-Hyung Kim",
      "photoUrl": "https://lh3.googleusercontent.com/a-/AOh14GhHVPEGKeIfrDrHTOwxwL6QYScms0ZPakVT2tBlL6k=s64",
      "userId": "11130252197837695405"
     },
     "user_tz": -540
    },
    "id": "zrBI011SxeWh",
    "outputId": "59c62ea5-c25e-4623-a4e0-29a801368c6e"
   },
   "outputs": [
    {
     "name": "stdout",
     "output_type": "stream",
     "text": [
      "Model: \"sequential\"\n",
      "_________________________________________________________________\n",
      "Layer (type)                 Output Shape              Param #   \n",
      "=================================================================\n",
      "conv2d (Conv2D)              (None, 26, 26, 32)        320       \n",
      "_________________________________________________________________\n",
      "max_pooling2d (MaxPooling2D) (None, 13, 13, 32)        0         \n",
      "_________________________________________________________________\n",
      "conv2d_1 (Conv2D)            (None, 11, 11, 64)        18496     \n",
      "_________________________________________________________________\n",
      "max_pooling2d_1 (MaxPooling2 (None, 5, 5, 64)          0         \n",
      "_________________________________________________________________\n",
      "flatten (Flatten)            (None, 1600)              0         \n",
      "_________________________________________________________________\n",
      "dropout (Dropout)            (None, 1600)              0         \n",
      "_________________________________________________________________\n",
      "dense (Dense)                (None, 10)                16010     \n",
      "=================================================================\n",
      "Total params: 34,826\n",
      "Trainable params: 34,826\n",
      "Non-trainable params: 0\n",
      "_________________________________________________________________\n"
     ]
    }
   ],
   "source": [
    "from tensorflow.keras.models import Sequential\n",
    "from tensorflow.keras.layers import Dense\n",
    "from tensorflow.keras import layers\n",
    "\n",
    "model = keras.Sequential(\n",
    "    [\n",
    "        keras.Input(shape=input_shape),\n",
    "        layers.Conv2D(32, kernel_size=(3, 3), activation=\"relu\"),\n",
    "        layers.MaxPooling2D(pool_size=(2, 2)),\n",
    "        layers.Conv2D(64, kernel_size=(3, 3), activation=\"relu\"),\n",
    "        layers.MaxPooling2D(pool_size=(2, 2)),\n",
    "        layers.Flatten(),\n",
    "        layers.Dropout(0.5),\n",
    "        layers.Dense(num_classes, activation=\"softmax\"),\n",
    "    ]\n",
    ")\n",
    "\n",
    "model.summary()"
   ]
  },
  {
   "cell_type": "code",
   "execution_count": 7,
   "metadata": {
    "colab": {
     "base_uri": "https://localhost:8080/"
    },
    "executionInfo": {
     "elapsed": 57319,
     "status": "ok",
     "timestamp": 1611318333314,
     "user": {
      "displayName": "Tae-Hyung Kim",
      "photoUrl": "https://lh3.googleusercontent.com/a-/AOh14GhHVPEGKeIfrDrHTOwxwL6QYScms0ZPakVT2tBlL6k=s64",
      "userId": "11130252197837695405"
     },
     "user_tz": -540
    },
    "id": "dKp3tGxZe2aA",
    "outputId": "9dc62a67-694d-42c3-eab3-73a03402b537"
   },
   "outputs": [
    {
     "name": "stdout",
     "output_type": "stream",
     "text": [
      "Epoch 1/15\n",
      "422/422 [==============================] - 10s 10ms/step - loss: 0.7828 - accuracy: 0.7559 - val_loss: 0.0803 - val_accuracy: 0.9782\n",
      "Epoch 2/15\n",
      "422/422 [==============================] - 3s 8ms/step - loss: 0.1178 - accuracy: 0.9643 - val_loss: 0.0555 - val_accuracy: 0.9847\n",
      "Epoch 3/15\n",
      "422/422 [==============================] - 3s 8ms/step - loss: 0.0835 - accuracy: 0.9754 - val_loss: 0.0484 - val_accuracy: 0.9862\n",
      "Epoch 4/15\n",
      "422/422 [==============================] - 3s 8ms/step - loss: 0.0724 - accuracy: 0.9778 - val_loss: 0.0421 - val_accuracy: 0.9882\n",
      "Epoch 5/15\n",
      "422/422 [==============================] - 3s 8ms/step - loss: 0.0626 - accuracy: 0.9807 - val_loss: 0.0398 - val_accuracy: 0.9895\n",
      "Epoch 6/15\n",
      "422/422 [==============================] - 3s 8ms/step - loss: 0.0530 - accuracy: 0.9841 - val_loss: 0.0385 - val_accuracy: 0.9898\n",
      "Epoch 7/15\n",
      "422/422 [==============================] - 3s 8ms/step - loss: 0.0491 - accuracy: 0.9837 - val_loss: 0.0387 - val_accuracy: 0.9892\n",
      "Epoch 8/15\n",
      "422/422 [==============================] - 3s 8ms/step - loss: 0.0496 - accuracy: 0.9841 - val_loss: 0.0403 - val_accuracy: 0.9883\n",
      "Epoch 9/15\n",
      "422/422 [==============================] - 3s 8ms/step - loss: 0.0433 - accuracy: 0.9859 - val_loss: 0.0323 - val_accuracy: 0.9917\n",
      "Epoch 10/15\n",
      "422/422 [==============================] - 3s 8ms/step - loss: 0.0409 - accuracy: 0.9866 - val_loss: 0.0315 - val_accuracy: 0.9915\n",
      "Epoch 11/15\n",
      "422/422 [==============================] - 3s 8ms/step - loss: 0.0364 - accuracy: 0.9890 - val_loss: 0.0299 - val_accuracy: 0.9923\n",
      "Epoch 12/15\n",
      "422/422 [==============================] - 3s 8ms/step - loss: 0.0367 - accuracy: 0.9887 - val_loss: 0.0310 - val_accuracy: 0.9920\n",
      "Epoch 13/15\n",
      "422/422 [==============================] - 3s 8ms/step - loss: 0.0345 - accuracy: 0.9887 - val_loss: 0.0292 - val_accuracy: 0.9918\n",
      "Epoch 14/15\n",
      "422/422 [==============================] - 3s 8ms/step - loss: 0.0311 - accuracy: 0.9893 - val_loss: 0.0286 - val_accuracy: 0.9928\n",
      "Epoch 15/15\n",
      "422/422 [==============================] - 3s 8ms/step - loss: 0.0303 - accuracy: 0.9900 - val_loss: 0.0293 - val_accuracy: 0.9917\n"
     ]
    },
    {
     "data": {
      "text/plain": [
       "<tensorflow.python.keras.callbacks.History at 0x7f4b60bcaef0>"
      ]
     },
     "execution_count": 7,
     "metadata": {
      "tags": []
     },
     "output_type": "execute_result"
    }
   ],
   "source": [
    "batch_size = 128\n",
    "epochs = 15\n",
    "\n",
    "model.compile(loss=\"categorical_crossentropy\", optimizer=\"adam\", metrics=[\"accuracy\"])\n",
    "model.fit(x_train, y_train, batch_size=batch_size, epochs=epochs, validation_split=0.1)"
   ]
  },
  {
   "cell_type": "code",
   "execution_count": null,
   "metadata": {
    "colab": {
     "base_uri": "https://localhost:8080/"
    },
    "executionInfo": {
     "elapsed": 1448,
     "status": "ok",
     "timestamp": 1606090203521,
     "user": {
      "displayName": "Tae-Hyung Kim",
      "photoUrl": "https://lh3.googleusercontent.com/a-/AOh14GhHVPEGKeIfrDrHTOwxwL6QYScms0ZPakVT2tBlL6k=s64",
      "userId": "11130252197837695405"
     },
     "user_tz": -540
    },
    "id": "Ob0Q8hb3x_ZF",
    "outputId": "8f39afbb-ec94-45ca-c499-666cfa4dcc14"
   },
   "outputs": [
    {
     "name": "stdout",
     "output_type": "stream",
     "text": [
      "Test loss: 0.023618068546056747\n",
      "Test accuracy: 0.9925000071525574\n"
     ]
    }
   ],
   "source": [
    "score = model.evaluate( x_test, y_test, verbose=0 )\n",
    "print(\"Test loss:\", score[0])\n",
    "print(\"Test accuracy:\", score[1])"
   ]
  },
  {
   "cell_type": "code",
   "execution_count": null,
   "metadata": {
    "id": "0uBUuENqb5uT"
   },
   "outputs": [],
   "source": []
  }
 ],
 "metadata": {
  "accelerator": "GPU",
  "colab": {
   "collapsed_sections": [],
   "name": "3_mnist-cnn-keras.ipynb",
   "provenance": [
    {
     "file_id": "1V2d5MMhF_d9GfZrJVrbW4fsVh1v32YAM",
     "timestamp": 1605803516727
    }
   ]
  },
  "kernelspec": {
   "display_name": "Python 3",
   "language": "python",
   "name": "python3"
  },
  "language_info": {
   "codemirror_mode": {
    "name": "ipython",
    "version": 3
   },
   "file_extension": ".py",
   "mimetype": "text/x-python",
   "name": "python",
   "nbconvert_exporter": "python",
   "pygments_lexer": "ipython3",
   "version": "3.9.4"
  }
 },
 "nbformat": 4,
 "nbformat_minor": 1
}

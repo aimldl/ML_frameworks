{
 "cells": [
  {
   "cell_type": "code",
   "execution_count": null,
   "metadata": {
    "colab": {
     "base_uri": "https://localhost:8080/"
    },
    "executionInfo": {
     "elapsed": 3254,
     "status": "ok",
     "timestamp": 1611497835388,
     "user": {
      "displayName": "Tae-Hyung Kim",
      "photoUrl": "https://lh3.googleusercontent.com/a-/AOh14GhHVPEGKeIfrDrHTOwxwL6QYScms0ZPakVT2tBlL6k=s64",
      "userId": "11130252197837695405"
     },
     "user_tz": -540
    },
    "id": "wqU5fTG-vzD4",
    "outputId": "0c07a730-1271-4cf5-c229-9f5ed9fd1f75"
   },
   "outputs": [
    {
     "name": "stdout",
     "output_type": "stream",
     "text": [
      "Downloading data from https://storage.googleapis.com/tensorflow/tf-keras-datasets/mnist.npz\n",
      "11493376/11490434 [==============================] - 0s 0us/step\n"
     ]
    }
   ],
   "source": [
    "from tensorflow import keras\n",
    "import numpy as np\n",
    "\n",
    "(x_train, y_train), (x_test, y_test) = keras.datasets.mnist.load_data()\n",
    "\n",
    "x_train = x_train.astype('float32') / 255\n",
    "x_test = x_test.astype('float32') / 255\n",
    "\n",
    "# Make sure the shape\n",
    "x_train = np.expand_dims( x_train, -1 )\n",
    "x_test = np.expand_dims( x_test, -1 )\n",
    "\n",
    "number_of_classes = 10  # because 0-9\n",
    "\n",
    "# One-hot encoding\n",
    "y_train = keras.utils.to_categorical(y_train, number_of_classes)\n"
   ]
  },
  {
   "cell_type": "code",
   "execution_count": null,
   "metadata": {
    "id": "F0pDuHlbwWsM"
   },
   "outputs": [],
   "source": [
    "y_test = keras.utils.to_categorical(y_test, number_of_classes)"
   ]
  },
  {
   "cell_type": "code",
   "execution_count": null,
   "metadata": {
    "colab": {
     "base_uri": "https://localhost:8080/"
    },
    "executionInfo": {
     "elapsed": 611,
     "status": "ok",
     "timestamp": 1611497878152,
     "user": {
      "displayName": "Tae-Hyung Kim",
      "photoUrl": "https://lh3.googleusercontent.com/a-/AOh14GhHVPEGKeIfrDrHTOwxwL6QYScms0ZPakVT2tBlL6k=s64",
      "userId": "11130252197837695405"
     },
     "user_tz": -540
    },
    "id": "3zLWMeeLwb8g",
    "outputId": "cb5d19b2-2de6-4c9a-f8eb-e571a39ab6ae"
   },
   "outputs": [
    {
     "data": {
      "text/plain": [
       "(28, 28, 1)"
      ]
     },
     "execution_count": 3,
     "metadata": {
      "tags": []
     },
     "output_type": "execute_result"
    }
   ],
   "source": [
    "input_shape = (28, 28, 1)\n",
    "#input_shape = (784, )\n",
    "input_shape"
   ]
  },
  {
   "cell_type": "code",
   "execution_count": null,
   "metadata": {
    "id": "yQ4FD_NZwi_e"
   },
   "outputs": [],
   "source": [
    "# Model\n",
    "from tensorflow.keras.models import Sequential\n",
    "from tensorflow.keras.layers import Dense\n",
    "from tensorflow.keras import layers\n",
    "\n",
    "model = keras.Sequential(\n",
    "    [\n",
    "     keras.Input(shape=input_shape),\n",
    "     layers.Conv2D(32, kernel_size=(3,3), activation='relu'),\n",
    "     layers.MaxPooling2D(pool_size=(2,2)),\n",
    "     layers.Conv2D(64, kernel_size=(3,3), activation='relu'),\n",
    "     layers.MaxPooling2D(pool_size=(2,2)),\n",
    "     layers.Flatten(),\n",
    "     layers.Dropout(0.5),\n",
    "     Dense(number_of_classes, activation='softmax')\n",
    "    ]\n",
    ")"
   ]
  },
  {
   "cell_type": "code",
   "execution_count": null,
   "metadata": {
    "colab": {
     "base_uri": "https://localhost:8080/"
    },
    "executionInfo": {
     "elapsed": 579,
     "status": "ok",
     "timestamp": 1611498091876,
     "user": {
      "displayName": "Tae-Hyung Kim",
      "photoUrl": "https://lh3.googleusercontent.com/a-/AOh14GhHVPEGKeIfrDrHTOwxwL6QYScms0ZPakVT2tBlL6k=s64",
      "userId": "11130252197837695405"
     },
     "user_tz": -540
    },
    "id": "KYUo1c1XxRRI",
    "outputId": "2a5724b5-4631-42c6-cd43-31d489085944"
   },
   "outputs": [
    {
     "name": "stdout",
     "output_type": "stream",
     "text": [
      "Model: \"sequential\"\n",
      "_________________________________________________________________\n",
      "Layer (type)                 Output Shape              Param #   \n",
      "=================================================================\n",
      "conv2d_1 (Conv2D)            (None, 26, 26, 32)        320       \n",
      "_________________________________________________________________\n",
      "max_pooling2d (MaxPooling2D) (None, 13, 13, 32)        0         \n",
      "_________________________________________________________________\n",
      "conv2d_2 (Conv2D)            (None, 11, 11, 64)        18496     \n",
      "_________________________________________________________________\n",
      "max_pooling2d_1 (MaxPooling2 (None, 5, 5, 64)          0         \n",
      "_________________________________________________________________\n",
      "flatten (Flatten)            (None, 1600)              0         \n",
      "_________________________________________________________________\n",
      "dropout (Dropout)            (None, 1600)              0         \n",
      "_________________________________________________________________\n",
      "dense (Dense)                (None, 10)                16010     \n",
      "=================================================================\n",
      "Total params: 34,826\n",
      "Trainable params: 34,826\n",
      "Non-trainable params: 0\n",
      "_________________________________________________________________\n"
     ]
    }
   ],
   "source": [
    "model.summary()"
   ]
  },
  {
   "cell_type": "code",
   "execution_count": null,
   "metadata": {
    "colab": {
     "base_uri": "https://localhost:8080/"
    },
    "executionInfo": {
     "elapsed": 895268,
     "status": "ok",
     "timestamp": 1611499032089,
     "user": {
      "displayName": "Tae-Hyung Kim",
      "photoUrl": "https://lh3.googleusercontent.com/a-/AOh14GhHVPEGKeIfrDrHTOwxwL6QYScms0ZPakVT2tBlL6k=s64",
      "userId": "11130252197837695405"
     },
     "user_tz": -540
    },
    "id": "Z1W-lacRxXLi",
    "outputId": "5de79557-a735-4b3c-d33b-0e0edb7a312e"
   },
   "outputs": [
    {
     "name": "stdout",
     "output_type": "stream",
     "text": [
      "Epoch 1/20\n",
      "1500/1500 [==============================] - 45s 29ms/step - loss: 0.4845 - accuracy: 0.8502 - val_loss: 0.0773 - val_accuracy: 0.9782\n",
      "Epoch 2/20\n",
      "1500/1500 [==============================] - 44s 29ms/step - loss: 0.0887 - accuracy: 0.9725 - val_loss: 0.0504 - val_accuracy: 0.9859\n",
      "Epoch 3/20\n",
      "1500/1500 [==============================] - 45s 30ms/step - loss: 0.0670 - accuracy: 0.9787 - val_loss: 0.0440 - val_accuracy: 0.9872\n",
      "Epoch 4/20\n",
      "1500/1500 [==============================] - 46s 31ms/step - loss: 0.0560 - accuracy: 0.9818 - val_loss: 0.0408 - val_accuracy: 0.9876\n",
      "Epoch 5/20\n",
      "1500/1500 [==============================] - 45s 30ms/step - loss: 0.0514 - accuracy: 0.9838 - val_loss: 0.0358 - val_accuracy: 0.9899\n",
      "Epoch 6/20\n",
      "1500/1500 [==============================] - 45s 30ms/step - loss: 0.0453 - accuracy: 0.9851 - val_loss: 0.0334 - val_accuracy: 0.9897\n",
      "Epoch 7/20\n",
      "1500/1500 [==============================] - 45s 30ms/step - loss: 0.0398 - accuracy: 0.9871 - val_loss: 0.0369 - val_accuracy: 0.9892\n",
      "Epoch 8/20\n",
      "1500/1500 [==============================] - 44s 30ms/step - loss: 0.0366 - accuracy: 0.9878 - val_loss: 0.0347 - val_accuracy: 0.9909\n",
      "Epoch 9/20\n",
      "1500/1500 [==============================] - 44s 30ms/step - loss: 0.0342 - accuracy: 0.9884 - val_loss: 0.0339 - val_accuracy: 0.9902\n",
      "Epoch 10/20\n",
      "1500/1500 [==============================] - 44s 30ms/step - loss: 0.0321 - accuracy: 0.9896 - val_loss: 0.0311 - val_accuracy: 0.9915\n",
      "Epoch 11/20\n",
      "1500/1500 [==============================] - 46s 31ms/step - loss: 0.0332 - accuracy: 0.9893 - val_loss: 0.0327 - val_accuracy: 0.9903\n",
      "Epoch 12/20\n",
      "1500/1500 [==============================] - 45s 30ms/step - loss: 0.0273 - accuracy: 0.9911 - val_loss: 0.0307 - val_accuracy: 0.9921\n",
      "Epoch 13/20\n",
      "1500/1500 [==============================] - 45s 30ms/step - loss: 0.0271 - accuracy: 0.9903 - val_loss: 0.0315 - val_accuracy: 0.9912\n",
      "Epoch 14/20\n",
      "1500/1500 [==============================] - 44s 30ms/step - loss: 0.0260 - accuracy: 0.9911 - val_loss: 0.0336 - val_accuracy: 0.9910\n",
      "Epoch 15/20\n",
      "1500/1500 [==============================] - 44s 29ms/step - loss: 0.0233 - accuracy: 0.9919 - val_loss: 0.0326 - val_accuracy: 0.9906\n",
      "Epoch 16/20\n",
      "1500/1500 [==============================] - 44s 29ms/step - loss: 0.0226 - accuracy: 0.9921 - val_loss: 0.0305 - val_accuracy: 0.9914\n",
      "Epoch 17/20\n",
      "1500/1500 [==============================] - 44s 29ms/step - loss: 0.0212 - accuracy: 0.9932 - val_loss: 0.0309 - val_accuracy: 0.9926\n",
      "Epoch 18/20\n",
      "1500/1500 [==============================] - 45s 30ms/step - loss: 0.0229 - accuracy: 0.9915 - val_loss: 0.0301 - val_accuracy: 0.9916\n",
      "Epoch 19/20\n",
      "1500/1500 [==============================] - 45s 30ms/step - loss: 0.0232 - accuracy: 0.9919 - val_loss: 0.0325 - val_accuracy: 0.9922\n",
      "Epoch 20/20\n",
      "1500/1500 [==============================] - 44s 30ms/step - loss: 0.0230 - accuracy: 0.9921 - val_loss: 0.0321 - val_accuracy: 0.9920\n"
     ]
    },
    {
     "data": {
      "text/plain": [
       "<tensorflow.python.keras.callbacks.History at 0x7f3fb491f5c0>"
      ]
     },
     "execution_count": 7,
     "metadata": {
      "tags": []
     },
     "output_type": "execute_result"
    }
   ],
   "source": [
    "model.compile(loss='categorical_crossentropy', optimizer='adam', metrics=['accuracy'])\n",
    "model.fit(x_train, y_train, epochs=20, validation_split=0.2)  #"
   ]
  },
  {
   "cell_type": "code",
   "execution_count": null,
   "metadata": {
    "colab": {
     "base_uri": "https://localhost:8080/"
    },
    "executionInfo": {
     "elapsed": 4192,
     "status": "ok",
     "timestamp": 1611499112874,
     "user": {
      "displayName": "Tae-Hyung Kim",
      "photoUrl": "https://lh3.googleusercontent.com/a-/AOh14GhHVPEGKeIfrDrHTOwxwL6QYScms0ZPakVT2tBlL6k=s64",
      "userId": "11130252197837695405"
     },
     "user_tz": -540
    },
    "id": "sN4Ae4DxxiSw",
    "outputId": "43c19795-b722-4210-be39-adf7ffa156f7"
   },
   "outputs": [
    {
     "name": "stdout",
     "output_type": "stream",
     "text": [
      "313/313 [==============================] - 3s 11ms/step - loss: 0.0244 - accuracy: 0.9927\n"
     ]
    }
   ],
   "source": [
    "predictions = model.evaluate(x_test, y_test)"
   ]
  }
 ],
 "metadata": {
  "colab": {
   "authorship_tag": "ABX9TyNJ0bJkco1n3/3tCWn1QPzu",
   "collapsed_sections": [],
   "name": "2_mnist-simple-cnn-keras.ipynb",
   "provenance": []
  },
  "kernelspec": {
   "display_name": "Python 3",
   "language": "python",
   "name": "python3"
  },
  "language_info": {
   "codemirror_mode": {
    "name": "ipython",
    "version": 3
   },
   "file_extension": ".py",
   "mimetype": "text/x-python",
   "name": "python",
   "nbconvert_exporter": "python",
   "pygments_lexer": "ipython3",
   "version": "3.9.4"
  }
 },
 "nbformat": 4,
 "nbformat_minor": 1
}

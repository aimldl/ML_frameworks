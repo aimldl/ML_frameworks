{
 "cells": [
  {
   "cell_type": "markdown",
   "id": "e0a3922a",
   "metadata": {},
   "source": [
    "# Linear Regresison in TensorFlow\n",
    "\n",
    "* https://www.udemy.com/course/google-cloud-machine-learning-with-tensorflow/learn/lecture/17073540#content"
   ]
  },
  {
   "cell_type": "markdown",
   "id": "3649183c",
   "metadata": {},
   "source": [
    "## Import packages"
   ]
  },
  {
   "cell_type": "code",
   "execution_count": 1,
   "id": "d149b62d",
   "metadata": {},
   "outputs": [],
   "source": [
    "import tensorflow as tf\n",
    "import numpy as np\n",
    "import pandas as pd\n",
    "import matplotlib.pyplot as plt"
   ]
  },
  {
   "cell_type": "code",
   "execution_count": 2,
   "id": "2855301e",
   "metadata": {},
   "outputs": [
    {
     "data": {
      "text/plain": [
       "'2.5.0'"
      ]
     },
     "execution_count": 2,
     "metadata": {},
     "output_type": "execute_result"
    }
   ],
   "source": [
    "tf.__version__"
   ]
  },
  {
   "cell_type": "markdown",
   "id": "a8f63674",
   "metadata": {},
   "source": [
    "## Loading data & preprocessing"
   ]
  },
  {
   "cell_type": "code",
   "execution_count": null,
   "id": "c5ba058f",
   "metadata": {},
   "outputs": [],
   "source": [
    "%%bigquery flights_df --verbose\n",
    "SELECT  date,\n",
    "        airline,\n",
    "        departure_airport,\n",
    "        arrival_airpot,\n",
    "        departure_lat,  # latitude\n",
    "        departure_lon,  # longitude\n",
    "        arrival_lat,\n",
    "        arrival_lon,\n",
    "        departure_deplay,\n",
    "        actual_delay,\n",
    "        \n",
    "    "
   ]
  }
 ],
 "metadata": {
  "kernelspec": {
   "display_name": "Python 3",
   "language": "python",
   "name": "python3"
  },
  "language_info": {
   "codemirror_mode": {
    "name": "ipython",
    "version": 3
   },
   "file_extension": ".py",
   "mimetype": "text/x-python",
   "name": "python",
   "nbconvert_exporter": "python",
   "pygments_lexer": "ipython3",
   "version": "3.9.4"
  }
 },
 "nbformat": 4,
 "nbformat_minor": 5
}

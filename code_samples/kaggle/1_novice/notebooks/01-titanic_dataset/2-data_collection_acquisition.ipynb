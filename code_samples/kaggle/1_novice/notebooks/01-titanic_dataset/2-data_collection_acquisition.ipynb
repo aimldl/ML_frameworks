{
 "cells": [
  {
   "cell_type": "markdown",
   "metadata": {},
   "source": [
    "# 2. 데이터 수집 혹은 데이터 습득 (Data Collection or Data Acquisition)\n",
    "데이터 수집 작업은 머신러닝 모델의 훈련과 테스트에 쓸 데이터를 얻는 과정입니다. `titanic` 문제는 미리 준비된 데이터 파일을 다운로드 받는 정도이므로 수집이라기 보다는 데이터 습득 작업이 더 적합합니다.\n",
    "\n",
    "***Step 1. (로컬 컴퓨터) 웰브라우저에서 아래 주소에 접속합니다.***\n",
    "> https://www.kaggle.com/c/titanic/data\n",
    "\n",
    "***Step 2. 마우스로 `Download All`을 클릭하면, 압축 파일인 `titanic.zip`이 다운로드 됩니다.***"
   ]
  },
  {
   "cell_type": "markdown",
   "metadata": {},
   "source": [
    "<img src=\"images/kaggle_titanic_dataset-download_all.png\">"
   ]
  },
  {
   "cell_type": "markdown",
   "metadata": {},
   "source": [
    "***Step 3. 프로젝트 디렉토리에 `dataset` 디렉토리를 만듭니다.***\n",
    "\n",
    "다운로드 받은 파일을 노트북과 같은 디렉토리에 놓고 써도 되지만, `dataset`이라는 이름의 서브 디렉토리를 만들어서 관리해봅니다. 깔끔하게 데이터를 관리하기 위해서지만, 앞으로도 문제를 풀 때 데이터의 위치에 대해 어느 정도 일관성을 유지하기 위해서 입니다. "
   ]
  },
  {
   "cell_type": "code",
   "execution_count": 10,
   "metadata": {},
   "outputs": [],
   "source": [
    "! mkdir dataset -p"
   ]
  },
  {
   "cell_type": "markdown",
   "metadata": {},
   "source": [
    "이 노트북이 `01-titanic`이라는 디렉토리에 있다면 `01-titanic/dataset`이라는 서브 디렉토리가 생깁니다."
   ]
  },
  {
   "cell_type": "markdown",
   "metadata": {},
   "source": [
    "***Step 4. `titanic.zip`를 `dataset` 디렉토리로 복사합니다.***\n",
    "\n",
    "복사한 후에 터미널에서 리눅스 명령어 `ls`를 실행해서 파일이 있는지 확인해볼 수 있습니다."
   ]
  },
  {
   "cell_type": "code",
   "execution_count": 14,
   "metadata": {},
   "outputs": [
    {
     "name": "stdout",
     "output_type": "stream",
     "text": [
      "titanic.zip\n"
     ]
    }
   ],
   "source": [
    "! ls dataset"
   ]
  },
  {
   "cell_type": "markdown",
   "metadata": {},
   "source": [
    "***Step 5. `titanic.zip`의 압축을 풉니다.***\n",
    "\n",
    "`dataset` 디렉토리로 이동해서 unzip 명령어를 실행합니다. "
   ]
  },
  {
   "cell_type": "code",
   "execution_count": 15,
   "metadata": {},
   "outputs": [
    {
     "name": "stdout",
     "output_type": "stream",
     "text": [
      "Archive:  titanic.zip\n",
      "  inflating: gender_submission.csv   \n",
      "  inflating: test.csv                \n",
      "  inflating: train.csv               \n"
     ]
    }
   ],
   "source": [
    "! cd dataset && unzip titanic.zip"
   ]
  },
  {
   "cell_type": "markdown",
   "metadata": {},
   "source": [
    "`ls` 명령어로 `dataset` 디렉토리에 있는 파일을 확인해보면 3개의 파일이 추가되었음을 알 수 있습니다."
   ]
  },
  {
   "cell_type": "code",
   "execution_count": 16,
   "metadata": {},
   "outputs": [
    {
     "name": "stdout",
     "output_type": "stream",
     "text": [
      "gender_submission.csv  test.csv  titanic.zip  train.csv\n"
     ]
    }
   ],
   "source": [
    "! ls dataset"
   ]
  },
  {
   "cell_type": "markdown",
   "metadata": {},
   "source": [
    "3개의 파일 중 `train.csv`와 `test.csv`이 모델 훈련과 테스트에 쓸 데이터 파일입니다. 이 단계에서 `titanic` 데이터의 습득 작업이 끝났습니다."
   ]
  },
  {
   "cell_type": "markdown",
   "metadata": {},
   "source": [
    "(끝)"
   ]
  }
 ],
 "metadata": {
  "kernelspec": {
   "display_name": "conda_python3",
   "language": "python",
   "name": "conda_python3"
  },
  "language_info": {
   "codemirror_mode": {
    "name": "ipython",
    "version": 3
   },
   "file_extension": ".py",
   "mimetype": "text/x-python",
   "name": "python",
   "nbconvert_exporter": "python",
   "pygments_lexer": "ipython3",
   "version": "3.6.10"
  }
 },
 "nbformat": 4,
 "nbformat_minor": 4
}

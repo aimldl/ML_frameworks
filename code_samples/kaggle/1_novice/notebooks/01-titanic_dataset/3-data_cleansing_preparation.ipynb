{
 "cells": [
  {
   "cell_type": "markdown",
   "metadata": {},
   "source": [
    "# 3. 데이터 정제 및 준비 (Data Cleansing & Preparation)\n",
    "\n",
    "데이터 습득 (Data Acquisition) 혹은 데이터 수집 (Data Collection) 작업 후에 데이터 정제 (Data Cleansing) 및 데이터 준비 (Data Preparation) 작업이 필요합니다. 실무에서 직접 데이터를 만들어야 하는 경우, 불필요한 노이즈를 제거하거나 비어있는 칸을 처리하는 등 데이터를 정제한 후에, 나중에 데이터를 쓰게 될 머신러닝 알고리즘에 맞는 형태로 데이터 준비해줘야 합니다. `titanic` 데이터 세트는 이런 추가 작업을 캐글 측이 이미 해놓은 (머신러닝용으로 이미) `준비된 데이터`입니다. 그래서 고단한 데이터 정제 및 준비 작업을 건너뛸 수 있습니다."
   ]
  },
  {
   "cell_type": "markdown",
   "metadata": {},
   "source": [
    "(끝)"
   ]
  }
 ],
 "metadata": {
  "kernelspec": {
   "display_name": "conda_python3",
   "language": "python",
   "name": "conda_python3"
  },
  "language_info": {
   "codemirror_mode": {
    "name": "ipython",
    "version": 3
   },
   "file_extension": ".py",
   "mimetype": "text/x-python",
   "name": "python",
   "nbconvert_exporter": "python",
   "pygments_lexer": "ipython3",
   "version": "3.6.10"
  }
 },
 "nbformat": 4,
 "nbformat_minor": 4
}

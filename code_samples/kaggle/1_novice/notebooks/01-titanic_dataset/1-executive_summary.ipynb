{
 "cells": [
  {
   "cell_type": "markdown",
   "metadata": {},
   "source": [
    "# 1. 개요 및 요약 (Overview & Executive Summary)\n",
    "\n"
   ]
  },
  {
   "cell_type": "markdown",
   "metadata": {},
   "source": [
    "# 2. 관련\n",
    "https://www.kaggle.com/c/titanic\n",
    "* 권철민, \"파이썬 머신러닝 완벽 가이드\", 개정판, 위키북스, 2020-02-07\n",
    "  * 1장 4절. 데이터 핸들링 - 판다스, pp.39~\n",
    "  * 2장 6절. 사이킷런으로 수행하는 타이타닉 생존자 예측, p.131~p"
   ]
  },
  {
   "cell_type": "code",
   "execution_count": null,
   "metadata": {},
   "outputs": [],
   "source": []
  }
 ],
 "metadata": {
  "kernelspec": {
   "display_name": "conda_python3",
   "language": "python",
   "name": "conda_python3"
  },
  "language_info": {
   "codemirror_mode": {
    "name": "ipython",
    "version": 3
   },
   "file_extension": ".py",
   "mimetype": "text/x-python",
   "name": "python",
   "nbconvert_exporter": "python",
   "pygments_lexer": "ipython3",
   "version": "3.6.10"
  }
 },
 "nbformat": 4,
 "nbformat_minor": 4
}
